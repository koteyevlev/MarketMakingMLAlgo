{
 "cells": [
  {
   "cell_type": "markdown",
   "metadata": {},
   "source": [
    "# Подгружаем все что может понадобится"
   ]
  },
  {
   "cell_type": "code",
   "execution_count": 1,
   "metadata": {
    "scrolled": false
   },
   "outputs": [
    {
     "name": "stdout",
     "output_type": "stream",
     "text": [
      "INFO: Pandarallel will run on 12 workers.\n",
      "INFO: Pandarallel will use standard multiprocessing data transfer (pipe) to transfer data between the main process and workers.\n"
     ]
    }
   ],
   "source": [
    "import pandas as pd\n",
    "import numpy as np\n",
    "import sys\n",
    "import datetime\n",
    "import matplotlib.pyplot as plt\n",
    "from sortedcontainers import SortedDict\n",
    "import warnings\n",
    "import math\n",
    "from copy import deepcopy\n",
    "from tqdm import tqdm\n",
    "import matplotlib as mpl\n",
    "import platform\n",
    "from collections import Counter\n",
    "from IPython.core.display import HTML\n",
    "import os\n",
    "from copy import deepcopy\n",
    "from sklearn.metrics import f1_score\n",
    "import json\n",
    "from sklearn.metrics import roc_auc_score\n",
    "from copy import deepcopy\n",
    "from catboost import CatBoostClassifier\n",
    "from statistics import median\n",
    "from sklearn.linear_model import LinearRegression, LogisticRegression\n",
    "from sklearn.ensemble import RandomForestRegressor, RandomForestClassifier\n",
    "from lightautoml.automl.presets.tabular_presets import TabularAutoML\n",
    "from lightautoml.tasks import Task\n",
    "from lightautoml.validation.np_iterators import TimeSeriesIterator\n",
    "from datetime import timedelta\n",
    "from lightautoml.utils.profiler import Profiler\n",
    "p = Profiler()\n",
    "p.change_deco_settings({'enabled': True})\n",
    "\n",
    "from pandarallel import pandarallel\n",
    "pandarallel.initialize(progress_bar=True)\n",
    "tqdm.pandas()\n",
    "\n",
    "\n",
    "warnings.filterwarnings('ignore')\n",
    "pd.options.display.max_rows = 10000\n",
    "\n",
    "\n"
   ]
  },
  {
   "cell_type": "code",
   "execution_count": null,
   "metadata": {},
   "outputs": [],
   "source": []
  },
  {
   "cell_type": "code",
   "execution_count": null,
   "metadata": {},
   "outputs": [],
   "source": []
  },
  {
   "cell_type": "code",
   "execution_count": null,
   "metadata": {},
   "outputs": [],
   "source": []
  },
  {
   "cell_type": "code",
   "execution_count": 2,
   "metadata": {
    "scrolled": true
   },
   "outputs": [],
   "source": [
    "#%pip install --user lightautoml"
   ]
  },
  {
   "cell_type": "code",
   "execution_count": null,
   "metadata": {},
   "outputs": [],
   "source": []
  },
  {
   "cell_type": "code",
   "execution_count": null,
   "metadata": {},
   "outputs": [],
   "source": []
  },
  {
   "cell_type": "markdown",
   "metadata": {},
   "source": [
    "# Посмотрим на наши данные и почистим их"
   ]
  },
  {
   "cell_type": "code",
   "execution_count": 3,
   "metadata": {},
   "outputs": [
    {
     "data": {
      "text/html": [
       "<div>\n",
       "<style scoped>\n",
       "    .dataframe tbody tr th:only-of-type {\n",
       "        vertical-align: middle;\n",
       "    }\n",
       "\n",
       "    .dataframe tbody tr th {\n",
       "        vertical-align: top;\n",
       "    }\n",
       "\n",
       "    .dataframe thead th {\n",
       "        text-align: right;\n",
       "    }\n",
       "</style>\n",
       "<table border=\"1\" class=\"dataframe\">\n",
       "  <thead>\n",
       "    <tr style=\"text-align: right;\">\n",
       "      <th></th>\n",
       "      <th>NO</th>\n",
       "      <th>SECCODE</th>\n",
       "      <th>BUYSELL</th>\n",
       "      <th>TIME</th>\n",
       "      <th>ORDERNO</th>\n",
       "      <th>ACTION</th>\n",
       "      <th>PRICE</th>\n",
       "      <th>VOLUME</th>\n",
       "      <th>TRADENO</th>\n",
       "      <th>TRADEPRICE</th>\n",
       "    </tr>\n",
       "  </thead>\n",
       "  <tbody>\n",
       "    <tr>\n",
       "      <th>26214948</th>\n",
       "      <td>26214949</td>\n",
       "      <td>FXIT</td>\n",
       "      <td>S</td>\n",
       "      <td>184457675</td>\n",
       "      <td>12836191</td>\n",
       "      <td>0</td>\n",
       "      <td>2461.0000</td>\n",
       "      <td>11285</td>\n",
       "      <td>nan</td>\n",
       "      <td>NaN</td>\n",
       "    </tr>\n",
       "    <tr>\n",
       "      <th>26214949</th>\n",
       "      <td>26214950</td>\n",
       "      <td>OGKB</td>\n",
       "      <td>S</td>\n",
       "      <td>184458220</td>\n",
       "      <td>12805810</td>\n",
       "      <td>0</td>\n",
       "      <td>0.2164</td>\n",
       "      <td>1000</td>\n",
       "      <td>nan</td>\n",
       "      <td>NaN</td>\n",
       "    </tr>\n",
       "    <tr>\n",
       "      <th>26214950</th>\n",
       "      <td>26214951</td>\n",
       "      <td>SBER</td>\n",
       "      <td>B</td>\n",
       "      <td>184458269</td>\n",
       "      <td>12819204</td>\n",
       "      <td>0</td>\n",
       "      <td>69.0900</td>\n",
       "      <td>30</td>\n",
       "      <td>nan</td>\n",
       "      <td>NaN</td>\n",
       "    </tr>\n",
       "    <tr>\n",
       "      <th>26214951</th>\n",
       "      <td>26214952</td>\n",
       "      <td>VZRZP</td>\n",
       "      <td>S</td>\n",
       "      <td>184458683</td>\n",
       "      <td>6479754</td>\n",
       "      <td>0</td>\n",
       "      <td>91.5000</td>\n",
       "      <td>20</td>\n",
       "      <td>nan</td>\n",
       "      <td>NaN</td>\n",
       "    </tr>\n",
       "    <tr>\n",
       "      <th>26214952</th>\n",
       "      <td>26214953</td>\n",
       "      <td>FXGD</td>\n",
       "      <td>S</td>\n",
       "      <td>184459634</td>\n",
       "      <td>12836206</td>\n",
       "      <td>0</td>\n",
       "      <td>519.0000</td>\n",
       "      <td>56500</td>\n",
       "      <td>nan</td>\n",
       "      <td>NaN</td>\n",
       "    </tr>\n",
       "  </tbody>\n",
       "</table>\n",
       "</div>"
      ],
      "text/plain": [
       "                NO SECCODE BUYSELL       TIME   ORDERNO  ACTION      PRICE  \\\n",
       "26214948  26214949    FXIT       S  184457675  12836191       0  2461.0000   \n",
       "26214949  26214950    OGKB       S  184458220  12805810       0     0.2164   \n",
       "26214950  26214951    SBER       B  184458269  12819204       0    69.0900   \n",
       "26214951  26214952   VZRZP       S  184458683   6479754       0    91.5000   \n",
       "26214952  26214953    FXGD       S  184459634  12836206       0   519.0000   \n",
       "\n",
       "          VOLUME TRADENO  TRADEPRICE  \n",
       "26214948   11285     nan         NaN  \n",
       "26214949    1000     nan         NaN  \n",
       "26214950      30     nan         NaN  \n",
       "26214951      20     nan         NaN  \n",
       "26214952   56500     nan         NaN  "
      ]
     },
     "execution_count": 3,
     "metadata": {},
     "output_type": "execute_result"
    }
   ],
   "source": [
    "#fol = pd.read_csv(\"/Users/a185583357/Downloads/MMzip/fol/LKOH.txt\", sep=\",\")\n",
    "\n",
    "#TODO Inspect 20150923 - lots of errors there\n",
    "fol = pd.read_csv(\"/Users/a185583357/Desktop/MOEX/OrderLog20150310/OrderLog20150310.txt\", sep=',')\n",
    "fol[\"TRADENO\"] = fol[\"TRADENO\"].astype(str)\n",
    "fol.tail()"
   ]
  },
  {
   "cell_type": "code",
   "execution_count": 4,
   "metadata": {
    "scrolled": false
   },
   "outputs": [
    {
     "data": {
      "text/plain": [
       "[('GAZP', 2997383),\n",
       " ('SBER', 2290044),\n",
       " ('SNGS', 2087074),\n",
       " ('CHMF', 1425078),\n",
       " ('RTKM', 1339749),\n",
       " ('LKOH', 1049386),\n",
       " ('ROSN', 844480),\n",
       " ('SBERP', 738394),\n",
       " ('VTBR', 714055),\n",
       " ('HYDR', 713783),\n",
       " ('SNGSP', 712352),\n",
       " ('MGNT', 704247),\n",
       " ('TRNFP', 694222),\n",
       " ('GMKN', 631399),\n",
       " ('NLMK', 593623),\n",
       " ('MTSS', 593605),\n",
       " ('MTLR', 581235),\n",
       " ('MOEX', 551809),\n",
       " ('URKA', 468585),\n",
       " ('TATN', 459544),\n",
       " ('ALRS', 456695),\n",
       " ('MAGN', 436832),\n",
       " ('EONR', 418226),\n",
       " ('FEES', 377768),\n",
       " ('AFKS', 366013),\n",
       " ('IRAO', 330446),\n",
       " ('MVID', 258997),\n",
       " ('NVTK', 251434),\n",
       " ('OGKB', 191821),\n",
       " ('SIBN', 191810)]"
      ]
     },
     "execution_count": 4,
     "metadata": {},
     "output_type": "execute_result"
    }
   ],
   "source": [
    "\n",
    "\n",
    "count = Counter(fol[\"SECCODE\"]).most_common(30)\n",
    "out = []\n",
    "for share in count:\n",
    "    out.append(share[0])\n",
    "count"
   ]
  },
  {
   "cell_type": "code",
   "execution_count": null,
   "metadata": {},
   "outputs": [],
   "source": []
  },
  {
   "cell_type": "code",
   "execution_count": null,
   "metadata": {
    "scrolled": true
   },
   "outputs": [],
   "source": []
  },
  {
   "cell_type": "code",
   "execution_count": 5,
   "metadata": {
    "scrolled": true
   },
   "outputs": [
    {
     "data": {
      "text/html": [
       "<div>\n",
       "<style scoped>\n",
       "    .dataframe tbody tr th:only-of-type {\n",
       "        vertical-align: middle;\n",
       "    }\n",
       "\n",
       "    .dataframe tbody tr th {\n",
       "        vertical-align: top;\n",
       "    }\n",
       "\n",
       "    .dataframe thead th {\n",
       "        text-align: right;\n",
       "    }\n",
       "</style>\n",
       "<table border=\"1\" class=\"dataframe\">\n",
       "  <thead>\n",
       "    <tr style=\"text-align: right;\">\n",
       "      <th></th>\n",
       "      <th>NO</th>\n",
       "      <th>SECCODE</th>\n",
       "      <th>BUYSELL</th>\n",
       "      <th>TIME</th>\n",
       "      <th>ORDERNO</th>\n",
       "      <th>ACTION</th>\n",
       "      <th>PRICE</th>\n",
       "      <th>VOLUME</th>\n",
       "      <th>TRADENO</th>\n",
       "      <th>TRADEPRICE</th>\n",
       "    </tr>\n",
       "  </thead>\n",
       "  <tbody>\n",
       "    <tr>\n",
       "      <th>0</th>\n",
       "      <td>1</td>\n",
       "      <td>ENRU</td>\n",
       "      <td>B</td>\n",
       "      <td>100000000</td>\n",
       "      <td>1</td>\n",
       "      <td>1</td>\n",
       "      <td>0.785</td>\n",
       "      <td>100000</td>\n",
       "      <td>nan</td>\n",
       "      <td>NaN</td>\n",
       "    </tr>\n",
       "    <tr>\n",
       "      <th>1</th>\n",
       "      <td>2</td>\n",
       "      <td>SBERP</td>\n",
       "      <td>B</td>\n",
       "      <td>100000000</td>\n",
       "      <td>2</td>\n",
       "      <td>1</td>\n",
       "      <td>52.400</td>\n",
       "      <td>10000</td>\n",
       "      <td>nan</td>\n",
       "      <td>NaN</td>\n",
       "    </tr>\n",
       "    <tr>\n",
       "      <th>2</th>\n",
       "      <td>3</td>\n",
       "      <td>AFKS</td>\n",
       "      <td>B</td>\n",
       "      <td>100000000</td>\n",
       "      <td>3</td>\n",
       "      <td>1</td>\n",
       "      <td>15.880</td>\n",
       "      <td>100</td>\n",
       "      <td>nan</td>\n",
       "      <td>NaN</td>\n",
       "    </tr>\n",
       "    <tr>\n",
       "      <th>3</th>\n",
       "      <td>4</td>\n",
       "      <td>AFLT</td>\n",
       "      <td>B</td>\n",
       "      <td>100000000</td>\n",
       "      <td>4</td>\n",
       "      <td>1</td>\n",
       "      <td>37.000</td>\n",
       "      <td>100</td>\n",
       "      <td>nan</td>\n",
       "      <td>NaN</td>\n",
       "    </tr>\n",
       "    <tr>\n",
       "      <th>4</th>\n",
       "      <td>5</td>\n",
       "      <td>ALRS</td>\n",
       "      <td>S</td>\n",
       "      <td>100000000</td>\n",
       "      <td>5</td>\n",
       "      <td>1</td>\n",
       "      <td>77.000</td>\n",
       "      <td>20000</td>\n",
       "      <td>nan</td>\n",
       "      <td>NaN</td>\n",
       "    </tr>\n",
       "  </tbody>\n",
       "</table>\n",
       "</div>"
      ],
      "text/plain": [
       "   NO SECCODE BUYSELL       TIME  ORDERNO  ACTION   PRICE  VOLUME TRADENO  \\\n",
       "0   1    ENRU       B  100000000        1       1   0.785  100000     nan   \n",
       "1   2   SBERP       B  100000000        2       1  52.400   10000     nan   \n",
       "2   3    AFKS       B  100000000        3       1  15.880     100     nan   \n",
       "3   4    AFLT       B  100000000        4       1  37.000     100     nan   \n",
       "4   5    ALRS       S  100000000        5       1  77.000   20000     nan   \n",
       "\n",
       "   TRADEPRICE  \n",
       "0         NaN  \n",
       "1         NaN  \n",
       "2         NaN  \n",
       "3         NaN  \n",
       "4         NaN  "
      ]
     },
     "execution_count": 5,
     "metadata": {},
     "output_type": "execute_result"
    }
   ],
   "source": [
    "fol.head(5)"
   ]
  },
  {
   "cell_type": "markdown",
   "metadata": {},
   "source": [
    "#  Соберем стакан из этого"
   ]
  },
  {
   "cell_type": "code",
   "execution_count": null,
   "metadata": {},
   "outputs": [],
   "source": []
  },
  {
   "cell_type": "markdown",
   "metadata": {},
   "source": [
    "Общая идея взята из статьи - https://habr.com/ru/post/276635/"
   ]
  },
  {
   "cell_type": "code",
   "execution_count": 6,
   "metadata": {},
   "outputs": [],
   "source": [
    "from sortedcontainers import SortedDict\n",
    "\n",
    "class DOM:\n",
    "    def __init__(self):\n",
    "        self.bid = SortedDict() #descending\n",
    "        self.ask = SortedDict()\n",
    "        self.bid_active_order = dict()\n",
    "        self.ask_active_order = dict()\n",
    "        self.day = None\n",
    "        self.flag = None\n",
    "        \n",
    "    \n",
    "    def check_order(self, data):\n",
    "        if self.day != data[\"DATE\"]:\n",
    "            self.clean_dom()\n",
    "            self.day = data[\"DATE\"]\n",
    "        \n",
    "        if data[\"ACTION\"] == 1:\n",
    "            self.check_add(data)\n",
    "        elif data[\"ACTION\"] == 0:\n",
    "            self.delete_order(data)\n",
    "        else:\n",
    "            self.trade(data)\n",
    "        \n",
    "    ## First part - adding order\n",
    "        \n",
    "    def check_add(self, data):\n",
    "        if data[\"PRICE\"] < 0.000000001:\n",
    "            self.add_order(data)\n",
    "            pass\n",
    "        else:\n",
    "            self.add_order(data)\n",
    "                \n",
    "    \n",
    "    def add_order(self, data):\n",
    "        if data['BUYSELL'] == \"B\":\n",
    "            self.bid_active_order[data[\"ORDERNO\"]] = (data[\"PRICE\"], data[\"VOLUME\"])\n",
    "            if data[\"PRICE\"] not in self.bid:\n",
    "                self.bid[data[\"PRICE\"]] = data[\"VOLUME\"]\n",
    "            else:\n",
    "                self.bid[data[\"PRICE\"]] += data[\"VOLUME\"]\n",
    "        else:\n",
    "            self.ask_active_order[data[\"ORDERNO\"]] = (data[\"PRICE\"], data[\"VOLUME\"])\n",
    "            if data[\"PRICE\"] not in self.ask:\n",
    "                self.ask[data[\"PRICE\"]] = data[\"VOLUME\"]\n",
    "            else:\n",
    "                self.ask[data[\"PRICE\"]] += data[\"VOLUME\"]\n",
    "    ## Second part - delete order\n",
    "    \n",
    "    def delete_order(self, data):\n",
    "        if data['BUYSELL'] == \"B\":\n",
    "            self.bid[data[\"PRICE\"]] -= self.bid_active_order[data[\"ORDERNO\"]][1]\n",
    "            del self.bid_active_order[data[\"ORDERNO\"]]\n",
    "            if self.bid[data[\"PRICE\"]] < 0.000000001:\n",
    "                del self.bid[data[\"PRICE\"]]\n",
    "        else:\n",
    "            self.ask[data[\"PRICE\"]] -= self.ask_active_order[data[\"ORDERNO\"]][1]\n",
    "            del self.ask_active_order[data[\"ORDERNO\"]]\n",
    "            if self.ask[data[\"PRICE\"]] < 0.000000001:\n",
    "                del self.ask[data[\"PRICE\"]]\n",
    "    \n",
    "    ## Third part - match order   \n",
    "    def trade(self, data):\n",
    "        if data['BUYSELL'] == \"B\":\n",
    "            self.exec_buy_order(data)\n",
    "        else:\n",
    "            self.exec_sell_order(data)\n",
    "    \n",
    "\n",
    "    def exec_sell_order(self, data):\n",
    "        self.flag = None\n",
    "        order = self.ask_active_order[data[\"ORDERNO\"]]\n",
    "        if data[\"VOLUME\"] < order[1]:\n",
    "            self.ask_active_order[data[\"ORDERNO\"]] = (data[\"PRICE\"], \n",
    "                                                      order[1] - data[\"VOLUME\"])\n",
    "        elif data[\"VOLUME\"] == order[1]:\n",
    "            del self.ask_active_order[data[\"ORDERNO\"]]\n",
    "        else:\n",
    "            #iseberg or error\n",
    "            #raise Exception(self.ask_active_order[data[\"ORDERNO\"]], data)\n",
    "            del self.ask_active_order[data[\"ORDERNO\"]]\n",
    "            self.flag = data[\"ORDERNO\"]\n",
    "            \n",
    "        \n",
    "        if data[\"PRICE\"] not in self.ask:\n",
    "            raise Exception\n",
    "            pass\n",
    "        else:\n",
    "            self.ask[data[\"PRICE\"]] -= min(order[1], data[\"VOLUME\"])\n",
    "            if self.ask[data[\"PRICE\"]] < 0.000000001:\n",
    "                del self.ask[data[\"PRICE\"]]\n",
    "\n",
    "    \n",
    "    \n",
    "    def exec_buy_order(self, data):\n",
    "        self.flag = None\n",
    "        order = self.bid_active_order[data[\"ORDERNO\"]]\n",
    "        if data[\"VOLUME\"] < order[1]:\n",
    "            self.bid_active_order[data[\"ORDERNO\"]] = (data[\"PRICE\"], \n",
    "                                                      order[1] - data[\"VOLUME\"])\n",
    "        elif data[\"VOLUME\"] == order[1]:\n",
    "            del self.bid_active_order[data[\"ORDERNO\"]]\n",
    "        else:\n",
    "            #iseberg or error\n",
    "            #raise Exception(self.bid_active_order[data[\"ORDERNO\"]], data)\n",
    "            del self.bid_active_order[data[\"ORDERNO\"]]\n",
    "            flag = data[\"ORDERNO\"]\n",
    "        \n",
    "        if data[\"PRICE\"] not in self.bid:\n",
    "            raise Exception(data, self.bid)\n",
    "            pass\n",
    "        else:\n",
    "            self.bid[data[\"PRICE\"]] -= min(order[1], data[\"VOLUME\"])\n",
    "            if self.bid[data[\"PRICE\"]] < 0.000000001:\n",
    "                del self.bid[data[\"PRICE\"]]\n",
    "    \n",
    "    ## Others\n",
    "    \n",
    "        \n",
    "    def clean_dom(self):\n",
    "        self.__init__()\n",
    "        \n",
    "        "
   ]
  },
  {
   "cell_type": "code",
   "execution_count": 7,
   "metadata": {},
   "outputs": [
    {
     "data": {
      "text/plain": [
       "(2115840, 12)"
      ]
     },
     "execution_count": 7,
     "metadata": {},
     "output_type": "execute_result"
    }
   ],
   "source": [
    "date = \"20150310\"\n",
    "data = fol[fol[\"SECCODE\"] == \"SBER\"]\n",
    "data = data[data[\"ACTION\"] != 2]\n",
    "data[\"DATE\"] = date\n",
    "records = data.to_dict(\"records\")\n",
    "data.reset_index(inplace=True)\n",
    "data.shape"
   ]
  },
  {
   "cell_type": "code",
   "execution_count": 8,
   "metadata": {},
   "outputs": [
    {
     "name": "stderr",
     "output_type": "stream",
     "text": [
      "100%|██████████| 2115840/2115840 [00:05<00:00, 372481.79it/s]\n"
     ]
    }
   ],
   "source": [
    "dom = DOM()\n",
    "errors = 0\n",
    "isebergs = pd.read_csv(\"/Users/a185583357/Desktop/MOEX/OrderLog\" + date + \"/isebergs\" + date + \".csv\", index_col=0).to_dict()[\"vol\"]\n",
    "\n",
    "for i in tqdm(range(len(records))):\n",
    "    record = records[i].copy()\n",
    "    if record[\"ACTION\"] == 1 and record[\"ORDERNO\"] in isebergs:\n",
    "        record[\"VOLUME\"] = isebergs[record[\"ORDERNO\"]]\n",
    "    try:\n",
    "        out = dom.check_order(record)\n",
    "    except Exception as e:\n",
    "        print(e)\n",
    "        if record[\"ACTION\"] == 1:\n",
    "            print(\"MAYBE Some problem, cant add order\")\n",
    "            dom.check_order(record)\n",
    "            raise Exception\n",
    "        errors += 1"
   ]
  },
  {
   "cell_type": "code",
   "execution_count": null,
   "metadata": {},
   "outputs": [],
   "source": []
  },
  {
   "cell_type": "markdown",
   "metadata": {},
   "source": [
    "# Создадим стакан способный сам матчить все заявки и сравним с оригиналом"
   ]
  },
  {
   "cell_type": "code",
   "execution_count": 9,
   "metadata": {},
   "outputs": [
    {
     "data": {
      "text/plain": [
       "(2115840, 12)"
      ]
     },
     "execution_count": 9,
     "metadata": {},
     "output_type": "execute_result"
    }
   ],
   "source": [
    "date = \"20150310\"\n",
    "data = fol[fol[\"SECCODE\"] == \"SBER\"]\n",
    "data = data[data[\"ACTION\"] != 2]\n",
    "data[\"DATE\"] = date\n",
    "records = data.to_dict(\"records\")\n",
    "data.reset_index(inplace=True)\n",
    "data.shape"
   ]
  },
  {
   "cell_type": "code",
   "execution_count": 10,
   "metadata": {},
   "outputs": [
    {
     "data": {
      "text/html": [
       "<div>\n",
       "<style scoped>\n",
       "    .dataframe tbody tr th:only-of-type {\n",
       "        vertical-align: middle;\n",
       "    }\n",
       "\n",
       "    .dataframe tbody tr th {\n",
       "        vertical-align: top;\n",
       "    }\n",
       "\n",
       "    .dataframe thead th {\n",
       "        text-align: right;\n",
       "    }\n",
       "</style>\n",
       "<table border=\"1\" class=\"dataframe\">\n",
       "  <thead>\n",
       "    <tr style=\"text-align: right;\">\n",
       "      <th></th>\n",
       "      <th>index</th>\n",
       "      <th>NO</th>\n",
       "      <th>SECCODE</th>\n",
       "      <th>BUYSELL</th>\n",
       "      <th>TIME</th>\n",
       "      <th>ORDERNO</th>\n",
       "      <th>ACTION</th>\n",
       "      <th>PRICE</th>\n",
       "      <th>VOLUME</th>\n",
       "      <th>TRADENO</th>\n",
       "      <th>TRADEPRICE</th>\n",
       "      <th>DATE</th>\n",
       "    </tr>\n",
       "  </thead>\n",
       "  <tbody>\n",
       "    <tr>\n",
       "      <th>0</th>\n",
       "      <td>47</td>\n",
       "      <td>48</td>\n",
       "      <td>SBER</td>\n",
       "      <td>B</td>\n",
       "      <td>100000000</td>\n",
       "      <td>48</td>\n",
       "      <td>1</td>\n",
       "      <td>70.00</td>\n",
       "      <td>20</td>\n",
       "      <td>nan</td>\n",
       "      <td>NaN</td>\n",
       "      <td>20150310</td>\n",
       "    </tr>\n",
       "    <tr>\n",
       "      <th>1</th>\n",
       "      <td>49</td>\n",
       "      <td>50</td>\n",
       "      <td>SBER</td>\n",
       "      <td>B</td>\n",
       "      <td>100000000</td>\n",
       "      <td>50</td>\n",
       "      <td>1</td>\n",
       "      <td>70.50</td>\n",
       "      <td>880</td>\n",
       "      <td>nan</td>\n",
       "      <td>NaN</td>\n",
       "      <td>20150310</td>\n",
       "    </tr>\n",
       "    <tr>\n",
       "      <th>2</th>\n",
       "      <td>94</td>\n",
       "      <td>95</td>\n",
       "      <td>SBER</td>\n",
       "      <td>B</td>\n",
       "      <td>100000000</td>\n",
       "      <td>95</td>\n",
       "      <td>1</td>\n",
       "      <td>72.45</td>\n",
       "      <td>15000</td>\n",
       "      <td>nan</td>\n",
       "      <td>NaN</td>\n",
       "      <td>20150310</td>\n",
       "    </tr>\n",
       "    <tr>\n",
       "      <th>3</th>\n",
       "      <td>138</td>\n",
       "      <td>139</td>\n",
       "      <td>SBER</td>\n",
       "      <td>B</td>\n",
       "      <td>100000000</td>\n",
       "      <td>139</td>\n",
       "      <td>1</td>\n",
       "      <td>72.23</td>\n",
       "      <td>10700</td>\n",
       "      <td>nan</td>\n",
       "      <td>NaN</td>\n",
       "      <td>20150310</td>\n",
       "    </tr>\n",
       "    <tr>\n",
       "      <th>4</th>\n",
       "      <td>147</td>\n",
       "      <td>148</td>\n",
       "      <td>SBER</td>\n",
       "      <td>B</td>\n",
       "      <td>100000000</td>\n",
       "      <td>148</td>\n",
       "      <td>1</td>\n",
       "      <td>71.00</td>\n",
       "      <td>100</td>\n",
       "      <td>nan</td>\n",
       "      <td>NaN</td>\n",
       "      <td>20150310</td>\n",
       "    </tr>\n",
       "  </tbody>\n",
       "</table>\n",
       "</div>"
      ],
      "text/plain": [
       "   index   NO SECCODE BUYSELL       TIME  ORDERNO  ACTION  PRICE  VOLUME  \\\n",
       "0     47   48    SBER       B  100000000       48       1  70.00      20   \n",
       "1     49   50    SBER       B  100000000       50       1  70.50     880   \n",
       "2     94   95    SBER       B  100000000       95       1  72.45   15000   \n",
       "3    138  139    SBER       B  100000000      139       1  72.23   10700   \n",
       "4    147  148    SBER       B  100000000      148       1  71.00     100   \n",
       "\n",
       "  TRADENO  TRADEPRICE      DATE  \n",
       "0     nan         NaN  20150310  \n",
       "1     nan         NaN  20150310  \n",
       "2     nan         NaN  20150310  \n",
       "3     nan         NaN  20150310  \n",
       "4     nan         NaN  20150310  "
      ]
     },
     "execution_count": 10,
     "metadata": {},
     "output_type": "execute_result"
    }
   ],
   "source": [
    "data.head()"
   ]
  },
  {
   "cell_type": "code",
   "execution_count": 11,
   "metadata": {},
   "outputs": [],
   "source": [
    "class Matching_Engine:\n",
    "    def __init__(self):\n",
    "        self.bid = SortedDict()  # descending\n",
    "        self.ask = SortedDict()\n",
    "        self.bid_active_order = dict()\n",
    "        self.ask_active_order = dict()\n",
    "        self.bid_FIFO = dict()\n",
    "        self.ask_FIFO = dict()\n",
    "        self.day = None\n",
    "        self.share_name = \"LKOH\"\n",
    "        self.trade_log = []\n",
    "\n",
    "    def check_order(self, data):\n",
    "        if self.day != data[\"DATE\"]:\n",
    "            self.clean_dom()\n",
    "            self.share_name = data[\"SECCODE\"]\n",
    "            self.day = data[\"DATE\"]\n",
    "\n",
    "        if data[\"ACTION\"] == 1:\n",
    "            return self.check_add(data, new_trades=[])\n",
    "        elif data[\"ACTION\"] == 2:\n",
    "            pass\n",
    "        else:\n",
    "            self.delete_order(data)\n",
    "\n",
    "    ## First part - adding order\n",
    "\n",
    "    def check_add(self, data, rec_flag=False, new_trades=[]):\n",
    "        if (len(self.ask) > 0 and data['BUYSELL'] == \"B\" and \\\n",
    "            (data[\"PRICE\"] >= self.ask.peekitem(0)[0] or data[\"PRICE\"] < 0.000001)) or \\\n",
    "                (len(self.bid) > 0 and data['BUYSELL'] == \"S\" and data[\"PRICE\"] <= self.bid.peekitem(-1)[0]):\n",
    "            if not rec_flag:\n",
    "                self.add_order(data)\n",
    "            return self.trade(data, new_trades=new_trades)\n",
    "        else:\n",
    "            if not rec_flag:\n",
    "                self.add_order(data)\n",
    "\n",
    "    def add_order(self, data):\n",
    "        if data['BUYSELL'] == \"B\":\n",
    "            self.bid_active_order[data[\"ORDERNO\"]] = (data[\"PRICE\"], data[\"VOLUME\"])\n",
    "            if data[\"PRICE\"] not in self.bid:\n",
    "                self.bid[data[\"PRICE\"]] = data[\"VOLUME\"]\n",
    "                self.bid_FIFO[data[\"PRICE\"]] = [data[\"ORDERNO\"]]\n",
    "            else:\n",
    "                self.bid[data[\"PRICE\"]] += data[\"VOLUME\"]\n",
    "                self.bid_FIFO[data[\"PRICE\"]].append(data[\"ORDERNO\"])\n",
    "        else:\n",
    "            self.ask_active_order[data[\"ORDERNO\"]] = (data[\"PRICE\"], data[\"VOLUME\"])\n",
    "            if data[\"PRICE\"] not in self.ask:\n",
    "                self.ask[data[\"PRICE\"]] = data[\"VOLUME\"]\n",
    "                self.ask_FIFO[data[\"PRICE\"]] = [data[\"ORDERNO\"]]\n",
    "            else:\n",
    "                self.ask[data[\"PRICE\"]] += data[\"VOLUME\"]\n",
    "                self.ask_FIFO[data[\"PRICE\"]].append(data[\"ORDERNO\"])\n",
    "\n",
    "    ## Second part - delete order\n",
    "\n",
    "    def delete_order(self, data):\n",
    "        if data['BUYSELL'] == \"B\":\n",
    "            self.bid_FIFO[data[\"PRICE\"]].pop(self.bid_FIFO[data[\"PRICE\"]].index(data[\"ORDERNO\"]))\n",
    "            self.bid[data[\"PRICE\"]] -= self.bid_active_order[data[\"ORDERNO\"]][1]\n",
    "            if len(self.bid_FIFO[data[\"PRICE\"]]) < 1:\n",
    "                del self.bid_FIFO[data[\"PRICE\"]]\n",
    "            del self.bid_active_order[data[\"ORDERNO\"]]\n",
    "            if self.bid[data[\"PRICE\"]] < 0.000000001:\n",
    "                del self.bid[data[\"PRICE\"]]\n",
    "        else:\n",
    "            self.ask[data[\"PRICE\"]] -= self.ask_active_order[data[\"ORDERNO\"]][1]\n",
    "            self.ask_FIFO[data[\"PRICE\"]].pop(self.ask_FIFO[data[\"PRICE\"]].index(data[\"ORDERNO\"]))\n",
    "            if len(self.ask_FIFO[data[\"PRICE\"]]) < 1:\n",
    "                del self.ask_FIFO[data[\"PRICE\"]]\n",
    "            del self.ask_active_order[data[\"ORDERNO\"]]\n",
    "            if self.ask[data[\"PRICE\"]] < 0.000000001:\n",
    "                del self.ask[data[\"PRICE\"]]\n",
    "\n",
    "    ## Third part - match order\n",
    "    def trade(self, data, new_trades=[]):\n",
    "        if data['BUYSELL'] == \"B\":\n",
    "            return self.exec_buy_order(data, new_trades=new_trades)\n",
    "        else:\n",
    "            return self.exec_sell_order(data, new_trades=new_trades)\n",
    "\n",
    "    def exec_sell_order(self, data, new_trades=[]):\n",
    "        go_trade= True\n",
    "        while go_trade:\n",
    "            go_trade = False\n",
    "            sell_order = self.ask_active_order[data[\"ORDERNO\"]]\n",
    "            tradeprice = self.bid.peekitem(-1)[0]\n",
    "            order_no = self.bid_FIFO[tradeprice][0]\n",
    "            if str(order_no)[0] == 'm':\n",
    "                out_no = \"mm_past\"\n",
    "            else:\n",
    "                out_no = order_no\n",
    "            buy_order = self.bid_active_order[order_no]\n",
    "            if buy_order[1] > sell_order[1]:\n",
    "                self.bid_active_order[order_no] = (self.bid_active_order[order_no][0],\n",
    "                                                   buy_order[1] - sell_order[1])\n",
    "                trade_vol = sell_order[1]\n",
    "                self.bid[buy_order[0]] -= trade_vol\n",
    "                self.delete_order(data)\n",
    "            elif buy_order[1] == sell_order[1]:\n",
    "                self.delete_order(data)\n",
    "                tmp = dict()\n",
    "                tmp[\"BUYSELL\"] = \"B\"\n",
    "\n",
    "                tmp[\"PRICE\"] = buy_order[0]\n",
    "                tmp[\"ORDERNO\"] = order_no\n",
    "\n",
    "                self.delete_order(tmp)\n",
    "                trade_vol = sell_order[1]\n",
    "            else:\n",
    "                # iseberg or error\n",
    "                tmp = dict()\n",
    "                tmp[\"BUYSELL\"] = \"B\"\n",
    "                tmp[\"PRICE\"] = buy_order[0]\n",
    "                tmp[\"ORDERNO\"] = order_no\n",
    "                self.delete_order(tmp)\n",
    "                trade_vol = buy_order[1]\n",
    "                self.ask[sell_order[0]] -= trade_vol\n",
    "                self.ask_active_order[data[\"ORDERNO\"]] = (self.ask_active_order[data[\"ORDERNO\"]][0],\n",
    "                                                          sell_order[1] - buy_order[1])\n",
    "                # TODO не учтено полное пробитие стакана!!\n",
    "                if self.bid.peekitem(-1)[0] >= sell_order[0] or data[\"PRICE\"] < 0.000000001:\n",
    "                    go_trade = True\n",
    "\n",
    "            self.trade_log.append(\n",
    "                [tradeprice, trade_vol, data[\"ORDERNO\"], out_no, tradeprice * trade_vol, data[\"TIME\"], data[\"NO\"], \"S\"])\n",
    "            new_trades.append(self.trade_log[-1])\n",
    "            if buy_order[1] < 0 or sell_order[1] < 0:\n",
    "                raise Exception(buy_order, sell_order)\n",
    "            if go_trade:\n",
    "                data[\"VOLUME\"] -= trade_vol\n",
    "                self.ask_active_order[data[\"ORDERNO\"]] = (self.ask_active_order[data[\"ORDERNO\"]][0], data[\"VOLUME\"])\n",
    "                # self.ask[data[\"PRICE\"]] -= data[\"VOLUME\"]\n",
    "                #return self.check_add(data, rec_flag=True, new_trades=new_trades)\n",
    "        return new_trades\n",
    "\n",
    "    def exec_buy_order(self, data, new_trades=[]):\n",
    "        go_trade = True\n",
    "        while go_trade:\n",
    "            go_trade = False\n",
    "            buy_order = self.bid_active_order[data[\"ORDERNO\"]]\n",
    "            tradeprice = self.ask.peekitem(0)[0]\n",
    "            order_no = self.ask_FIFO[tradeprice][0]\n",
    "            if str(order_no)[0] == 'm':\n",
    "                out_no = \"mm_past\"\n",
    "            else:\n",
    "                out_no = order_no\n",
    "            sell_order = self.ask_active_order[order_no]\n",
    "            if sell_order[1] > buy_order[1]:\n",
    "                self.ask_active_order[order_no] = (self.ask_active_order[order_no][0],\n",
    "                                                   sell_order[1] - buy_order[1])\n",
    "                trade_vol = buy_order[1]\n",
    "                self.ask[sell_order[0]] -= trade_vol\n",
    "                self.delete_order(data)\n",
    "            elif buy_order[1] == sell_order[1]:\n",
    "                self.delete_order(data)\n",
    "                tmp = dict()\n",
    "                tmp[\"BUYSELL\"] = \"S\"\n",
    "                tmp[\"PRICE\"] = sell_order[0]\n",
    "                tmp[\"ORDERNO\"] = self.ask_FIFO[tradeprice][0]\n",
    "                self.delete_order(tmp)\n",
    "                trade_vol = sell_order[1]\n",
    "            else:\n",
    "                # iseberg or error\n",
    "                tmp = dict()\n",
    "                tmp[\"BUYSELL\"] = \"S\"\n",
    "                tmp[\"PRICE\"] = sell_order[0]\n",
    "                tmp[\"ORDERNO\"] = order_no\n",
    "                self.delete_order(tmp)\n",
    "                trade_vol = sell_order[1]\n",
    "                self.bid[buy_order[0]] -= trade_vol\n",
    "                self.bid_active_order[data[\"ORDERNO\"]] = (self.bid_active_order[data[\"ORDERNO\"]][0],\n",
    "                                                          buy_order[1] - sell_order[1])\n",
    "                if self.ask.peekitem(0)[0] <= buy_order[0] or data[\"PRICE\"] < 0.000000001:\n",
    "                    go_trade = True\n",
    "\n",
    "            # TODO Мне кажется здесь потенциальная ошибка, не предусмотрено что аркет мейкер заявка может в кого то удариться\n",
    "            self.trade_log.append(\n",
    "                [tradeprice, trade_vol, data[\"ORDERNO\"], out_no, tradeprice * trade_vol, data[\"TIME\"], data[\"NO\"], \"B\"])\n",
    "            new_trades.append(self.trade_log[-1])\n",
    "            if buy_order[1] < 0 or sell_order[1] < 0:\n",
    "                raise Exception(buy_order, sell_order)\n",
    "            if go_trade:\n",
    "                data[\"VOLUME\"] -= trade_vol\n",
    "                self.bid_active_order[data[\"ORDERNO\"]] = (self.bid_active_order[data[\"ORDERNO\"]][0], data[\"VOLUME\"])\n",
    "                # self.bid[data[\"PRICE\"]] -= data[\"VOLUME\"]\n",
    "                return self.check_add(data, rec_flag=True, new_trades=new_trades)\n",
    "        return new_trades\n",
    "\n",
    "    ## Others\n",
    "\n",
    "    def clean_dom(self):\n",
    "        self.__init__()\n",
    "\n"
   ]
  },
  {
   "cell_type": "code",
   "execution_count": 12,
   "metadata": {
    "scrolled": true
   },
   "outputs": [
    {
     "name": "stderr",
     "output_type": "stream",
     "text": [
      "100%|██████████| 2115840/2115840 [00:11<00:00, 182812.02it/s]\n"
     ]
    }
   ],
   "source": [
    "dom = Matching_Engine()\n",
    "errors = 0\n",
    "isebergs = pd.read_csv(\"/Users/a185583357/Desktop/MOEX/OrderLog\" + date + \"/isebergs\" + date + \".csv\", index_col=0).to_dict()[\"vol\"]\n",
    "\n",
    "for i in tqdm(range(len(records))):\n",
    "    record = records[i].copy()\n",
    "    if record[\"ACTION\"] == 1 and record[\"ORDERNO\"] in isebergs:\n",
    "        record[\"VOLUME\"] = isebergs[record[\"ORDERNO\"]]\n",
    "    try:\n",
    "        out = dom.check_order(record)\n",
    "    except Exception as e:\n",
    "        #print(e)\n",
    "        if record[\"ACTION\"] == 1:\n",
    "            print(\"MAYBE Some problem, cant add order\")\n",
    "            dom.check_order(record)\n",
    "            raise Exception\n",
    "        errors += 1"
   ]
  },
  {
   "cell_type": "code",
   "execution_count": 13,
   "metadata": {},
   "outputs": [
    {
     "data": {
      "text/plain": [
       "[69.97, 100, 12836092, 12836086, 6997.0, 183958906, 26213007, 'B']"
      ]
     },
     "execution_count": 13,
     "metadata": {},
     "output_type": "execute_result"
    }
   ],
   "source": [
    "dom.trade_log[-1]"
   ]
  },
  {
   "cell_type": "markdown",
   "metadata": {},
   "source": [
    "# Теперь сделаем заготовку для ML, для этого соберем numpy array снапшота стакана и последих трейдов"
   ]
  },
  {
   "cell_type": "code",
   "execution_count": 14,
   "metadata": {},
   "outputs": [],
   "source": [
    "deep = 9"
   ]
  },
  {
   "cell_type": "code",
   "execution_count": 15,
   "metadata": {},
   "outputs": [],
   "source": [
    "def RSI (data, time_window):\n",
    "    diff = data.diff(1).dropna()        # diff in one field(one day)\n",
    "\n",
    "    #this preservers dimensions off diff values\n",
    "    up_chg = deepcopy(0 * diff)\n",
    "    down_chg = deepcopy(0 * diff)\n",
    "    \n",
    "    # up change is equal to the positive difference, otherwise equal to zero\n",
    "    up_chg[diff > 0] = diff[ diff>0 ]\n",
    "    \n",
    "    # down change is equal to negative deifference, otherwise equal to zero\n",
    "    down_chg[diff < 0] = diff[ diff < 0 ]\n",
    "   \n",
    "    \n",
    "    # check pandas documentation for ewm\n",
    "    # https://pandas.pydata.org/pandas-docs/stable/reference/api/pandas.DataFrame.ewm.html\n",
    "    # values are related to exponential decay\n",
    "    # we set com=time_window-1 so we get decay alpha=1/time_window\n",
    "    \n",
    "    up_chg_avg   = up_chg.mean()\n",
    "    down_chg_avg = down_chg.mean()\n",
    "    \n",
    "    if down_chg_avg == 0:\n",
    "        return 100.0\n",
    "    rs = abs(up_chg_avg/down_chg_avg)\n",
    "    rsi = 100 - 100/(1+rs)\n",
    "    return rsi"
   ]
  },
  {
   "cell_type": "code",
   "execution_count": 16,
   "metadata": {},
   "outputs": [],
   "source": [
    "def VWAP(trade_log, record, vwap, top_price, min_price, timerange=1):\n",
    "    timenow = datetime.datetime.strptime(str(record[\"TIME\"]), '%H%M%S%f')\n",
    "    time_log = pd.to_datetime(pd.Series(np.array(trade_log)[:, -3]), format='%H%M%S%f')\n",
    "    trades_window = np.array(trade_log)[time_log > (timenow - datetime.timedelta(seconds=timerange))]\n",
    "    if trades_window.shape[0] == 0:\n",
    "        return vwap, top_price, min_price\n",
    "    else:\n",
    "        return sum(trades_window[:, 0].astype(float) * trades_window[:, 1].astype(int)) /  sum(trades_window[:, 1].astype(int)), max(trades_window[:, 0].astype(float)), min(trades_window[:, 0].astype(float))"
   ]
  },
  {
   "cell_type": "code",
   "execution_count": null,
   "metadata": {},
   "outputs": [],
   "source": []
  },
  {
   "cell_type": "code",
   "execution_count": 17,
   "metadata": {},
   "outputs": [
    {
     "data": {
      "text/plain": [
       "69.98"
      ]
     },
     "execution_count": 17,
     "metadata": {},
     "output_type": "execute_result"
    }
   ],
   "source": [
    "tmp = datetime.datetime.strptime(str(record[\"TIME\"]), '%H%M%S%f')\n",
    "time_log = pd.to_datetime(pd.Series(np.array(dom.trade_log)[:, -3]), format='%H%M%S%f')\n",
    "tmp = np.array(dom.trade_log)[time_log > (tmp - datetime.timedelta(seconds=500))]\n",
    "max(tmp[:, 0].astype(float))"
   ]
  },
  {
   "cell_type": "code",
   "execution_count": 18,
   "metadata": {},
   "outputs": [],
   "source": [
    "sma5, sma10, sma30, sma50, sma100 = 0, 0, 0, 0, 0\n",
    "ema5, ema10, ema30, ema100 = 0, 0, 0, 0\n",
    "std10, std50, std100, std1000 = 0, 0, 0, 0\n",
    "rsi14, rsi50, rsi100, rsi300 = 0, 0, 0, 0\n",
    "vwap1, vwap30, vwap60 = 0, 0, 0\n",
    "top_price1, top_price30, top_price60 = 0, 0, 0\n",
    "min_price1, min_price30, min_price60 = 0, 0, 0\n",
    "\n",
    "def get_technical_indicator(change, trade_log, output, record):\n",
    "    #TODO это однозначно можно сделать оптимальнее!!\n",
    "    global deep\n",
    "    global sma5, sma10, sma30, sma50, sma100\n",
    "    global ema5, ema10, ema30, ema100\n",
    "    global std10, std50, std100, std1000 \n",
    "    global rsi14, rsi50, rsi100, rsi300\n",
    "    global vwap1, vwap30, vwap60\n",
    "    global top_price1, top_price30, top_price60\n",
    "    global min_price1, min_price30, min_price60\n",
    "    if change != 0:        \n",
    "        sma5 = np.array(trade_log[-5:])[:, 0].astype(float).mean()\n",
    "        sma10 = np.array(trade_log[-10:])[:, 0].astype(float).mean()\n",
    "        sma30 = np.array(trade_log[-30:])[:, 0].astype(float).mean()\n",
    "        sma50 = np.array(trade_log[-50:])[:, 0].astype(float).mean()\n",
    "        sma100 = np.array(trade_log[-100:])[:, 0].astype(float).mean()\n",
    "        #EMA\n",
    "        ema5 = pd.DataFrame(np.array(trade_log[-5:])[:, 0].astype(float)).ewm(span=5).mean().iat[-1, 0]\n",
    "        ema10 = pd.DataFrame(np.array(trade_log[-10:])[:, 0].astype(float)).ewm(span=10).mean().iat[-1, 0]\n",
    "        ema30 = pd.DataFrame(np.array(trade_log[-30:])[:, 0].astype(float)).ewm(span=30).mean().iat[-1, 0]\n",
    "        ema100 = pd.DataFrame(np.array(trade_log[-100:])[:, 0].astype(float)).ewm(span=30).mean().iat[-1, 0]\n",
    "        #std\n",
    "        std10 = np.array(trade_log[-10:])[:, 0].astype(float).std()\n",
    "        std50 = np.array(trade_log[-50:])[:, 0].astype(float).std()\n",
    "        std100 = np.array(trade_log[-100:])[:, 0].astype(float).std()\n",
    "        std1000 = np.array(trade_log[-1000:])[:, 0].astype(float).std()\n",
    "        #RSI\n",
    "        rsi14 = RSI(pd.Series(np.array(trade_log[-14:])[:, 0].astype(float)), 14)\n",
    "        rsi50 = RSI(pd.Series(np.array(trade_log[-50:])[:, 0].astype(float)), 50)\n",
    "        rsi100 = RSI(pd.Series(np.array(trade_log[-100:])[:, 0].astype(float)), 100)\n",
    "        rsi300 = RSI(pd.Series(np.array(trade_log[-300:])[:, 0].astype(float)), 300)\n",
    "        #VWAP, top, min\n",
    "        vwap1, top_price1, min_price1 = VWAP(trade_log[-1000:], record, vwap1, top_price1, min_price1, timerange=1)\n",
    "        vwap30, top_price30, min_price30 = VWAP(trade_log[-3000:], record, vwap30, top_price30, min_price60, timerange=30)\n",
    "        vwap60, top_price60, min_price60 = VWAP(trade_log[-5000:], record, vwap60, top_price30, min_price60, timerange=60)\n",
    "    output[deep * 4 + 7] = sma5\n",
    "    output[deep * 4 + 8] = sma10\n",
    "    output[deep * 4 + 9] = sma30\n",
    "    output[deep * 4 + 10] = sma50\n",
    "    output[deep * 4 + 11] = sma100\n",
    "    #EMA\n",
    "    output[deep * 4 + 12] = ema5\n",
    "    output[deep * 4 + 13] = ema10\n",
    "    output[deep * 4 + 14] = ema30\n",
    "    output[deep * 4 + 15] = ema100\n",
    "    #std\n",
    "    output[deep * 4 + 16] = std10\n",
    "    output[deep * 4 + 17] = std50\n",
    "    output[deep * 4 + 18] = std100\n",
    "    output[deep * 4 + 19] = std1000\n",
    "    #RSI\n",
    "    output[deep * 4 + 20] = rsi14\n",
    "    output[deep * 4 + 21] = rsi50\n",
    "    output[deep * 4 + 22] = rsi100\n",
    "    output[deep * 4 + 23] = rsi300\n",
    "    #VWAP\n",
    "    output[deep * 4 + 24] = vwap1\n",
    "    output[deep * 4 + 25] = vwap30\n",
    "    output[deep * 4 + 26] = vwap60\n",
    "    #top\n",
    "    output[deep * 4 + 27] = top_price1\n",
    "    output[deep * 4 + 28] = top_price30\n",
    "    output[deep * 4 + 29] = top_price60\n",
    "    #min\n",
    "    output[deep * 4 + 30] = min_price1\n",
    "    output[deep * 4 + 31] = min_price30\n",
    "    output[deep * 4 + 32] = min_price60\n",
    "    return output"
   ]
  },
  {
   "cell_type": "code",
   "execution_count": 19,
   "metadata": {},
   "outputs": [],
   "source": [
    "def construct_raw(dom, deep, raw_data, record):\n",
    "    output = [0] * (deep * 4 + 33)\n",
    "    trade_log = dom.trade_log\n",
    "    bids = list(dom.bid.items())\n",
    "    asks = list(dom.ask.items())\n",
    "    for i in range(0, deep):\n",
    "        if len(bids) > i:\n",
    "            #print(bids[-1], i)\n",
    "            output[(2 * deep) - 2 * i - 1] = bids[-i - 1][1]\n",
    "            output[(2 * deep) - 2 * i - 2] = bids[-i - 1][0]\n",
    "        if len(asks) > i:\n",
    "            #print(asks, i)\n",
    "            output[(2 * deep) + 2 * i + 1] = asks[i][1]\n",
    "            output[(2 * deep) + 2 * i] = asks[i][0]\n",
    "    if len(dom.trade_log) > 0:\n",
    "        #print(dom.trade_log[-1])\n",
    "        output[deep * 4] = dom.trade_log[-1][0]\n",
    "        output[deep * 4 + 1] = dom.trade_log[-1][1]\n",
    "        if output[deep * 4 + 2] == \"B\":\n",
    "            output[deep * 4 + 2] = -1\n",
    "        else:\n",
    "            output[deep * 4 + 2] = 1\n",
    "        change = raw_data[-1][deep * 4] - output[deep * 4]\n",
    "        if change == 0:\n",
    "            output[deep * 4 + 3] = 0\n",
    "        elif change > 0:\n",
    "            output[deep * 4 + 3] = -1\n",
    "        else:\n",
    "            output[deep * 4 + 3] = 1\n",
    "            \n",
    "        output[deep * 4 + 4] = dom.trade_log[-1][-3]\n",
    "    output[deep * 4 + 5] = int(record[\"DATE\"])\n",
    "    output[deep * 4 + 6] = record[\"TIME\"]\n",
    "    if len(trade_log) > 50:\n",
    "        output = get_technical_indicator(change, trade_log, output, record)\n",
    "    \n",
    "    \n",
    "    return output"
   ]
  },
  {
   "cell_type": "code",
   "execution_count": null,
   "metadata": {},
   "outputs": [
    {
     "name": "stderr",
     "output_type": "stream",
     "text": [
      " 36%|███▌      | 765578/2115840 [16:13<24:42, 910.92it/s]  "
     ]
    }
   ],
   "source": [
    "def get_data(date, records, deep):\n",
    "    dom = Matching_Engine()\n",
    "    errors = 0\n",
    "    isebergs = pd.read_csv(\"/Users/a185583357/Desktop/MOEX/OrderLog\" + date + \"/isebergs\" + date + \".csv\", index_col=0).to_dict()[\"vol\"]\n",
    "    raw_data = []\n",
    "\n",
    "    for i in tqdm(range(len(records))):\n",
    "        record = records[i].copy()\n",
    "        if record[\"ACTION\"] == 1 and record[\"ORDERNO\"] in isebergs:\n",
    "            record[\"VOLUME\"] = isebergs[record[\"ORDERNO\"]]\n",
    "        try:\n",
    "            out = dom.check_order(record)\n",
    "            raw_data.append(construct_raw(dom, deep, raw_data, record))\n",
    "        except Exception as e:\n",
    "            #print(e)\n",
    "            if record[\"ACTION\"] == 1:\n",
    "                print(\"MAYBE Some problem, cant add order\")\n",
    "                dom.check_order(record)\n",
    "                raise Exception\n",
    "            errors += 1\n",
    "    return raw_data\n",
    "\n",
    "\n",
    "raw_data = get_data(date, records, deep)\n",
    "#raw_data[1000]"
   ]
  },
  {
   "cell_type": "code",
   "execution_count": null,
   "metadata": {},
   "outputs": [],
   "source": [
    "def find_nearest(raw, future1, future30, future60):\n",
    "    dt = raw.Time\n",
    "    nearest1 = future1.iloc[future1.index.get_loc(dt, method='nearest')]\n",
    "    nearest30 = future30.iloc[future30.index.get_loc(dt, method='nearest')]\n",
    "    nearest60 = future60.iloc[future60.index.get_loc(dt, method='nearest')]\n",
    "    raw[\"FutureVWAP1\"] = nearest1[\"FutureVWAP1\"]\n",
    "    raw[\"MIN1\"] = nearest1[\"MIN1\"]\n",
    "    raw[\"TOP1\"] = nearest1[\"TOP1\"]    \n",
    "    raw[\"FutureVWAP30\"] = nearest30[\"FutureVWAP30\"]\n",
    "    raw[\"MIN30\"] = nearest30[\"MIN30\"]\n",
    "    raw[\"TOP30\"] = nearest30[\"TOP30\"]\n",
    "    raw[\"FutureVWAP60\"] = nearest60[\"FutureVWAP60\"]\n",
    "    raw[\"MIN60\"] = nearest60[\"MIN60\"]\n",
    "    raw[\"TOP60\"] = nearest60[\"TOP60\"]\n",
    "    return raw\n",
    "    \n",
    "\n",
    "\n",
    "def create_future_vwap(snapchot):\n",
    "    snapchot[\"FutureVWAP1\"] = deepcopy(snapchot[\"VWAP1\"])\n",
    "    snapchot[\"FutureVWAP30\"] = deepcopy(snapchot[\"VWAP30\"])\n",
    "    snapchot[\"FutureVWAP60\"] = deepcopy(snapchot[\"VWAP60\"])\n",
    "    future1 = deepcopy(snapchot.shift(freq=-timedelta(seconds=1)))\n",
    "    future30 = deepcopy(snapchot.shift(freq=-timedelta(seconds=30)))\n",
    "    future60 = deepcopy(snapchot.shift(freq=-timedelta(seconds=60)))\n",
    "    try:\n",
    "        snapchot = snapchot.parallel_apply(find_nearest, args=(future1, future30, future60), axis=1)\n",
    "    except:\n",
    "        snapchot = snapchot.progress_apply(find_nearest, args=(future1, future30, future60), axis=1)\n",
    "    snapchot[\"Difference1\"] = snapchot[\"FutureVWAP1\"] - snapchot[\"VWAP1\"]\n",
    "    snapchot[\"Difference30\"] = snapchot[\"FutureVWAP30\"] - snapchot[\"VWAP30\"]\n",
    "    snapchot[\"Difference60\"] = snapchot[\"FutureVWAP60\"] - snapchot[\"VWAP60\"]\n",
    "    snapchot[\"IsUp1\"] = np.sign(snapchot[\"Difference1\"])\n",
    "    snapchot[\"IsUp30\"] = np.sign(snapchot[\"Difference30\"])\n",
    "    snapchot[\"IsUp60\"] = np.sign(snapchot[\"Difference60\"])\n",
    "    return snapchot\n",
    "    "
   ]
  },
  {
   "cell_type": "code",
   "execution_count": null,
   "metadata": {},
   "outputs": [],
   "source": [
    "snapschot = pd.read_csv(\"SBER20150310.csv\")"
   ]
  },
  {
   "cell_type": "code",
   "execution_count": null,
   "metadata": {},
   "outputs": [],
   "source": [
    "def get_df_y(raw_data, deep):\n",
    "    columns = []\n",
    "    for col in [\"Bid\", \"Ask\"]:\n",
    "        for num in range(1, 1 + deep):\n",
    "            if col == \"Bid\":\n",
    "                num = deep - num + 1\n",
    "            columns.append(col + \"Price\" + str(num))\n",
    "            columns.append(col + \"Volume\" + str(num))\n",
    "    dupl_col = deepcopy(columns)\n",
    "    columns += [\"Last Trade Price\"] + [\"Last Trade Volume\"] + [\"Side\"] + [\"isNewTrade\"] + \\\n",
    "    [\"LastDealTime\"] + [\"Date\"] + [\"Time\"] + [\"SMA5\"] + [\"SMA10\"] + [\"SMA30\"] + [\"SMA50\"] + [\"SMA100\"] +\\\n",
    "    [\"EMA5\"] + [\"EMA10\"] + [\"EMA30\"] + [\"EMA100\"] + [\"STD10\"] + [\"STD50\"] + [\"STD100\"] + [\"STD1000\"] +\\\n",
    "    [\"RSI14\"] + [\"RSI50\"] + [\"RSI100\"] + [\"RSI300\"] + [\"VWAP1\"] + [\"VWAP30\"] + [\"VWAP60\"] +\\\n",
    "    [\"TOP1\"] + [\"TOP30\"] + [\"TOP60\"] + [\"MIN1\"] + [\"MIN30\"] + [\"MIN60\"] \n",
    "    snapschot = pd.DataFrame(np.stack(raw_data, axis=0), columns=columns)\n",
    "    snapschot[\"LiquidityBid\"] = 0\n",
    "    snapschot[\"LiquidityAsk\"] = 0\n",
    "    for i in range(1, 1 + deep):\n",
    "        snapschot['LiquidityAsk'] += snapschot[\"AskVolume\" + str(i)]\n",
    "        snapschot[\"LiquidityBid\"] += snapschot[\"BidVolume\" + str(i)]\n",
    "\n",
    "    snapschot[\"BidLiquidityRatio\"] = snapschot[\"LiquidityBid\"] / (snapschot[\"LiquidityBid\"] + snapschot[\"LiquidityAsk\"])\n",
    "    snapschot = snapschot[snapschot[\"Time\"] > 100002000.0]\n",
    "    snapschot.drop_duplicates(subset=dupl_col,inplace=True)\n",
    "    \n",
    "    snapschot.index = snapschot[\"Time\"]\n",
    "    snapschot = snapschot[~snapschot.index.duplicated(keep='last')]\n",
    "    tmp_time = deepcopy(snapschot.index)\n",
    "    snapschot[\"Time\"] = pd.to_datetime((snapschot[\"Time\"]), format='%H%M%S%f')\n",
    "    snapschot.index = snapschot[\"Time\"]\n",
    "    snapschot = create_future_vwap(snapschot)\n",
    "    snapschot[\"Time\"] = tmp_time\n",
    "    y = np.array(snapschot[\"IsUp1\"])\n",
    "    drop_col = [\"IsUp1\", \"IsUp30\", \"IsUp60\", \"Difference1\", \"Difference30\", \"Difference60\",\n",
    "                \"FutureVWAP1\", \"FutureVWAP30\", \"FutureVWAP60\"]\n",
    "    df = snapschot.drop(drop_col, axis=1)\n",
    "    return df, np.array(y), snapschot\n",
    "\n",
    "df, y, snapschot = get_df_y(raw_data, deep)\n",
    "snapschot.to_csv(\"SBER20150310.csv\")"
   ]
  },
  {
   "cell_type": "markdown",
   "metadata": {},
   "source": [
    "## Attention надо обязательно сделать задержку и смещение"
   ]
  },
  {
   "cell_type": "markdown",
   "metadata": {},
   "source": [
    "Данные готовы, по одному дню сбера. теперь посмотрим на них"
   ]
  },
  {
   "cell_type": "markdown",
   "metadata": {},
   "source": [
    "## Здесь будут графики и анализ существующих данных"
   ]
  },
  {
   "cell_type": "code",
   "execution_count": null,
   "metadata": {},
   "outputs": [],
   "source": [
    "snapschot[30000:30005]"
   ]
  },
  {
   "cell_type": "code",
   "execution_count": null,
   "metadata": {},
   "outputs": [],
   "source": []
  },
  {
   "cell_type": "code",
   "execution_count": null,
   "metadata": {},
   "outputs": [],
   "source": []
  },
  {
   "cell_type": "code",
   "execution_count": null,
   "metadata": {},
   "outputs": [],
   "source": [
    "visu_data = snapschot#[1500:]"
   ]
  },
  {
   "cell_type": "code",
   "execution_count": null,
   "metadata": {},
   "outputs": [],
   "source": [
    "plt.scatter(visu_data[\"Time\"], visu_data[\"Last Trade Price\"])"
   ]
  },
  {
   "cell_type": "code",
   "execution_count": null,
   "metadata": {},
   "outputs": [],
   "source": [
    "pd.to_datetime((snapschot[\"Time\"]), format='%H%M%S%f')"
   ]
  },
  {
   "cell_type": "code",
   "execution_count": null,
   "metadata": {},
   "outputs": [],
   "source": []
  },
  {
   "cell_type": "markdown",
   "metadata": {},
   "source": [
    "## Тут Random forest"
   ]
  },
  {
   "cell_type": "code",
   "execution_count": null,
   "metadata": {
    "scrolled": false
   },
   "outputs": [],
   "source": [
    "from sklearn.model_selection import TimeSeriesSplit\n",
    "\n",
    "tscv = TimeSeriesSplit(3) \n",
    "for train_index, test_index in tscv.split(df):\n",
    "    print(\"TRAIN:\", train_index, \"TEST:\", test_index)\n",
    "    X_train, X_test = np.array(df)[train_index], np.array(df)[test_index]\n",
    "    y_train, y_test = y[train_index], y[test_index]"
   ]
  },
  {
   "cell_type": "code",
   "execution_count": null,
   "metadata": {},
   "outputs": [],
   "source": [
    "rf = RandomForestClassifier()\n",
    "rf.fit(X_train, y_train)"
   ]
  },
  {
   "cell_type": "code",
   "execution_count": null,
   "metadata": {},
   "outputs": [],
   "source": [
    "Counter(rf.predict(X_test)), f1_score(y_test, rf.predict(X_test), average='micro')"
   ]
  },
  {
   "cell_type": "code",
   "execution_count": null,
   "metadata": {},
   "outputs": [],
   "source": []
  },
  {
   "cell_type": "code",
   "execution_count": null,
   "metadata": {
    "scrolled": false
   },
   "outputs": [],
   "source": [
    "def get_importance(model, importance):    \n",
    "    indices = np.argsort(importance)[::-1]\n",
    "\n",
    "    # Print the feature ranking\n",
    "    print(\"Feature ranking:\")\n",
    "\n",
    "    for f in range(X_train.shape[1]):\n",
    "        print(\"%d. feature %s (%f)\" % (f + 1, df.columns[f], importance[indices[f]]))\n",
    "    plt.figure()\n",
    "    plt.title(\"Feature importances\")\n",
    "    plt.bar(df.columns[indices], importance[indices],\n",
    "            color=\"r\", align=\"center\")\n",
    "    plt.xticks(df.columns[indices], indices)\n",
    "    plt.xlim([-1, X_train.shape[1]])\n",
    "    plt.show()\n",
    "    \n",
    "\n",
    "get_importance(rf, rf.feature_importances_)"
   ]
  },
  {
   "cell_type": "code",
   "execution_count": null,
   "metadata": {},
   "outputs": [],
   "source": []
  },
  {
   "cell_type": "markdown",
   "metadata": {},
   "source": [
    "## Тут Catboost"
   ]
  },
  {
   "cell_type": "code",
   "execution_count": null,
   "metadata": {
    "scrolled": false
   },
   "outputs": [],
   "source": [
    "cbst = CatBoostClassifier()\n",
    "cbst.fit(pd.DataFrame(X_train), y_train)\n"
   ]
  },
  {
   "cell_type": "code",
   "execution_count": null,
   "metadata": {},
   "outputs": [],
   "source": [
    "Counter(cbst.predict(X_test).ravel()), f1_score(y_test, cbst.predict(X_test), average='micro')"
   ]
  },
  {
   "cell_type": "code",
   "execution_count": null,
   "metadata": {
    "scrolled": false
   },
   "outputs": [],
   "source": [
    "get_importance(cbst, cbst.get_feature_importance())"
   ]
  },
  {
   "cell_type": "code",
   "execution_count": null,
   "metadata": {},
   "outputs": [],
   "source": []
  },
  {
   "cell_type": "code",
   "execution_count": null,
   "metadata": {},
   "outputs": [],
   "source": [
    "X_train.shape"
   ]
  },
  {
   "cell_type": "code",
   "execution_count": null,
   "metadata": {},
   "outputs": [],
   "source": []
  },
  {
   "cell_type": "markdown",
   "metadata": {},
   "source": [
    "## Тут Light auto ml\n"
   ]
  },
  {
   "cell_type": "code",
   "execution_count": null,
   "metadata": {},
   "outputs": [],
   "source": [
    "for train_index, test_index in tscv.split(df):\n",
    "    print(\"TRAIN:\", train_index, \"TEST:\", test_index)\n",
    "    X_train, X_test = df.iloc[train_index], df.iloc[test_index]\n",
    "    y_train, y_test = y[train_index], y[test_index]"
   ]
  },
  {
   "cell_type": "code",
   "execution_count": null,
   "metadata": {},
   "outputs": [],
   "source": [
    "data = snapschot.drop([\"IsUp30\", \"IsUp60\", \"Difference1\", \"Difference30\", \"Difference60\",\n",
    "                \"FutureVWAP1\", \"FutureVWAP30\", \"FutureVWAP60\"], axis=1)\n",
    "\n",
    "train_feat = []\n",
    "for i in range(deep):\n",
    "    train_feat += ['BidPrice'+ str(i + 1), 'BidVolume'+ str(i + 1), 'AskPrice'+ str(i + 1), 'AskVolume' + str(i + 1)]\n",
    "train_feat = ['Last Trade Price', 'Last Trade Volume', 'Side', 'isNewTrade',\n",
    "       'LastDealTime', 'Date', 'SMA5', 'SMA10', 'SMA30', 'SMA50',\n",
    "       'SMA100', 'EMA5', 'EMA10', 'EMA30', 'EMA100', 'STD10', 'STD50',\n",
    "       'STD100', 'STD1000', 'RSI14', 'RSI50', 'RSI100', 'RSI300', 'VWAP1',\n",
    "       'VWAP30', 'VWAP60', 'TOP1', 'TOP30', 'TOP60', 'MIN1', 'MIN30', 'MIN60',\n",
    "       'LiquidityBid', 'LiquidityAsk', 'BidLiquidityRatio']\n",
    "target = \"IsUp1\"\n",
    "train = {'data': data[train_feat].values,\n",
    "        'target': data[target].values}\n"
   ]
  },
  {
   "cell_type": "code",
   "execution_count": null,
   "metadata": {},
   "outputs": [],
   "source": [
    "data = X_train\n",
    "train_deat = X_train.columns\n",
    "target = \"IsUp1\"\n",
    "train = {'data': data[train_feat].values,\n",
    "        'target':  y_train}\n",
    "test = X_test[train_feat]"
   ]
  },
  {
   "cell_type": "code",
   "execution_count": null,
   "metadata": {
    "scrolled": false
   },
   "outputs": [],
   "source": [
    "cv_iter = TimeSeriesIterator(df.Time.astype('datetime64[ns]'), n_splits=10, sorted_kfold=False)\n",
    "\n",
    "task = Task('multiclass', )\n",
    "\n",
    "automl = TabularAutoML(task=task, timeout=200, memory_limit=8)\n",
    "oof_pred = automl.fit_predict(train, train_features=train_feat, roles={'target': target}, cv_iter=cv_iter)\n",
    "# prediction can be made on file by\n",
    "#test = data[train_feat]\n",
    "test.to_csv('temp_test_data.csv', index=False)\n",
    "test_pred = automl.predict('temp_test_data.csv', batch_size=200, n_jobs=4)\n",
    "\n",
    "print('Check scores...')\n",
    "oof_prediction = oof_pred.data[:, 0]\n",
    "not_empty = np.logical_not(np.isnan(oof_prediction))\n",
    "\n"
   ]
  },
  {
   "cell_type": "code",
   "execution_count": null,
   "metadata": {},
   "outputs": [],
   "source": [
    "print('OOF score: {}'.format(f1_score(y_train[not_empty], oof_prediction[not_empty], average='micro')))\n",
    "print('TEST score: {}'.format(f1_score(y_test, np.argmax(test_pred.data, axis=1) - 1, average='macro')))"
   ]
  },
  {
   "cell_type": "code",
   "execution_count": null,
   "metadata": {},
   "outputs": [],
   "source": [
    "train"
   ]
  },
  {
   "cell_type": "code",
   "execution_count": null,
   "metadata": {},
   "outputs": [],
   "source": [
    "np.argmax(test_pred.data, axis=1) - 1"
   ]
  },
  {
   "cell_type": "code",
   "execution_count": null,
   "metadata": {},
   "outputs": [],
   "source": []
  }
 ],
 "metadata": {
  "kernelspec": {
   "display_name": "test",
   "language": "python",
   "name": "test"
  },
  "language_info": {
   "codemirror_mode": {
    "name": "ipython",
    "version": 3
   },
   "file_extension": ".py",
   "mimetype": "text/x-python",
   "name": "python",
   "nbconvert_exporter": "python",
   "pygments_lexer": "ipython3",
   "version": "3.8.3"
  }
 },
 "nbformat": 4,
 "nbformat_minor": 4
}
