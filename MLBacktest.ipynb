{
 "cells": [
  {
   "cell_type": "markdown",
   "metadata": {},
   "source": [
    "# Подгружаем все что может понадобится"
   ]
  },
  {
   "cell_type": "code",
   "execution_count": 225,
   "metadata": {
    "scrolled": false
   },
   "outputs": [
    {
     "name": "stdout",
     "output_type": "stream",
     "text": [
      "INFO: Pandarallel will run on 12 workers.\n",
      "INFO: Pandarallel will use standard multiprocessing data transfer (pipe) to transfer data between the main process and workers.\n"
     ]
    }
   ],
   "source": [
    "import pandas as pd\n",
    "import traceback\n",
    "import numpy as np\n",
    "import sys\n",
    "import datetime\n",
    "import matplotlib.pyplot as plt\n",
    "from sortedcontainers import SortedDict\n",
    "import warnings\n",
    "import math\n",
    "from copy import deepcopy\n",
    "from tqdm import tqdm\n",
    "import matplotlib as mpl\n",
    "import platform\n",
    "from collections import Counter\n",
    "from IPython.core.display import HTML\n",
    "import os\n",
    "from copy import deepcopy\n",
    "from sklearn.metrics import f1_score\n",
    "import json\n",
    "from sklearn.metrics import roc_auc_score\n",
    "from copy import deepcopy\n",
    "from catboost import CatBoostClassifier\n",
    "from statistics import median\n",
    "from sklearn.linear_model import LinearRegression, LogisticRegression\n",
    "from sklearn.ensemble import RandomForestRegressor, RandomForestClassifier\n",
    "from lightautoml.automl.presets.tabular_presets import TabularAutoML\n",
    "from lightautoml.tasks import Task\n",
    "from lightautoml.validation.np_iterators import TimeSeriesIterator\n",
    "from datetime import timedelta\n",
    "from lightautoml.utils.profiler import Profiler\n",
    "from scipy import fft \n",
    "from math import *\n",
    "p = Profiler()\n",
    "p.change_deco_settings({'enabled': True})\n",
    "sys.path.insert(0, \"/Users/a185583357/Desktop/MMZip\")\n",
    "from backtest_period import backtest_year\n",
    "from algo_stats import algo_stats\n",
    "from algo_classes import Matching_Engine\n",
    "from helpers import myround\n",
    "\n",
    "from pandarallel import pandarallel\n",
    "pandarallel.initialize(progress_bar=True)\n",
    "tqdm.pandas()\n",
    "\n",
    "\n",
    "warnings.filterwarnings('ignore')\n",
    "pd.options.display.max_rows = 10000\n",
    "\n",
    "\n"
   ]
  },
  {
   "cell_type": "code",
   "execution_count": null,
   "metadata": {},
   "outputs": [],
   "source": []
  },
  {
   "cell_type": "code",
   "execution_count": null,
   "metadata": {},
   "outputs": [],
   "source": []
  },
  {
   "cell_type": "code",
   "execution_count": null,
   "metadata": {},
   "outputs": [],
   "source": []
  },
  {
   "cell_type": "code",
   "execution_count": 226,
   "metadata": {
    "scrolled": true
   },
   "outputs": [],
   "source": [
    "#%pip install --user lightautoml"
   ]
  },
  {
   "cell_type": "code",
   "execution_count": null,
   "metadata": {},
   "outputs": [],
   "source": []
  },
  {
   "cell_type": "code",
   "execution_count": 227,
   "metadata": {},
   "outputs": [
    {
     "data": {
      "text/plain": [
       "numpy.complex128"
      ]
     },
     "execution_count": 227,
     "metadata": {},
     "output_type": "execute_result"
    }
   ],
   "source": [
    "def y(x):\n",
    "    return sin(x)\n",
    "\n",
    "lst_x = []\n",
    "lst_y = []\n",
    "for i in range(10000):\n",
    "    lst_x.append(i* pi/1000)\n",
    "    lst_y.append(y(lst_x[-1]))\n",
    "\n",
    "type(fft(np.array(lst_y))[2])"
   ]
  },
  {
   "cell_type": "markdown",
   "metadata": {},
   "source": [
    "# Посмотрим на наши данные и почистим их"
   ]
  },
  {
   "cell_type": "code",
   "execution_count": 336,
   "metadata": {},
   "outputs": [
    {
     "data": {
      "text/html": [
       "<div>\n",
       "<style scoped>\n",
       "    .dataframe tbody tr th:only-of-type {\n",
       "        vertical-align: middle;\n",
       "    }\n",
       "\n",
       "    .dataframe tbody tr th {\n",
       "        vertical-align: top;\n",
       "    }\n",
       "\n",
       "    .dataframe thead th {\n",
       "        text-align: right;\n",
       "    }\n",
       "</style>\n",
       "<table border=\"1\" class=\"dataframe\">\n",
       "  <thead>\n",
       "    <tr style=\"text-align: right;\">\n",
       "      <th></th>\n",
       "      <th>NO</th>\n",
       "      <th>SECCODE</th>\n",
       "      <th>BUYSELL</th>\n",
       "      <th>TIME</th>\n",
       "      <th>ORDERNO</th>\n",
       "      <th>ACTION</th>\n",
       "      <th>PRICE</th>\n",
       "      <th>VOLUME</th>\n",
       "      <th>TRADENO</th>\n",
       "      <th>TRADEPRICE</th>\n",
       "    </tr>\n",
       "  </thead>\n",
       "  <tbody>\n",
       "    <tr>\n",
       "      <th>27490266</th>\n",
       "      <td>27490267</td>\n",
       "      <td>SBERP</td>\n",
       "      <td>B</td>\n",
       "      <td>184459543</td>\n",
       "      <td>11875515</td>\n",
       "      <td>0</td>\n",
       "      <td>50.12</td>\n",
       "      <td>500</td>\n",
       "      <td>nan</td>\n",
       "      <td>NaN</td>\n",
       "    </tr>\n",
       "    <tr>\n",
       "      <th>27490267</th>\n",
       "      <td>27490268</td>\n",
       "      <td>SBERP</td>\n",
       "      <td>S</td>\n",
       "      <td>184459590</td>\n",
       "      <td>12731804</td>\n",
       "      <td>0</td>\n",
       "      <td>50.79</td>\n",
       "      <td>1000</td>\n",
       "      <td>nan</td>\n",
       "      <td>NaN</td>\n",
       "    </tr>\n",
       "    <tr>\n",
       "      <th>27490268</th>\n",
       "      <td>27490269</td>\n",
       "      <td>SBERP</td>\n",
       "      <td>S</td>\n",
       "      <td>184459675</td>\n",
       "      <td>12625592</td>\n",
       "      <td>0</td>\n",
       "      <td>51.12</td>\n",
       "      <td>1000</td>\n",
       "      <td>nan</td>\n",
       "      <td>NaN</td>\n",
       "    </tr>\n",
       "    <tr>\n",
       "      <th>27490269</th>\n",
       "      <td>27490270</td>\n",
       "      <td>SBERP</td>\n",
       "      <td>S</td>\n",
       "      <td>184459725</td>\n",
       "      <td>11086387</td>\n",
       "      <td>0</td>\n",
       "      <td>51.29</td>\n",
       "      <td>500</td>\n",
       "      <td>nan</td>\n",
       "      <td>NaN</td>\n",
       "    </tr>\n",
       "    <tr>\n",
       "      <th>27490270</th>\n",
       "      <td>27490271</td>\n",
       "      <td>SBERP</td>\n",
       "      <td>S</td>\n",
       "      <td>184459742</td>\n",
       "      <td>11359787</td>\n",
       "      <td>0</td>\n",
       "      <td>51.30</td>\n",
       "      <td>500</td>\n",
       "      <td>nan</td>\n",
       "      <td>NaN</td>\n",
       "    </tr>\n",
       "  </tbody>\n",
       "</table>\n",
       "</div>"
      ],
      "text/plain": [
       "                NO SECCODE BUYSELL       TIME   ORDERNO  ACTION  PRICE  \\\n",
       "27490266  27490267   SBERP       B  184459543  11875515       0  50.12   \n",
       "27490267  27490268   SBERP       S  184459590  12731804       0  50.79   \n",
       "27490268  27490269   SBERP       S  184459675  12625592       0  51.12   \n",
       "27490269  27490270   SBERP       S  184459725  11086387       0  51.29   \n",
       "27490270  27490271   SBERP       S  184459742  11359787       0  51.30   \n",
       "\n",
       "          VOLUME TRADENO  TRADEPRICE  \n",
       "27490266     500     nan         NaN  \n",
       "27490267    1000     nan         NaN  \n",
       "27490268    1000     nan         NaN  \n",
       "27490269     500     nan         NaN  \n",
       "27490270     500     nan         NaN  "
      ]
     },
     "execution_count": 336,
     "metadata": {},
     "output_type": "execute_result"
    }
   ],
   "source": [
    "#fol = pd.read_csv(\"/Users/a185583357/Downloads/MMzip/fol/LKOH.txt\", sep=\",\")\n",
    "\n",
    "#TODO Inspect 20150923 - lots of errors there\n",
    "date = \"20150311\"\n",
    "try:\n",
    "    fol = pd.read_csv(\"/Users/a185583357/Desktop/MOEX/OrderLog\" + date + \"/OrderLog\" + date + \".txt\", sep=',')\n",
    "except:\n",
    "    fol = pd.read_csv(\"/Users/a185583357/Desktop/MOEX/OrderLog\" + date + \".txt\", sep=',')\n",
    "fol[\"TRADENO\"] = fol[\"TRADENO\"].astype(str)\n",
    "fol.tail()"
   ]
  },
  {
   "cell_type": "code",
   "execution_count": null,
   "metadata": {},
   "outputs": [],
   "source": [
    "\n"
   ]
  },
  {
   "cell_type": "code",
   "execution_count": null,
   "metadata": {},
   "outputs": [],
   "source": [
    "\n"
   ]
  },
  {
   "cell_type": "code",
   "execution_count": null,
   "metadata": {},
   "outputs": [],
   "source": []
  },
  {
   "cell_type": "code",
   "execution_count": null,
   "metadata": {},
   "outputs": [],
   "source": []
  },
  {
   "cell_type": "code",
   "execution_count": 230,
   "metadata": {
    "scrolled": false
   },
   "outputs": [
    {
     "data": {
      "text/plain": [
       "[('GAZP', 2911989),\n",
       " ('SBER', 2476232),\n",
       " ('CHMF', 1507964),\n",
       " ('SNGS', 1457877),\n",
       " ('LKOH', 1368305),\n",
       " ('RTKM', 1324898),\n",
       " ('SNGSP', 1199692),\n",
       " ('ROSN', 1157663),\n",
       " ('SBERP', 1080476),\n",
       " ('HYDR', 937342),\n",
       " ('VTBR', 818308),\n",
       " ('TRNFP', 793175),\n",
       " ('MTLR', 695619),\n",
       " ('TATN', 677443),\n",
       " ('NLMK', 636415),\n",
       " ('MTSS', 619329),\n",
       " ('ALRS', 546007),\n",
       " ('MGNT', 525151),\n",
       " ('MOEX', 521223),\n",
       " ('GMKN', 518024),\n",
       " ('FEES', 423358),\n",
       " ('EONR', 413915),\n",
       " ('URKA', 399584),\n",
       " ('MAGN', 343153),\n",
       " ('RSTI', 324373),\n",
       " ('MVID', 274891),\n",
       " ('AFKS', 245138),\n",
       " ('IRAO', 215832),\n",
       " ('NVTK', 201622),\n",
       " ('RASP', 196259)]"
      ]
     },
     "execution_count": 230,
     "metadata": {},
     "output_type": "execute_result"
    }
   ],
   "source": [
    "\n",
    "\n",
    "count = Counter(fol[\"SECCODE\"]).most_common(30)\n",
    "out = []\n",
    "for share in count:\n",
    "    out.append(share[0])\n",
    "count"
   ]
  },
  {
   "cell_type": "code",
   "execution_count": null,
   "metadata": {},
   "outputs": [],
   "source": []
  },
  {
   "cell_type": "code",
   "execution_count": null,
   "metadata": {
    "scrolled": true
   },
   "outputs": [],
   "source": []
  },
  {
   "cell_type": "code",
   "execution_count": 231,
   "metadata": {
    "scrolled": true
   },
   "outputs": [
    {
     "data": {
      "text/html": [
       "<div>\n",
       "<style scoped>\n",
       "    .dataframe tbody tr th:only-of-type {\n",
       "        vertical-align: middle;\n",
       "    }\n",
       "\n",
       "    .dataframe tbody tr th {\n",
       "        vertical-align: top;\n",
       "    }\n",
       "\n",
       "    .dataframe thead th {\n",
       "        text-align: right;\n",
       "    }\n",
       "</style>\n",
       "<table border=\"1\" class=\"dataframe\">\n",
       "  <thead>\n",
       "    <tr style=\"text-align: right;\">\n",
       "      <th></th>\n",
       "      <th>NO</th>\n",
       "      <th>SECCODE</th>\n",
       "      <th>BUYSELL</th>\n",
       "      <th>TIME</th>\n",
       "      <th>ORDERNO</th>\n",
       "      <th>ACTION</th>\n",
       "      <th>PRICE</th>\n",
       "      <th>VOLUME</th>\n",
       "      <th>TRADENO</th>\n",
       "      <th>TRADEPRICE</th>\n",
       "    </tr>\n",
       "  </thead>\n",
       "  <tbody>\n",
       "    <tr>\n",
       "      <th>0</th>\n",
       "      <td>1</td>\n",
       "      <td>CLSB</td>\n",
       "      <td>B</td>\n",
       "      <td>100000000</td>\n",
       "      <td>1</td>\n",
       "      <td>1</td>\n",
       "      <td>0.0700</td>\n",
       "      <td>260000</td>\n",
       "      <td>nan</td>\n",
       "      <td>NaN</td>\n",
       "    </tr>\n",
       "    <tr>\n",
       "      <th>1</th>\n",
       "      <td>2</td>\n",
       "      <td>BISV</td>\n",
       "      <td>B</td>\n",
       "      <td>100000000</td>\n",
       "      <td>2</td>\n",
       "      <td>1</td>\n",
       "      <td>6.9600</td>\n",
       "      <td>100</td>\n",
       "      <td>nan</td>\n",
       "      <td>NaN</td>\n",
       "    </tr>\n",
       "    <tr>\n",
       "      <th>2</th>\n",
       "      <td>3</td>\n",
       "      <td>CLSB</td>\n",
       "      <td>B</td>\n",
       "      <td>100000000</td>\n",
       "      <td>3</td>\n",
       "      <td>1</td>\n",
       "      <td>0.0650</td>\n",
       "      <td>1000000</td>\n",
       "      <td>nan</td>\n",
       "      <td>NaN</td>\n",
       "    </tr>\n",
       "    <tr>\n",
       "      <th>3</th>\n",
       "      <td>4</td>\n",
       "      <td>CLSBP</td>\n",
       "      <td>B</td>\n",
       "      <td>100000000</td>\n",
       "      <td>4</td>\n",
       "      <td>1</td>\n",
       "      <td>0.0736</td>\n",
       "      <td>10000</td>\n",
       "      <td>nan</td>\n",
       "      <td>NaN</td>\n",
       "    </tr>\n",
       "    <tr>\n",
       "      <th>4</th>\n",
       "      <td>5</td>\n",
       "      <td>DZRD</td>\n",
       "      <td>S</td>\n",
       "      <td>100000000</td>\n",
       "      <td>5</td>\n",
       "      <td>1</td>\n",
       "      <td>883.0000</td>\n",
       "      <td>1</td>\n",
       "      <td>nan</td>\n",
       "      <td>NaN</td>\n",
       "    </tr>\n",
       "  </tbody>\n",
       "</table>\n",
       "</div>"
      ],
      "text/plain": [
       "   NO SECCODE BUYSELL       TIME  ORDERNO  ACTION     PRICE   VOLUME TRADENO  \\\n",
       "0   1    CLSB       B  100000000        1       1    0.0700   260000     nan   \n",
       "1   2    BISV       B  100000000        2       1    6.9600      100     nan   \n",
       "2   3    CLSB       B  100000000        3       1    0.0650  1000000     nan   \n",
       "3   4   CLSBP       B  100000000        4       1    0.0736    10000     nan   \n",
       "4   5    DZRD       S  100000000        5       1  883.0000        1     nan   \n",
       "\n",
       "   TRADEPRICE  \n",
       "0         NaN  \n",
       "1         NaN  \n",
       "2         NaN  \n",
       "3         NaN  \n",
       "4         NaN  "
      ]
     },
     "execution_count": 231,
     "metadata": {},
     "output_type": "execute_result"
    }
   ],
   "source": [
    "fol.head(5)"
   ]
  },
  {
   "cell_type": "markdown",
   "metadata": {},
   "source": [
    "#  Соберем стакан из этого"
   ]
  },
  {
   "cell_type": "code",
   "execution_count": null,
   "metadata": {},
   "outputs": [],
   "source": []
  },
  {
   "cell_type": "markdown",
   "metadata": {},
   "source": [
    "Общая идея взята из статьи - https://habr.com/ru/post/276635/"
   ]
  },
  {
   "cell_type": "code",
   "execution_count": 337,
   "metadata": {},
   "outputs": [
    {
     "data": {
      "text/plain": [
       "(1311311, 12)"
      ]
     },
     "execution_count": 337,
     "metadata": {},
     "output_type": "execute_result"
    }
   ],
   "source": [
    "\n",
    "share = \"LKOH\"\n",
    "data = fol[fol[\"SECCODE\"] == share]\n",
    "data = data[data[\"ACTION\"] != 2]\n",
    "data[\"DATE\"] = date\n",
    "records = data.to_dict(\"records\")\n",
    "data.reset_index(inplace=True)\n",
    "data.shape"
   ]
  },
  {
   "cell_type": "code",
   "execution_count": 233,
   "metadata": {},
   "outputs": [
    {
     "data": {
      "text/html": [
       "<div>\n",
       "<style scoped>\n",
       "    .dataframe tbody tr th:only-of-type {\n",
       "        vertical-align: middle;\n",
       "    }\n",
       "\n",
       "    .dataframe tbody tr th {\n",
       "        vertical-align: top;\n",
       "    }\n",
       "\n",
       "    .dataframe thead th {\n",
       "        text-align: right;\n",
       "    }\n",
       "</style>\n",
       "<table border=\"1\" class=\"dataframe\">\n",
       "  <thead>\n",
       "    <tr style=\"text-align: right;\">\n",
       "      <th></th>\n",
       "      <th>index</th>\n",
       "      <th>NO</th>\n",
       "      <th>SECCODE</th>\n",
       "      <th>BUYSELL</th>\n",
       "      <th>TIME</th>\n",
       "      <th>ORDERNO</th>\n",
       "      <th>ACTION</th>\n",
       "      <th>PRICE</th>\n",
       "      <th>VOLUME</th>\n",
       "      <th>TRADENO</th>\n",
       "      <th>TRADEPRICE</th>\n",
       "      <th>DATE</th>\n",
       "    </tr>\n",
       "  </thead>\n",
       "  <tbody>\n",
       "    <tr>\n",
       "      <th>0</th>\n",
       "      <td>11</td>\n",
       "      <td>12</td>\n",
       "      <td>LKOH</td>\n",
       "      <td>S</td>\n",
       "      <td>100000000</td>\n",
       "      <td>12</td>\n",
       "      <td>1</td>\n",
       "      <td>2720.0</td>\n",
       "      <td>4</td>\n",
       "      <td>nan</td>\n",
       "      <td>NaN</td>\n",
       "      <td>20150311</td>\n",
       "    </tr>\n",
       "    <tr>\n",
       "      <th>1</th>\n",
       "      <td>71</td>\n",
       "      <td>72</td>\n",
       "      <td>LKOH</td>\n",
       "      <td>B</td>\n",
       "      <td>100000000</td>\n",
       "      <td>72</td>\n",
       "      <td>1</td>\n",
       "      <td>2702.0</td>\n",
       "      <td>50</td>\n",
       "      <td>nan</td>\n",
       "      <td>NaN</td>\n",
       "      <td>20150311</td>\n",
       "    </tr>\n",
       "    <tr>\n",
       "      <th>2</th>\n",
       "      <td>75</td>\n",
       "      <td>76</td>\n",
       "      <td>LKOH</td>\n",
       "      <td>S</td>\n",
       "      <td>100000000</td>\n",
       "      <td>76</td>\n",
       "      <td>1</td>\n",
       "      <td>2779.9</td>\n",
       "      <td>30</td>\n",
       "      <td>nan</td>\n",
       "      <td>NaN</td>\n",
       "      <td>20150311</td>\n",
       "    </tr>\n",
       "    <tr>\n",
       "      <th>3</th>\n",
       "      <td>148</td>\n",
       "      <td>149</td>\n",
       "      <td>LKOH</td>\n",
       "      <td>S</td>\n",
       "      <td>100000000</td>\n",
       "      <td>149</td>\n",
       "      <td>1</td>\n",
       "      <td>2745.7</td>\n",
       "      <td>5</td>\n",
       "      <td>nan</td>\n",
       "      <td>NaN</td>\n",
       "      <td>20150311</td>\n",
       "    </tr>\n",
       "    <tr>\n",
       "      <th>4</th>\n",
       "      <td>149</td>\n",
       "      <td>150</td>\n",
       "      <td>LKOH</td>\n",
       "      <td>S</td>\n",
       "      <td>100000000</td>\n",
       "      <td>150</td>\n",
       "      <td>1</td>\n",
       "      <td>2795.8</td>\n",
       "      <td>5</td>\n",
       "      <td>nan</td>\n",
       "      <td>NaN</td>\n",
       "      <td>20150311</td>\n",
       "    </tr>\n",
       "  </tbody>\n",
       "</table>\n",
       "</div>"
      ],
      "text/plain": [
       "   index   NO SECCODE BUYSELL       TIME  ORDERNO  ACTION   PRICE  VOLUME  \\\n",
       "0     11   12    LKOH       S  100000000       12       1  2720.0       4   \n",
       "1     71   72    LKOH       B  100000000       72       1  2702.0      50   \n",
       "2     75   76    LKOH       S  100000000       76       1  2779.9      30   \n",
       "3    148  149    LKOH       S  100000000      149       1  2745.7       5   \n",
       "4    149  150    LKOH       S  100000000      150       1  2795.8       5   \n",
       "\n",
       "  TRADENO  TRADEPRICE      DATE  \n",
       "0     nan         NaN  20150311  \n",
       "1     nan         NaN  20150311  \n",
       "2     nan         NaN  20150311  \n",
       "3     nan         NaN  20150311  \n",
       "4     nan         NaN  20150311  "
      ]
     },
     "execution_count": 233,
     "metadata": {},
     "output_type": "execute_result"
    }
   ],
   "source": [
    "data.head()"
   ]
  },
  {
   "cell_type": "code",
   "execution_count": 234,
   "metadata": {},
   "outputs": [],
   "source": [
    "class Matching_Engine:\n",
    "    def __init__(self):\n",
    "        self.bid = SortedDict()  # descending\n",
    "        self.ask = SortedDict()\n",
    "        self.bid_active_order = dict()\n",
    "        self.ask_active_order = dict()\n",
    "        self.bid_FIFO = dict()\n",
    "        self.ask_FIFO = dict()\n",
    "        self.day = None\n",
    "        self.share_name = \"LKOH\"\n",
    "        self.trade_log = []\n",
    "\n",
    "    def check_order(self, data):\n",
    "        if self.day != data[\"DATE\"]:\n",
    "            self.clean_dom()\n",
    "            self.share_name = data[\"SECCODE\"]\n",
    "            self.day = data[\"DATE\"]\n",
    "\n",
    "        if data[\"ACTION\"] == 1:\n",
    "            return self.check_add(data, new_trades=[])\n",
    "        elif data[\"ACTION\"] == 2:\n",
    "            pass\n",
    "        else:\n",
    "            self.delete_order(data)\n",
    "\n",
    "    ## First part - adding order\n",
    "\n",
    "    def check_add(self, data, rec_flag=False, new_trades=[]):\n",
    "        if (len(self.ask) > 0 and data['BUYSELL'] == \"B\" and\n",
    "            (data[\"PRICE\"] >= self.ask.peekitem(0)[0] or data[\"PRICE\"] < 0.000001)) or \\\n",
    "                (len(self.bid) > 0 and data['BUYSELL'] == \"S\" and data[\"PRICE\"] <= self.bid.peekitem(-1)[0]):\n",
    "            if not rec_flag:\n",
    "                self.add_order(data)\n",
    "            return self.trade(data, new_trades=new_trades)\n",
    "        else:\n",
    "            if not rec_flag:\n",
    "                self.add_order(data)\n",
    "\n",
    "    def add_order(self, data):\n",
    "        if data['BUYSELL'] == \"B\":\n",
    "            self.bid_active_order[data[\"ORDERNO\"]] = (data[\"PRICE\"], data[\"VOLUME\"])\n",
    "            if data[\"PRICE\"] not in self.bid:\n",
    "                self.bid[data[\"PRICE\"]] = data[\"VOLUME\"]\n",
    "                self.bid_FIFO[data[\"PRICE\"]] = [data[\"ORDERNO\"]]\n",
    "            else:\n",
    "                self.bid[data[\"PRICE\"]] += data[\"VOLUME\"]\n",
    "                self.bid_FIFO[data[\"PRICE\"]].append(data[\"ORDERNO\"])\n",
    "        else:\n",
    "            self.ask_active_order[data[\"ORDERNO\"]] = (data[\"PRICE\"], data[\"VOLUME\"])\n",
    "            if data[\"PRICE\"] not in self.ask:\n",
    "                self.ask[data[\"PRICE\"]] = data[\"VOLUME\"]\n",
    "                self.ask_FIFO[data[\"PRICE\"]] = [data[\"ORDERNO\"]]\n",
    "            else:\n",
    "                self.ask[data[\"PRICE\"]] += data[\"VOLUME\"]\n",
    "                self.ask_FIFO[data[\"PRICE\"]].append(data[\"ORDERNO\"])\n",
    "\n",
    "    ## Second part - delete order\n",
    "\n",
    "    def delete_order(self, data):\n",
    "        if data['BUYSELL'] == \"B\":\n",
    "            self.bid_FIFO[data[\"PRICE\"]].pop(self.bid_FIFO[data[\"PRICE\"]].index(data[\"ORDERNO\"]))\n",
    "            self.bid[data[\"PRICE\"]] -= self.bid_active_order[data[\"ORDERNO\"]][1]\n",
    "            if len(self.bid_FIFO[data[\"PRICE\"]]) < 1:\n",
    "                del self.bid_FIFO[data[\"PRICE\"]]\n",
    "            del self.bid_active_order[data[\"ORDERNO\"]]\n",
    "            if self.bid[data[\"PRICE\"]] < 0.000000001:\n",
    "                del self.bid[data[\"PRICE\"]]\n",
    "        else:\n",
    "            self.ask[data[\"PRICE\"]] -= self.ask_active_order[data[\"ORDERNO\"]][1]\n",
    "            self.ask_FIFO[data[\"PRICE\"]].pop(self.ask_FIFO[data[\"PRICE\"]].index(data[\"ORDERNO\"]))\n",
    "            if len(self.ask_FIFO[data[\"PRICE\"]]) < 1:\n",
    "                del self.ask_FIFO[data[\"PRICE\"]]\n",
    "            del self.ask_active_order[data[\"ORDERNO\"]]\n",
    "            if self.ask[data[\"PRICE\"]] < 0.000000001:\n",
    "                del self.ask[data[\"PRICE\"]]\n",
    "\n",
    "    ## Third part - match order\n",
    "    def trade(self, data, new_trades=[]):\n",
    "        if data['BUYSELL'] == \"B\":\n",
    "            return self.exec_buy_order(data, new_trades=new_trades)\n",
    "        else:\n",
    "            return self.exec_sell_order(data, new_trades=new_trades)\n",
    "\n",
    "    def exec_sell_order(self, data, new_trades=[]):\n",
    "        go_trade = True\n",
    "        while go_trade:\n",
    "            go_trade = False\n",
    "            sell_order = self.ask_active_order[data[\"ORDERNO\"]]\n",
    "            tradeprice = self.bid.peekitem(-1)[0]\n",
    "            order_no = self.bid_FIFO[tradeprice][0]\n",
    "            if str(order_no)[0] == 'm':\n",
    "                out_no = \"mm_past\"\n",
    "            else:\n",
    "                out_no = order_no\n",
    "            buy_order = self.bid_active_order[order_no]\n",
    "            if buy_order[1] > sell_order[1]:\n",
    "                self.bid_active_order[order_no] = (self.bid_active_order[order_no][0],\n",
    "                                                   buy_order[1] - sell_order[1])\n",
    "                trade_vol = sell_order[1]\n",
    "                self.bid[buy_order[0]] -= trade_vol\n",
    "                self.delete_order(data)\n",
    "            elif buy_order[1] == sell_order[1]:\n",
    "                self.delete_order(data)\n",
    "                tmp = dict()\n",
    "                tmp[\"BUYSELL\"] = \"B\"\n",
    "\n",
    "                tmp[\"PRICE\"] = buy_order[0]\n",
    "                tmp[\"ORDERNO\"] = order_no\n",
    "\n",
    "                self.delete_order(tmp)\n",
    "                trade_vol = sell_order[1]\n",
    "            else:\n",
    "                # iseberg or error\n",
    "                tmp = dict()\n",
    "                tmp[\"BUYSELL\"] = \"B\"\n",
    "                tmp[\"PRICE\"] = buy_order[0]\n",
    "                tmp[\"ORDERNO\"] = order_no\n",
    "                self.delete_order(tmp)\n",
    "                trade_vol = buy_order[1]\n",
    "                self.ask[sell_order[0]] -= trade_vol\n",
    "                self.ask_active_order[data[\"ORDERNO\"]] = (self.ask_active_order[data[\"ORDERNO\"]][0],\n",
    "                                                          sell_order[1] - buy_order[1])\n",
    "                # TODO не учтено полное пробитие стакана!!\n",
    "                if len(self.bid) == 0:\n",
    "                    #reject стакан пробит\n",
    "                    go_trade = False\n",
    "                    #print(\"пробит стакан\")\n",
    "                elif self.bid.peekitem(-1)[0] >= sell_order[0] or data[\"PRICE\"] < 0.000000001:\n",
    "                    go_trade = True\n",
    "\n",
    "            self.trade_log.append(\n",
    "                [tradeprice, trade_vol, data[\"ORDERNO\"], out_no, tradeprice * trade_vol, data[\"TIME\"], data[\"NO\"], \"S\"])\n",
    "            new_trades.append(self.trade_log[-1])\n",
    "            if buy_order[1] < 0 or sell_order[1] < 0:\n",
    "                print(\"Maybe error\", buy_order, sell_order)\n",
    "                raise Exception(buy_order, sell_order)\n",
    "            if go_trade:\n",
    "                data[\"VOLUME\"] -= trade_vol\n",
    "                self.ask_active_order[data[\"ORDERNO\"]] = (self.ask_active_order[data[\"ORDERNO\"]][0], data[\"VOLUME\"])\n",
    "                # self.ask[data[\"PRICE\"]] -= data[\"VOLUME\"]\n",
    "                # return self.check_add(data, rec_flag=True, new_trades=new_trades)\n",
    "        return new_trades\n",
    "\n",
    "    def exec_buy_order(self, data, new_trades=[]):\n",
    "        go_trade = True\n",
    "        while go_trade:\n",
    "            go_trade = False\n",
    "            buy_order = self.bid_active_order[data[\"ORDERNO\"]]\n",
    "            tradeprice = self.ask.peekitem(0)[0]\n",
    "            order_no = self.ask_FIFO[tradeprice][0]\n",
    "            if str(order_no)[0] == 'm':\n",
    "                out_no = \"mm_past\"\n",
    "            else:\n",
    "                out_no = order_no\n",
    "            sell_order = self.ask_active_order[order_no]\n",
    "            if sell_order[1] > buy_order[1]:\n",
    "                self.ask_active_order[order_no] = (self.ask_active_order[order_no][0],\n",
    "                                                   sell_order[1] - buy_order[1])\n",
    "                trade_vol = buy_order[1]\n",
    "                self.ask[sell_order[0]] -= trade_vol\n",
    "                self.delete_order(data)\n",
    "            elif buy_order[1] == sell_order[1]:\n",
    "                self.delete_order(data)\n",
    "                tmp = dict()\n",
    "                tmp[\"BUYSELL\"] = \"S\"\n",
    "                tmp[\"PRICE\"] = sell_order[0]\n",
    "                tmp[\"ORDERNO\"] = self.ask_FIFO[tradeprice][0]\n",
    "                self.delete_order(tmp)\n",
    "                trade_vol = sell_order[1]\n",
    "            else:\n",
    "                # iseberg or error\n",
    "                tmp = dict()\n",
    "                tmp[\"BUYSELL\"] = \"S\"\n",
    "                tmp[\"PRICE\"] = sell_order[0]\n",
    "                tmp[\"ORDERNO\"] = order_no\n",
    "                self.delete_order(tmp)\n",
    "                trade_vol = sell_order[1]\n",
    "                self.bid[buy_order[0]] -= trade_vol\n",
    "                self.bid_active_order[data[\"ORDERNO\"]] = (self.bid_active_order[data[\"ORDERNO\"]][0],\n",
    "                                                          buy_order[1] - sell_order[1])\n",
    "                if len(self.ask) == 0:\n",
    "                    #reject стакан пробит\n",
    "                    go_trade = False\n",
    "                elif self.ask.peekitem(0)[0] <= buy_order[0] or data[\"PRICE\"] < 0.000000001:\n",
    "                    go_trade = True\n",
    "\n",
    "            # TODO Мне кажется здесь потенциальная ошибка, не предусмотрено что аркет мейкер заявка может в кого то удариться\n",
    "            self.trade_log.append(\n",
    "                [tradeprice, trade_vol, data[\"ORDERNO\"], out_no, tradeprice * trade_vol, data[\"TIME\"], data[\"NO\"], \"B\"])\n",
    "            new_trades.append(self.trade_log[-1])\n",
    "            if buy_order[1] < 0 or sell_order[1] < 0:\n",
    "                print(\"Maybe error\", buy_order, sell_order)\n",
    "                raise Exception(buy_order, sell_order)\n",
    "            if go_trade:\n",
    "                data[\"VOLUME\"] -= trade_vol\n",
    "                self.bid_active_order[data[\"ORDERNO\"]] = (self.bid_active_order[data[\"ORDERNO\"]][0], data[\"VOLUME\"])\n",
    "                # self.bid[data[\"PRICE\"]] -= data[\"VOLUME\"]\n",
    "                return self.check_add(data, rec_flag=True, new_trades=new_trades)\n",
    "        return new_trades\n",
    "\n",
    "    ## Others\n",
    "\n",
    "    def clean_dom(self):\n",
    "        self.__init__()\n"
   ]
  },
  {
   "cell_type": "code",
   "execution_count": 236,
   "metadata": {
    "scrolled": false
   },
   "outputs": [
    {
     "name": "stderr",
     "output_type": "stream",
     "text": [
      "100%|██████████| 1311311/1311311 [00:06<00:00, 194378.10it/s]\n"
     ]
    }
   ],
   "source": [
    "dom = Matching_Engine()\n",
    "errors = 0\n",
    "isebergs = pd.read_csv(\"/Users/a185583357/Desktop/MOEX/OrderLog\" + date + \"/isebergs_\" + share + date + \".csv\", index_col=0).to_dict()[\"vol\"]\n",
    "\n",
    "for i in tqdm(range(len(records))):\n",
    "    record = records[i].copy()\n",
    "    if record[\"ACTION\"] == 1 and record[\"ORDERNO\"] in isebergs:\n",
    "        record[\"VOLUME\"] = isebergs[record[\"ORDERNO\"]]\n",
    "    try:\n",
    "        out = dom.check_order(record)\n",
    "    except Exception as e:\n",
    "        #print(e)\n",
    "        if record[\"ACTION\"] == 1:\n",
    "            print(\"MAYBE Some problem, cant add order\")\n",
    "            dom.check_order(record)\n",
    "            raise Exception\n",
    "        errors += 1"
   ]
  },
  {
   "cell_type": "code",
   "execution_count": 237,
   "metadata": {},
   "outputs": [
    {
     "data": {
      "text/plain": [
       "[2719.0, 4, 13484038, 13483855, 10876.0, 183958997, 27488005, 'S']"
      ]
     },
     "execution_count": 237,
     "metadata": {},
     "output_type": "execute_result"
    }
   ],
   "source": [
    "dom.trade_log[-1]"
   ]
  },
  {
   "cell_type": "markdown",
   "metadata": {},
   "source": [
    "# Теперь сделаем заготовку для ML, для этого соберем numpy array снапшота стакана и последих трейдов"
   ]
  },
  {
   "cell_type": "code",
   "execution_count": 238,
   "metadata": {},
   "outputs": [],
   "source": [
    "deep = 1"
   ]
  },
  {
   "cell_type": "code",
   "execution_count": 239,
   "metadata": {},
   "outputs": [],
   "source": [
    "def RSI (data, time_window):\n",
    "    diff = data.diff(1).dropna()        # diff in one field(one day)\n",
    "\n",
    "    #this preservers dimensions off diff values\n",
    "    up_chg = deepcopy(0 * diff)\n",
    "    down_chg = deepcopy(0 * diff)\n",
    "    \n",
    "    # up change is equal to the positive difference, otherwise equal to zero\n",
    "    up_chg[diff > 0] = diff[ diff>0 ]\n",
    "    \n",
    "    # down change is equal to negative deifference, otherwise equal to zero\n",
    "    down_chg[diff < 0] = diff[ diff < 0 ]\n",
    "   \n",
    "    \n",
    "    # check pandas documentation for ewm\n",
    "    # https://pandas.pydata.org/pandas-docs/stable/reference/api/pandas.DataFrame.ewm.html\n",
    "    # values are related to exponential decay\n",
    "    # we set com=time_window-1 so we get decay alpha=1/time_window\n",
    "    \n",
    "    up_chg_avg   = up_chg.mean()\n",
    "    down_chg_avg = down_chg.mean()\n",
    "    \n",
    "    if down_chg_avg == 0:\n",
    "        return 100.0\n",
    "    rs = abs(up_chg_avg/down_chg_avg)\n",
    "    rsi = 100 - 100/(1+rs)\n",
    "    return rsi"
   ]
  },
  {
   "cell_type": "code",
   "execution_count": 240,
   "metadata": {},
   "outputs": [],
   "source": [
    "def VWAP(trade_log, record, vwap, top_price, min_price, timerange=1):\n",
    "    timenow = datetime.datetime.strptime(str(record[\"TIME\"]), '%H%M%S%f')\n",
    "    time_log = pd.to_datetime(pd.Series(np.array(trade_log)[:, -3]), format='%H%M%S%f')\n",
    "    trades_window = np.array(trade_log)[time_log > (timenow - datetime.timedelta(seconds=timerange))]\n",
    "    if trades_window.shape[0] == 0:\n",
    "        return vwap, top_price, min_price\n",
    "    else:\n",
    "        return sum(trades_window[:, 0].astype(float) * trades_window[:, 1].astype(int)) /  sum(trades_window[:, 1].astype(int)), max(trades_window[:, 0].astype(float)), min(trades_window[:, 0].astype(float))"
   ]
  },
  {
   "cell_type": "code",
   "execution_count": null,
   "metadata": {},
   "outputs": [],
   "source": []
  },
  {
   "cell_type": "code",
   "execution_count": 241,
   "metadata": {},
   "outputs": [
    {
     "data": {
      "text/plain": [
       "2734.3"
      ]
     },
     "execution_count": 241,
     "metadata": {},
     "output_type": "execute_result"
    }
   ],
   "source": [
    "tmp = datetime.datetime.strptime(str(record[\"TIME\"]), '%H%M%S%f')\n",
    "time_log = pd.to_datetime(pd.Series(np.array(dom.trade_log)[:, -3]), format='%H%M%S%f')\n",
    "tmp = np.array(dom.trade_log)[time_log > (tmp - datetime.timedelta(seconds=500))]\n",
    "max(tmp[:, 0].astype(float))"
   ]
  },
  {
   "cell_type": "code",
   "execution_count": 257,
   "metadata": {},
   "outputs": [],
   "source": [
    "sma5, sma10, sma30, sma50, sma100 = 0, 0, 0, 0, 0\n",
    "ema5, ema10, ema30, ema100 = 0, 0, 0, 0\n",
    "std10, std50, std100, std1000 = 0, 0, 0, 0\n",
    "rsi14, rsi50, rsi100, rsi300 = 0, 0, 0, 0\n",
    "vwap1, vwap30, vwap60 = 0, 0, 0\n",
    "top_price1, top_price30, top_price60 = 0, 0, 0\n",
    "min_price1, min_price30, min_price60 = 0, 0, 0\n",
    "\n",
    "def get_technical_indicator(change, trade_log, output, record):\n",
    "    #TODO это однозначно можно сделать оптимальнее!!\n",
    "    global deep\n",
    "    global sma5, sma10, sma30, sma50, sma100\n",
    "    global ema5, ema10, ema30, ema100\n",
    "    global std10, std50, std100, std1000 \n",
    "    global rsi14, rsi50, rsi100, rsi300\n",
    "    global vwap1, vwap30, vwap60\n",
    "    global top_price1, top_price30, top_price60\n",
    "    global min_price1, min_price30, min_price60\n",
    "    if change != 0:        \n",
    "        sma5 = np.array(trade_log[-5:])[:, 0].astype(float).mean()\n",
    "        sma10 = np.array(trade_log[-10:])[:, 0].astype(float).mean()\n",
    "        sma30 = np.array(trade_log[-30:])[:, 0].astype(float).mean()\n",
    "        sma50 = np.array(trade_log[-50:])[:, 0].astype(float).mean()\n",
    "        sma100 = np.array(trade_log[-100:])[:, 0].astype(float).mean()\n",
    "        #EMA\n",
    "        ema5 = pd.DataFrame(np.array(trade_log[-5:])[:, 0].astype(float)).ewm(span=5).mean().iat[-1, 0]\n",
    "        ema10 = pd.DataFrame(np.array(trade_log[-10:])[:, 0].astype(float)).ewm(span=10).mean().iat[-1, 0]\n",
    "        ema30 = pd.DataFrame(np.array(trade_log[-30:])[:, 0].astype(float)).ewm(span=30).mean().iat[-1, 0]\n",
    "        ema100 = pd.DataFrame(np.array(trade_log[-100:])[:, 0].astype(float)).ewm(span=30).mean().iat[-1, 0]\n",
    "        #std\n",
    "        std10 = np.array(trade_log[-10:])[:, 0].astype(float).std()\n",
    "        std50 = np.array(trade_log[-50:])[:, 0].astype(float).std()\n",
    "        std100 = np.array(trade_log[-100:])[:, 0].astype(float).std()\n",
    "        std1000 = np.array(trade_log[-1000:])[:, 0].astype(float).std()\n",
    "        #RSI\n",
    "        rsi14 = RSI(pd.Series(np.array(trade_log[-14:])[:, 0].astype(float)), 14)\n",
    "        rsi50 = RSI(pd.Series(np.array(trade_log[-50:])[:, 0].astype(float)), 50)\n",
    "        rsi100 = RSI(pd.Series(np.array(trade_log[-100:])[:, 0].astype(float)), 100)\n",
    "        rsi300 = RSI(pd.Series(np.array(trade_log[-300:])[:, 0].astype(float)), 300)\n",
    "        #VWAP, top, min\n",
    "        vwap1, top_price1, min_price1 = VWAP(trade_log[-1000:], record, vwap1, top_price1, min_price1, timerange=1)\n",
    "        vwap30, top_price30, min_price30 = VWAP(trade_log[-3000:], record, vwap30, top_price30, min_price60, timerange=30)\n",
    "        vwap60, top_price60, min_price60 = VWAP(trade_log[-5000:], record, vwap60, top_price30, min_price60, timerange=60)\n",
    "    output[deep * 4 + 7] = sma5\n",
    "    output[deep * 4 + 8] = sma10\n",
    "    output[deep * 4 + 9] = sma30\n",
    "    output[deep * 4 + 10] = sma50\n",
    "    output[deep * 4 + 11] = sma100\n",
    "    #EMA\n",
    "    output[deep * 4 + 12] = ema5\n",
    "    output[deep * 4 + 13] = ema10\n",
    "    output[deep * 4 + 14] = ema30\n",
    "    output[deep * 4 + 15] = ema100\n",
    "    #std\n",
    "    output[deep * 4 + 16] = std10\n",
    "    output[deep * 4 + 17] = std50\n",
    "    output[deep * 4 + 18] = std100\n",
    "    output[deep * 4 + 19] = std1000\n",
    "    #RSI\n",
    "    output[deep * 4 + 20] = rsi14\n",
    "    output[deep * 4 + 21] = rsi50\n",
    "    output[deep * 4 + 22] = rsi100\n",
    "    output[deep * 4 + 23] = rsi300\n",
    "    #VWAP\n",
    "    output[deep * 4 + 24] = vwap1\n",
    "    output[deep * 4 + 25] = vwap30\n",
    "    output[deep * 4 + 26] = vwap60\n",
    "    #top\n",
    "    output[deep * 4 + 27] = top_price1\n",
    "    output[deep * 4 + 28] = top_price30\n",
    "    output[deep * 4 + 29] = top_price60\n",
    "    #min\n",
    "    output[deep * 4 + 30] = min_price1\n",
    "    output[deep * 4 + 31] = min_price30\n",
    "    output[deep * 4 + 32] = min_price60\n",
    "    # moment liquidity\n",
    "    output[deep * 4 + 33] = 0\n",
    "    output[deep * 4 + 34] = 0\n",
    "    for i in range(0, deep):\n",
    "        output[deep * 4 + 33] += output[deep * 4 + 1]\n",
    "        output[deep * 4 + 34] += output[deep * 4 + 3]\n",
    "\n",
    "    if (output[deep * 4 + 33] + output[deep * 4 + 34]) != 0:\n",
    "        output[deep * 4 + 35] = output[deep * 4 + 33] / (output[deep * 4 + 33] + output[deep * 4 + 34])\n",
    "    else:\n",
    "        output[deep * 4 + 35] = 0\n",
    "    \n",
    "    return output"
   ]
  },
  {
   "cell_type": "code",
   "execution_count": 298,
   "metadata": {},
   "outputs": [],
   "source": [
    "def construct_raw(dom, deep, raw_data, record):\n",
    "    output = [0] * (deep * 4 + 36)\n",
    "    trade_log = dom.trade_log\n",
    "    bids = list(dom.bid.items())\n",
    "    asks = list(dom.ask.items())\n",
    "    for i in range(0, deep):\n",
    "        if len(bids) > i:\n",
    "            #print(bids[-1], i)\n",
    "            output[(2 * deep) - 2 * i - 1] = bids[-i - 1][1]\n",
    "            output[(2 * deep) - 2 * i - 2] = bids[-i - 1][0]\n",
    "        if len(asks) > i:\n",
    "            #print(asks, i)\n",
    "            output[(2 * deep) + 2 * i + 1] = asks[i][1]\n",
    "            output[(2 * deep) + 2 * i] = asks[i][0]\n",
    "    if len(dom.trade_log) > 0:\n",
    "        #print(dom.trade_log[-1])\n",
    "        output[deep * 4] = dom.trade_log[-1][0]\n",
    "        output[deep * 4 + 1] = dom.trade_log[-1][1]\n",
    "        if output[deep * 4 + 2] == \"B\":\n",
    "            output[deep * 4 + 2] = -1\n",
    "        else:\n",
    "            output[deep * 4 + 2] = 1\n",
    "        if len(raw_data) != 0:\n",
    "            change = raw_data[-1][deep * 4] - output[deep * 4]\n",
    "        else:\n",
    "            change = 0\n",
    "        if change == 0:\n",
    "            output[deep * 4 + 3] = 0\n",
    "        elif change > 0:\n",
    "            output[deep * 4 + 3] = -1\n",
    "        else:\n",
    "            output[deep * 4 + 3] = 1\n",
    "            \n",
    "        output[deep * 4 + 4] = dom.trade_log[-1][-3]\n",
    "    output[deep * 4 + 5] = int(record[\"DATE\"])\n",
    "    output[deep * 4 + 6] = record[\"TIME\"]\n",
    "    \n",
    "    \n",
    "    if len(trade_log) > 50:\n",
    "        output = get_technical_indicator(change, trade_log, output, record)\n",
    "    \n",
    "    \n",
    "    return output"
   ]
  },
  {
   "cell_type": "code",
   "execution_count": 259,
   "metadata": {},
   "outputs": [
    {
     "name": "stderr",
     "output_type": "stream",
     "text": [
      "100%|██████████| 1311311/1311311 [19:26<00:00, 1123.73it/s]\n"
     ]
    },
    {
     "data": {
      "text/plain": [
       "1311311"
      ]
     },
     "execution_count": 259,
     "metadata": {},
     "output_type": "execute_result"
    }
   ],
   "source": [
    "def get_data(date, records, deep):\n",
    "    dom = Matching_Engine()\n",
    "    errors = 0\n",
    "    isebergs = pd.read_csv(\"/Users/a185583357/Desktop/MOEX/OrderLog\" + date + \"/isebergs_\" + share + date + \".csv\", index_col=0).to_dict()[\"vol\"]\n",
    "    raw_data = []\n",
    "\n",
    "    for i in tqdm(range(len(records))):\n",
    "        record = records[i].copy()\n",
    "        if record[\"ACTION\"] == 1 and record[\"ORDERNO\"] in isebergs:\n",
    "            record[\"VOLUME\"] = isebergs[record[\"ORDERNO\"]]\n",
    "        try:\n",
    "            out = dom.check_order(record)\n",
    "            raw_data.append(construct_raw(dom, deep, raw_data, record))\n",
    "        except Exception as e:\n",
    "            #print(e)\n",
    "            if record[\"ACTION\"] == 1:\n",
    "                print(\"MAYBE Some problem, cant add order\")\n",
    "                dom.check_order(record)\n",
    "                raise Exception\n",
    "            raw_data.append(construct_raw(dom, deep, raw_data, record))\n",
    "            errors += 1\n",
    "    return raw_data\n",
    "\n",
    "\n",
    "raw_data = get_data(date, records, deep)\n",
    "#raw_data[1000]\n",
    "len(raw_data)"
   ]
  },
  {
   "cell_type": "code",
   "execution_count": 245,
   "metadata": {},
   "outputs": [],
   "source": [
    "def find_nearest(raw, future1, future30, future60):\n",
    "    dt = raw.Time\n",
    "    nearest1 = future1.iloc[future1.index.get_loc(dt, method='nearest')]\n",
    "    nearest30 = future30.iloc[future30.index.get_loc(dt, method='nearest')]\n",
    "    nearest60 = future60.iloc[future60.index.get_loc(dt, method='nearest')]\n",
    "    raw[\"FutureVWAP1\"] = nearest1[\"FutureVWAP1\"]\n",
    "    raw[\"MIN1\"] = nearest1[\"MIN1\"]\n",
    "    raw[\"TOP1\"] = nearest1[\"TOP1\"]    \n",
    "    raw[\"FutureVWAP30\"] = nearest30[\"FutureVWAP30\"]\n",
    "    raw[\"MIN30\"] = nearest30[\"MIN30\"]\n",
    "    raw[\"TOP30\"] = nearest30[\"TOP30\"]\n",
    "    raw[\"FutureVWAP60\"] = nearest60[\"FutureVWAP60\"]\n",
    "    raw[\"MIN60\"] = nearest60[\"MIN60\"]\n",
    "    raw[\"TOP60\"] = nearest60[\"TOP60\"]\n",
    "    return raw\n",
    "    \n",
    "\n",
    "\n",
    "def create_future_vwap(snapchot):\n",
    "    snapchot[\"FutureVWAP1\"] = deepcopy(snapchot[\"VWAP1\"])\n",
    "    snapchot[\"FutureVWAP30\"] = deepcopy(snapchot[\"VWAP30\"])\n",
    "    snapchot[\"FutureVWAP60\"] = deepcopy(snapchot[\"VWAP60\"])\n",
    "    future1 = deepcopy(snapchot.shift(freq=-timedelta(seconds=1)))\n",
    "    future30 = deepcopy(snapchot.shift(freq=-timedelta(seconds=30)))\n",
    "    future60 = deepcopy(snapchot.shift(freq=-timedelta(seconds=60)))\n",
    "    try:\n",
    "        snapchot = snapchot.parallel_apply(find_nearest, args=(future1, future30, future60), axis=1)\n",
    "    except:\n",
    "        snapchot = snapchot.progress_apply(find_nearest, args=(future1, future30, future60), axis=1)\n",
    "    snapchot[\"Difference1\"] = snapchot[\"FutureVWAP1\"] - snapchot[\"VWAP1\"]\n",
    "    snapchot[\"Difference30\"] = snapchot[\"FutureVWAP30\"] - snapchot[\"VWAP30\"]\n",
    "    snapchot[\"Difference60\"] = snapchot[\"FutureVWAP60\"] - snapchot[\"VWAP60\"]\n",
    "    snapchot[\"IsUp1\"] = np.sign(snapchot[\"Difference1\"])\n",
    "    snapchot[\"IsUp30\"] = np.sign(snapchot[\"Difference30\"])\n",
    "    snapchot[\"IsUp60\"] = np.sign(snapchot[\"Difference60\"])\n",
    "    return snapchot\n",
    "    "
   ]
  },
  {
   "cell_type": "code",
   "execution_count": 246,
   "metadata": {},
   "outputs": [],
   "source": [
    "pd.DataFrame(raw_data).to_csv(\"../\" + share + date + \".csv\")"
   ]
  },
  {
   "cell_type": "code",
   "execution_count": 247,
   "metadata": {},
   "outputs": [],
   "source": [
    "raw_data = pd.read_csv(\"../\" + share + date + \".csv\").drop(['Unnamed: 0'], axis=1)\n",
    "raw_data = raw_data.values.tolist()"
   ]
  },
  {
   "cell_type": "code",
   "execution_count": 282,
   "metadata": {},
   "outputs": [
    {
     "data": {
      "text/plain": [
       "array([[0.000e+00, 0.000e+00, 2.720e+03, ..., 0.000e+00, 0.000e+00,\n",
       "        0.000e+00],\n",
       "       [2.702e+03, 5.000e+01, 2.720e+03, ..., 0.000e+00, 0.000e+00,\n",
       "        0.000e+00],\n",
       "       [2.702e+03, 5.000e+01, 2.720e+03, ..., 0.000e+00, 0.000e+00,\n",
       "        0.000e+00],\n",
       "       ...,\n",
       "       [2.706e+03, 2.000e+00, 2.720e+03, ..., 4.000e+00, 0.000e+00,\n",
       "        1.000e+00],\n",
       "       [2.706e+03, 2.000e+00, 2.720e+03, ..., 4.000e+00, 0.000e+00,\n",
       "        1.000e+00],\n",
       "       [2.706e+03, 2.000e+00, 2.720e+03, ..., 4.000e+00, 0.000e+00,\n",
       "        1.000e+00]])"
      ]
     },
     "execution_count": 282,
     "metadata": {},
     "output_type": "execute_result"
    }
   ],
   "source": [
    "np.array(raw_data)"
   ]
  },
  {
   "cell_type": "code",
   "execution_count": 279,
   "metadata": {},
   "outputs": [
    {
     "data": {
      "application/vnd.jupyter.widget-view+json": {
       "model_id": "f83f9d315a57411f878fbbae87137121",
       "version_major": 2,
       "version_minor": 0
      },
      "text/plain": [
       "VBox(children=(HBox(children=(IntProgress(value=0, description='0.00%', max=7398), Label(value='0 / 7398'))), …"
      ]
     },
     "metadata": {},
     "output_type": "display_data"
    }
   ],
   "source": [
    "def get_df_y(raw_data, deep):\n",
    "    columns = []\n",
    "    for col in [\"Bid\", \"Ask\"]:\n",
    "        for num in range(1, 1 + deep):\n",
    "            if col == \"Bid\":\n",
    "                num = deep - num + 1\n",
    "            columns.append(col + \"Price\" + str(num))\n",
    "            columns.append(col + \"Volume\" + str(num))\n",
    "    dupl_col = deepcopy(columns)\n",
    "    columns += [\"Last Trade Price\"] + [\"Last Trade Volume\"] + [\"Side\"] + [\"isNewTrade\"] + \\\n",
    "    [\"LastDealTime\"] + [\"Date\"] + [\"Time\"] + [\"SMA5\"] + [\"SMA10\"] + [\"SMA30\"] + [\"SMA50\"] + [\"SMA100\"] +\\\n",
    "    [\"EMA5\"] + [\"EMA10\"] + [\"EMA30\"] + [\"EMA100\"] + [\"STD10\"] + [\"STD50\"] + [\"STD100\"] + [\"STD1000\"] +\\\n",
    "    [\"RSI14\"] + [\"RSI50\"] + [\"RSI100\"] + [\"RSI300\"] + [\"VWAP1\"] + [\"VWAP30\"] + [\"VWAP60\"] +\\\n",
    "    [\"TOP1\"] + [\"TOP30\"] + [\"TOP60\"] + [\"MIN1\"] + [\"MIN30\"] + [\"MIN60\"] + \\\n",
    "    [\"LiquidityBid\"] + ['LiquidityAsk'] + [\"BidLiquidityRatio\"]\n",
    "    snapschot = pd.DataFrame(np.stack(raw_data, axis=0), columns=columns)\n",
    "    \"\"\"\n",
    "    snapschot[\"LiquidityBid\"] = 0\n",
    "    snapschot[\"LiquidityAsk\"] = 0\n",
    "    for i in range(1, 1 + deep):\n",
    "        snapschot['LiquidityAsk'] += snapschot[\"AskVolume\" + str(i)]\n",
    "        snapschot[\"LiquidityBid\"] += snapschot[\"BidVolume\" + str(i)]\n",
    "\n",
    "    snapschot[\"BidLiquidityRatio\"] = snapschot[\"LiquidityBid\"] / (snapschot[\"LiquidityBid\"] + snapschot[\"LiquidityAsk\"])\n",
    "    \"\"\"\n",
    "    copy_snapschot = deepcopy(snapschot)\n",
    "    snapschot = snapschot[snapschot[\"Time\"] > 100002000.0]\n",
    "    \n",
    "    snapschot.drop_duplicates(subset=dupl_col,inplace=True)\n",
    "    \n",
    "    snapschot.index = snapschot[\"Time\"]\n",
    "    snapschot = snapschot[~snapschot.index.duplicated(keep='last')]\n",
    "    tmp_time = deepcopy(snapschot.index)\n",
    "    snapschot[\"Time\"] = pd.to_datetime((snapschot[\"Time\"]), format='%H%M%S%f')\n",
    "    snapschot.index = snapschot[\"Time\"]\n",
    "    snapschot = create_future_vwap(snapschot)\n",
    "    snapschot[\"Time\"] = tmp_time\n",
    "    y = np.array(snapschot[\"IsUp60\"])\n",
    "    drop_col = [\"IsUp1\", \"IsUp30\", \"IsUp60\", \"Difference1\", \"Difference30\", \"Difference60\",\n",
    "                \"FutureVWAP1\", \"FutureVWAP30\", \"FutureVWAP60\", \"Time\"]\n",
    "    df = snapschot.drop(drop_col, axis=1)\n",
    "    return df, np.array(y), snapschot, copy_snapschot\n",
    "\n",
    "df, y, snapschot, copy_snapschot = get_df_y(raw_data, deep)\n",
    "snapschot.to_csv(share + date + \".csv\")"
   ]
  },
  {
   "cell_type": "code",
   "execution_count": 302,
   "metadata": {},
   "outputs": [],
   "source": [
    "def delete_time(raw_data):\n",
    "    pred_raw = np.array(raw_data)\n",
    "    return np.concatenate((pred_raw[:,:deep * 4 + 6], pred_raw[:,deep * 4 + 7:]), axis=1)"
   ]
  },
  {
   "cell_type": "markdown",
   "metadata": {},
   "source": [
    "## Attention надо обязательно сделать задержку и смещение"
   ]
  },
  {
   "cell_type": "markdown",
   "metadata": {},
   "source": [
    "Данные готовы, по одному дню сбера. теперь посмотрим на них"
   ]
  },
  {
   "cell_type": "markdown",
   "metadata": {},
   "source": [
    "## Здесь будут графики и анализ существующих данных"
   ]
  },
  {
   "cell_type": "code",
   "execution_count": 260,
   "metadata": {},
   "outputs": [
    {
     "data": {
      "text/html": [
       "<div>\n",
       "<style scoped>\n",
       "    .dataframe tbody tr th:only-of-type {\n",
       "        vertical-align: middle;\n",
       "    }\n",
       "\n",
       "    .dataframe tbody tr th {\n",
       "        vertical-align: top;\n",
       "    }\n",
       "\n",
       "    .dataframe thead th {\n",
       "        text-align: right;\n",
       "    }\n",
       "</style>\n",
       "<table border=\"1\" class=\"dataframe\">\n",
       "  <thead>\n",
       "    <tr style=\"text-align: right;\">\n",
       "      <th></th>\n",
       "      <th>BidPrice1</th>\n",
       "      <th>BidVolume1</th>\n",
       "      <th>AskPrice1</th>\n",
       "      <th>AskVolume1</th>\n",
       "      <th>Last Trade Price</th>\n",
       "      <th>Last Trade Volume</th>\n",
       "      <th>Side</th>\n",
       "      <th>isNewTrade</th>\n",
       "      <th>LastDealTime</th>\n",
       "      <th>Date</th>\n",
       "      <th>...</th>\n",
       "      <th>VWAP60</th>\n",
       "      <th>TOP1</th>\n",
       "      <th>TOP30</th>\n",
       "      <th>TOP60</th>\n",
       "      <th>MIN1</th>\n",
       "      <th>MIN30</th>\n",
       "      <th>MIN60</th>\n",
       "      <th>LiquidityBid</th>\n",
       "      <th>LiquidityAsk</th>\n",
       "      <th>BidLiquidityRatio</th>\n",
       "    </tr>\n",
       "  </thead>\n",
       "  <tbody>\n",
       "    <tr>\n",
       "      <th>30000</th>\n",
       "      <td>2731.0</td>\n",
       "      <td>40.0</td>\n",
       "      <td>2731.2</td>\n",
       "      <td>4.0</td>\n",
       "      <td>2731.0</td>\n",
       "      <td>70.0</td>\n",
       "      <td>1.0</td>\n",
       "      <td>0.0</td>\n",
       "      <td>100553471.0</td>\n",
       "      <td>20150311.0</td>\n",
       "      <td>...</td>\n",
       "      <td>2731.667982</td>\n",
       "      <td>2731.1</td>\n",
       "      <td>2731.9</td>\n",
       "      <td>2732.6</td>\n",
       "      <td>2731.0</td>\n",
       "      <td>2731.0</td>\n",
       "      <td>2730.8</td>\n",
       "      <td>40.0</td>\n",
       "      <td>4.0</td>\n",
       "      <td>0.909091</td>\n",
       "    </tr>\n",
       "    <tr>\n",
       "      <th>30001</th>\n",
       "      <td>2731.0</td>\n",
       "      <td>40.0</td>\n",
       "      <td>2731.2</td>\n",
       "      <td>4.0</td>\n",
       "      <td>2731.0</td>\n",
       "      <td>70.0</td>\n",
       "      <td>1.0</td>\n",
       "      <td>0.0</td>\n",
       "      <td>100553471.0</td>\n",
       "      <td>20150311.0</td>\n",
       "      <td>...</td>\n",
       "      <td>2731.667982</td>\n",
       "      <td>2731.1</td>\n",
       "      <td>2731.9</td>\n",
       "      <td>2732.6</td>\n",
       "      <td>2731.0</td>\n",
       "      <td>2731.0</td>\n",
       "      <td>2730.8</td>\n",
       "      <td>40.0</td>\n",
       "      <td>4.0</td>\n",
       "      <td>0.909091</td>\n",
       "    </tr>\n",
       "    <tr>\n",
       "      <th>30002</th>\n",
       "      <td>2731.0</td>\n",
       "      <td>40.0</td>\n",
       "      <td>2731.2</td>\n",
       "      <td>4.0</td>\n",
       "      <td>2731.0</td>\n",
       "      <td>70.0</td>\n",
       "      <td>1.0</td>\n",
       "      <td>0.0</td>\n",
       "      <td>100553471.0</td>\n",
       "      <td>20150311.0</td>\n",
       "      <td>...</td>\n",
       "      <td>2731.667982</td>\n",
       "      <td>2731.1</td>\n",
       "      <td>2731.9</td>\n",
       "      <td>2732.6</td>\n",
       "      <td>2731.0</td>\n",
       "      <td>2731.0</td>\n",
       "      <td>2730.8</td>\n",
       "      <td>40.0</td>\n",
       "      <td>4.0</td>\n",
       "      <td>0.909091</td>\n",
       "    </tr>\n",
       "    <tr>\n",
       "      <th>30003</th>\n",
       "      <td>2731.0</td>\n",
       "      <td>40.0</td>\n",
       "      <td>2731.2</td>\n",
       "      <td>4.0</td>\n",
       "      <td>2731.0</td>\n",
       "      <td>70.0</td>\n",
       "      <td>1.0</td>\n",
       "      <td>0.0</td>\n",
       "      <td>100553471.0</td>\n",
       "      <td>20150311.0</td>\n",
       "      <td>...</td>\n",
       "      <td>2731.667982</td>\n",
       "      <td>2731.1</td>\n",
       "      <td>2731.9</td>\n",
       "      <td>2732.6</td>\n",
       "      <td>2731.0</td>\n",
       "      <td>2731.0</td>\n",
       "      <td>2730.8</td>\n",
       "      <td>40.0</td>\n",
       "      <td>4.0</td>\n",
       "      <td>0.909091</td>\n",
       "    </tr>\n",
       "    <tr>\n",
       "      <th>30004</th>\n",
       "      <td>2731.0</td>\n",
       "      <td>40.0</td>\n",
       "      <td>2731.2</td>\n",
       "      <td>4.0</td>\n",
       "      <td>2731.0</td>\n",
       "      <td>70.0</td>\n",
       "      <td>1.0</td>\n",
       "      <td>0.0</td>\n",
       "      <td>100553471.0</td>\n",
       "      <td>20150311.0</td>\n",
       "      <td>...</td>\n",
       "      <td>2731.667982</td>\n",
       "      <td>2731.1</td>\n",
       "      <td>2731.9</td>\n",
       "      <td>2732.6</td>\n",
       "      <td>2731.0</td>\n",
       "      <td>2731.0</td>\n",
       "      <td>2730.8</td>\n",
       "      <td>40.0</td>\n",
       "      <td>4.0</td>\n",
       "      <td>0.909091</td>\n",
       "    </tr>\n",
       "  </tbody>\n",
       "</table>\n",
       "<p>5 rows × 40 columns</p>\n",
       "</div>"
      ],
      "text/plain": [
       "       BidPrice1  BidVolume1  AskPrice1  AskVolume1  Last Trade Price  \\\n",
       "30000     2731.0        40.0     2731.2         4.0            2731.0   \n",
       "30001     2731.0        40.0     2731.2         4.0            2731.0   \n",
       "30002     2731.0        40.0     2731.2         4.0            2731.0   \n",
       "30003     2731.0        40.0     2731.2         4.0            2731.0   \n",
       "30004     2731.0        40.0     2731.2         4.0            2731.0   \n",
       "\n",
       "       Last Trade Volume  Side  isNewTrade  LastDealTime        Date  ...  \\\n",
       "30000               70.0   1.0         0.0   100553471.0  20150311.0  ...   \n",
       "30001               70.0   1.0         0.0   100553471.0  20150311.0  ...   \n",
       "30002               70.0   1.0         0.0   100553471.0  20150311.0  ...   \n",
       "30003               70.0   1.0         0.0   100553471.0  20150311.0  ...   \n",
       "30004               70.0   1.0         0.0   100553471.0  20150311.0  ...   \n",
       "\n",
       "            VWAP60    TOP1   TOP30   TOP60    MIN1   MIN30   MIN60  \\\n",
       "30000  2731.667982  2731.1  2731.9  2732.6  2731.0  2731.0  2730.8   \n",
       "30001  2731.667982  2731.1  2731.9  2732.6  2731.0  2731.0  2730.8   \n",
       "30002  2731.667982  2731.1  2731.9  2732.6  2731.0  2731.0  2730.8   \n",
       "30003  2731.667982  2731.1  2731.9  2732.6  2731.0  2731.0  2730.8   \n",
       "30004  2731.667982  2731.1  2731.9  2732.6  2731.0  2731.0  2730.8   \n",
       "\n",
       "       LiquidityBid  LiquidityAsk  BidLiquidityRatio  \n",
       "30000          40.0           4.0           0.909091  \n",
       "30001          40.0           4.0           0.909091  \n",
       "30002          40.0           4.0           0.909091  \n",
       "30003          40.0           4.0           0.909091  \n",
       "30004          40.0           4.0           0.909091  \n",
       "\n",
       "[5 rows x 40 columns]"
      ]
     },
     "execution_count": 260,
     "metadata": {},
     "output_type": "execute_result"
    }
   ],
   "source": [
    "copy_snapschot[30000:30005]"
   ]
  },
  {
   "cell_type": "code",
   "execution_count": 261,
   "metadata": {},
   "outputs": [
    {
     "data": {
      "text/plain": [
       "((1311311, 40), 1311311, 1311311)"
      ]
     },
     "execution_count": 261,
     "metadata": {},
     "output_type": "execute_result"
    }
   ],
   "source": [
    "copy_snapschot.shape, len(records), len(raw_data)"
   ]
  },
  {
   "cell_type": "code",
   "execution_count": null,
   "metadata": {},
   "outputs": [],
   "source": []
  },
  {
   "cell_type": "code",
   "execution_count": 262,
   "metadata": {},
   "outputs": [],
   "source": [
    "visu_data = snapschot#[1500:]"
   ]
  },
  {
   "cell_type": "code",
   "execution_count": 263,
   "metadata": {},
   "outputs": [
    {
     "data": {
      "text/plain": [
       "<matplotlib.collections.PathCollection at 0x7fd8e4e753a0>"
      ]
     },
     "execution_count": 263,
     "metadata": {},
     "output_type": "execute_result"
    },
    {
     "data": {
      "image/png": "[encoded data removed]",
      "text/plain": [
       "<Figure size 576x396 with 1 Axes>"
      ]
     },
     "metadata": {},
     "output_type": "display_data"
    }
   ],
   "source": [
    "plt.scatter(visu_data[\"Time\"], visu_data[\"Last Trade Price\"])"
   ]
  },
  {
   "cell_type": "code",
   "execution_count": 264,
   "metadata": {},
   "outputs": [
    {
     "data": {
      "text/plain": [
       "Time\n",
       "1900-01-01 10:00:02.008   1900-01-01 10:00:02.008\n",
       "1900-01-01 10:00:02.053   1900-01-01 10:00:02.053\n",
       "1900-01-01 10:00:02.061   1900-01-01 10:00:02.061\n",
       "1900-01-01 10:00:02.066   1900-01-01 10:00:02.066\n",
       "1900-01-01 10:00:02.067   1900-01-01 10:00:02.067\n",
       "                                    ...          \n",
       "1900-01-01 18:40:02.464   1900-01-01 18:40:02.464\n",
       "1900-01-01 18:40:27.875   1900-01-01 18:40:27.875\n",
       "1900-01-01 18:41:24.273   1900-01-01 18:41:24.273\n",
       "1900-01-01 18:41:24.357   1900-01-01 18:41:24.357\n",
       "1900-01-01 18:41:44.373   1900-01-01 18:41:44.373\n",
       "Name: Time, Length: 88775, dtype: datetime64[ns]"
      ]
     },
     "execution_count": 264,
     "metadata": {},
     "output_type": "execute_result"
    }
   ],
   "source": [
    "pd.to_datetime((snapschot[\"Time\"]), format='%H%M%S%f')"
   ]
  },
  {
   "cell_type": "code",
   "execution_count": null,
   "metadata": {},
   "outputs": [],
   "source": []
  },
  {
   "cell_type": "code",
   "execution_count": 265,
   "metadata": {},
   "outputs": [
    {
     "name": "stdout",
     "output_type": "stream",
     "text": [
      "TRAIN: [    0     1     2 ... 22193 22194 22195] TEST: [22196 22197 22198 ... 44386 44387 44388]\n",
      "TRAIN: [    0     1     2 ... 44386 44387 44388] TEST: [44389 44390 44391 ... 66579 66580 66581]\n",
      "TRAIN: [    0     1     2 ... 66579 66580 66581] TEST: [66582 66583 66584 ... 88772 88773 88774]\n"
     ]
    }
   ],
   "source": [
    "from sklearn.model_selection import TimeSeriesSplit\n",
    "\n",
    "tscv = TimeSeriesSplit(3) \n",
    "for train_index, test_index in tscv.split(df):\n",
    "    print(\"TRAIN:\", train_index, \"TEST:\", test_index)\n",
    "    X_train, X_test = np.array(df)[train_index], np.array(df)[test_index]\n",
    "    y_train, y_test = y[train_index], y[test_index]"
   ]
  },
  {
   "cell_type": "code",
   "execution_count": 286,
   "metadata": {},
   "outputs": [
    {
     "data": {
      "text/plain": [
       "(66582, 39)"
      ]
     },
     "execution_count": 286,
     "metadata": {},
     "output_type": "execute_result"
    }
   ],
   "source": [
    "X_train.shape"
   ]
  },
  {
   "cell_type": "markdown",
   "metadata": {},
   "source": [
    "# Тут рандомные предсказания"
   ]
  },
  {
   "cell_type": "code",
   "execution_count": 266,
   "metadata": {},
   "outputs": [],
   "source": [
    "def random_predict(train_data):\n",
    "    return np.around(np.random.rand(train_data.shape[0]) * 2 - 1)"
   ]
  },
  {
   "cell_type": "code",
   "execution_count": 267,
   "metadata": {},
   "outputs": [],
   "source": [
    "def const_predict(train_data, pred):\n",
    "    out = np.zeros(train_data.shape[0]) + pred\n",
    "    return out"
   ]
  },
  {
   "cell_type": "code",
   "execution_count": 268,
   "metadata": {},
   "outputs": [
    {
     "data": {
      "text/plain": [
       "(Counter({-0.0: 11103, 1.0: 5558, -1.0: 5532}), 0.2492677871400892)"
      ]
     },
     "execution_count": 268,
     "metadata": {},
     "output_type": "execute_result"
    }
   ],
   "source": [
    "Counter(random_predict(X_test)), f1_score(y_test, random_predict(X_test), average='micro')"
   ]
  },
  {
   "cell_type": "code",
   "execution_count": 269,
   "metadata": {},
   "outputs": [
    {
     "data": {
      "text/plain": [
       "(Counter({-1.0: 22193}), 0.5467039156490785)"
      ]
     },
     "execution_count": 269,
     "metadata": {},
     "output_type": "execute_result"
    }
   ],
   "source": [
    "const = Counter(y_test).most_common(1)[0][0]\n",
    "Counter(const_predict(X_test, const)), f1_score(y_test, const_predict(X_test, const), average='micro')"
   ]
  },
  {
   "cell_type": "code",
   "execution_count": null,
   "metadata": {},
   "outputs": [],
   "source": []
  },
  {
   "cell_type": "code",
   "execution_count": 270,
   "metadata": {},
   "outputs": [
    {
     "data": {
      "text/plain": [
       "Counter({1.0: 10053, -1.0: 12133, 0.0: 7})"
      ]
     },
     "execution_count": 270,
     "metadata": {},
     "output_type": "execute_result"
    }
   ],
   "source": [
    "Counter(y_test)"
   ]
  },
  {
   "cell_type": "markdown",
   "metadata": {},
   "source": [
    "# Тут Лог Регрессия"
   ]
  },
  {
   "cell_type": "code",
   "execution_count": 271,
   "metadata": {},
   "outputs": [
    {
     "data": {
      "text/plain": [
       "(Counter({1.0: 57784, -1.0: 8798}), 0.6391517226878135)"
      ]
     },
     "execution_count": 271,
     "metadata": {},
     "output_type": "execute_result"
    }
   ],
   "source": [
    "lr = LogisticRegression()\n",
    "lr.fit(X_train, y_train)\n",
    "Counter(lr.predict(X_train)), f1_score(y_train, lr.predict(X_train), average='micro')"
   ]
  },
  {
   "cell_type": "markdown",
   "metadata": {},
   "source": [
    "## Тут Random forest"
   ]
  },
  {
   "cell_type": "code",
   "execution_count": null,
   "metadata": {
    "scrolled": false
   },
   "outputs": [],
   "source": []
  },
  {
   "cell_type": "code",
   "execution_count": 272,
   "metadata": {},
   "outputs": [
    {
     "data": {
      "text/plain": [
       "RandomForestClassifier()"
      ]
     },
     "execution_count": 272,
     "metadata": {},
     "output_type": "execute_result"
    }
   ],
   "source": [
    "rf = RandomForestClassifier()\n",
    "rf.fit(X_train, y_train)"
   ]
  },
  {
   "cell_type": "code",
   "execution_count": 273,
   "metadata": {},
   "outputs": [
    {
     "data": {
      "text/plain": [
       "(Counter({1.0: 41296, -1.0: 25271, 0.0: 15}), 1.0)"
      ]
     },
     "execution_count": 273,
     "metadata": {},
     "output_type": "execute_result"
    }
   ],
   "source": [
    "Counter(rf.predict(X_train)), f1_score(y_train, rf.predict(X_train), average='micro')"
   ]
  },
  {
   "cell_type": "code",
   "execution_count": 274,
   "metadata": {},
   "outputs": [
    {
     "data": {
      "text/plain": [
       "(Counter({1.0: 18378, -1.0: 3815}), 0.5802730590726806)"
      ]
     },
     "execution_count": 274,
     "metadata": {},
     "output_type": "execute_result"
    }
   ],
   "source": [
    "Counter(rf.predict(X_test)), f1_score(y_test, rf.predict(X_test), average='micro')"
   ]
  },
  {
   "cell_type": "code",
   "execution_count": 275,
   "metadata": {},
   "outputs": [
    {
     "data": {
      "text/plain": [
       "array([24, 29,  8, 35, 32, 25, 26, 22, 14, 34, 23, 31, 13, 28, 21, 12, 20,\n",
       "       18, 17, 11, 19, 16, 33, 15, 10, 30, 27,  2,  4,  0,  5, 37,  3, 36,\n",
       "        1, 38,  7,  9,  6])"
      ]
     },
     "execution_count": 275,
     "metadata": {},
     "output_type": "execute_result"
    }
   ],
   "source": [
    "np.argsort(rf.feature_importances_)[::-1]"
   ]
  },
  {
   "cell_type": "code",
   "execution_count": 276,
   "metadata": {
    "scrolled": false
   },
   "outputs": [
    {
     "name": "stdout",
     "output_type": "stream",
     "text": [
      "Feature ranking:\n",
      "1. feature RSI50 (0.106061)\n",
      "2. feature VWAP60 (0.066478)\n",
      "3. feature LastDealTime (0.064579)\n",
      "4. feature MIN60 (0.064443)\n",
      "5. feature TOP60 (0.063850)\n",
      "6. feature RSI100 (0.054974)\n",
      "7. feature RSI300 (0.051478)\n",
      "8. feature STD1000 (0.044744)\n",
      "9. feature SMA100 (0.037140)\n",
      "10. feature MIN30 (0.035676)\n",
      "11. feature RSI14 (0.032849)\n",
      "12. feature TOP30 (0.032266)\n",
      "13. feature SMA50 (0.032249)\n",
      "14. feature VWAP30 (0.032075)\n",
      "15. feature STD100 (0.029757)\n",
      "16. feature SMA30 (0.025636)\n",
      "17. feature STD50 (0.022578)\n",
      "18. feature EMA100 (0.021460)\n",
      "19. feature EMA30 (0.019926)\n",
      "20. feature SMA10 (0.016727)\n",
      "21. feature STD10 (0.016186)\n",
      "22. feature EMA10 (0.014528)\n",
      "23. feature MIN1 (0.014194)\n",
      "24. feature EMA5 (0.013210)\n",
      "25. feature SMA5 (0.012955)\n",
      "26. feature TOP1 (0.012895)\n",
      "27. feature VWAP1 (0.012787)\n",
      "28. feature AskPrice1 (0.010517)\n",
      "29. feature Last Trade Price (0.010044)\n",
      "30. feature BidPrice1 (0.009656)\n",
      "31. feature Last Trade Volume (0.005640)\n",
      "32. feature LiquidityAsk (0.002849)\n",
      "33. feature AskVolume1 (0.002709)\n",
      "34. feature LiquidityBid (0.002326)\n",
      "35. feature BidVolume1 (0.002150)\n",
      "36. feature BidLiquidityRatio (0.001976)\n",
      "37. feature isNewTrade (0.000431)\n",
      "38. feature Date (0.000000)\n",
      "39. feature Side (0.000000)\n"
     ]
    },
    {
     "data": {
      "image/png": "[encoded data removed]",
      "text/plain": [
       "<Figure size 576x396 with 1 Axes>"
      ]
     },
     "metadata": {},
     "output_type": "display_data"
    }
   ],
   "source": [
    "def get_importance(model, importance):    \n",
    "    indices = np.argsort(importance)[::-1]\n",
    "\n",
    "    # Print the feature ranking\n",
    "    print(\"Feature ranking:\")\n",
    "\n",
    "    for f in range(X_train.shape[1]):\n",
    "        print(\"%d. feature %s (%f)\" % (f + 1, df.columns[indices[f]], importance[indices[f]]))\n",
    "    plt.figure()\n",
    "    plt.title(\"Feature importances\")\n",
    "    plt.bar(df.columns[indices], importance[indices],\n",
    "            color=\"r\", align=\"center\")\n",
    "    plt.xticks(df.columns[indices], indices)\n",
    "    plt.xlim([-1, X_train.shape[1]])\n",
    "    plt.show()\n",
    "    \n",
    "\n",
    "get_importance(rf, rf.feature_importances_)"
   ]
  },
  {
   "cell_type": "code",
   "execution_count": 312,
   "metadata": {},
   "outputs": [
    {
     "data": {
      "text/plain": [
       "Counter({-1.0: 1})"
      ]
     },
     "execution_count": 312,
     "metadata": {},
     "output_type": "execute_result"
    }
   ],
   "source": [
    "pred_raw = np.array([construct_raw(dom, deep, raw_data, record)])\n",
    "pred_raw = np.concatenate((pred_raw[:,:deep * 4 + 6], pred_raw[:,deep * 4 + 7:]), axis=1)\n",
    "Counter(rf.predict(delete_time([construct_raw(dom, deep, raw_data, record)])))"
   ]
  },
  {
   "cell_type": "code",
   "execution_count": 311,
   "metadata": {},
   "outputs": [
    {
     "data": {
      "text/plain": [
       "array([2.70600000e+03, 2.00000000e+00, 2.72000000e+03, 1.03000000e+02,\n",
       "       2.71900000e+03, 4.00000000e+00, 1.00000000e+00, 0.00000000e+00,\n",
       "       1.83958997e+08, 2.01503110e+07])"
      ]
     },
     "execution_count": 311,
     "metadata": {},
     "output_type": "execute_result"
    }
   ],
   "source": [
    "pred_raw[:deep * 4 + 6]"
   ]
  },
  {
   "cell_type": "markdown",
   "metadata": {},
   "source": [
    "## Тут Catboost"
   ]
  },
  {
   "cell_type": "code",
   "execution_count": 197,
   "metadata": {
    "scrolled": true
   },
   "outputs": [
    {
     "name": "stdout",
     "output_type": "stream",
     "text": [
      "Learning rate set to 0.097391\n",
      "0:\tlearn: 1.0161680\ttotal: 43.8ms\tremaining: 43.8s\n",
      "1:\tlearn: 0.9503978\ttotal: 71.5ms\tremaining: 35.7s\n",
      "2:\tlearn: 0.8944454\ttotal: 95.9ms\tremaining: 31.9s\n",
      "3:\tlearn: 0.8458151\ttotal: 118ms\tremaining: 29.3s\n",
      "4:\tlearn: 0.8049665\ttotal: 135ms\tremaining: 26.8s\n",
      "5:\tlearn: 0.7672807\ttotal: 159ms\tremaining: 26.3s\n",
      "6:\tlearn: 0.7372873\ttotal: 182ms\tremaining: 25.8s\n",
      "7:\tlearn: 0.7103355\ttotal: 208ms\tremaining: 25.8s\n",
      "8:\tlearn: 0.6858040\ttotal: 228ms\tremaining: 25.1s\n",
      "9:\tlearn: 0.6648084\ttotal: 252ms\tremaining: 24.9s\n",
      "10:\tlearn: 0.6446640\ttotal: 270ms\tremaining: 24.3s\n",
      "11:\tlearn: 0.6262345\ttotal: 286ms\tremaining: 23.5s\n",
      "12:\tlearn: 0.6097452\ttotal: 303ms\tremaining: 23s\n",
      "13:\tlearn: 0.5923035\ttotal: 323ms\tremaining: 22.8s\n",
      "14:\tlearn: 0.5780037\ttotal: 349ms\tremaining: 22.9s\n",
      "15:\tlearn: 0.5640454\ttotal: 371ms\tremaining: 22.8s\n",
      "16:\tlearn: 0.5518739\ttotal: 398ms\tremaining: 23s\n",
      "17:\tlearn: 0.5413807\ttotal: 417ms\tremaining: 22.7s\n",
      "18:\tlearn: 0.5308666\ttotal: 434ms\tremaining: 22.4s\n",
      "19:\tlearn: 0.5220768\ttotal: 454ms\tremaining: 22.3s\n",
      "20:\tlearn: 0.5132986\ttotal: 468ms\tremaining: 21.8s\n",
      "21:\tlearn: 0.5049424\ttotal: 484ms\tremaining: 21.5s\n",
      "22:\tlearn: 0.4980201\ttotal: 503ms\tremaining: 21.4s\n",
      "23:\tlearn: 0.4904044\ttotal: 518ms\tremaining: 21.1s\n",
      "24:\tlearn: 0.4839646\ttotal: 536ms\tremaining: 20.9s\n",
      "25:\tlearn: 0.4748171\ttotal: 555ms\tremaining: 20.8s\n",
      "26:\tlearn: 0.4692779\ttotal: 568ms\tremaining: 20.5s\n",
      "27:\tlearn: 0.4627427\ttotal: 590ms\tremaining: 20.5s\n",
      "28:\tlearn: 0.4559670\ttotal: 612ms\tremaining: 20.5s\n",
      "29:\tlearn: 0.4509907\ttotal: 630ms\tremaining: 20.4s\n",
      "30:\tlearn: 0.4464520\ttotal: 650ms\tremaining: 20.3s\n",
      "31:\tlearn: 0.4421026\ttotal: 671ms\tremaining: 20.3s\n",
      "32:\tlearn: 0.4377834\ttotal: 689ms\tremaining: 20.2s\n",
      "33:\tlearn: 0.4342854\ttotal: 718ms\tremaining: 20.4s\n",
      "34:\tlearn: 0.4311517\ttotal: 739ms\tremaining: 20.4s\n",
      "35:\tlearn: 0.4274531\ttotal: 759ms\tremaining: 20.3s\n",
      "36:\tlearn: 0.4199337\ttotal: 776ms\tremaining: 20.2s\n",
      "37:\tlearn: 0.4148795\ttotal: 800ms\tremaining: 20.2s\n",
      "38:\tlearn: 0.4106093\ttotal: 821ms\tremaining: 20.2s\n",
      "39:\tlearn: 0.4045022\ttotal: 852ms\tremaining: 20.5s\n",
      "40:\tlearn: 0.4015855\ttotal: 870ms\tremaining: 20.4s\n",
      "41:\tlearn: 0.3989951\ttotal: 886ms\tremaining: 20.2s\n",
      "42:\tlearn: 0.3931579\ttotal: 907ms\tremaining: 20.2s\n",
      "43:\tlearn: 0.3898915\ttotal: 923ms\tremaining: 20.1s\n",
      "44:\tlearn: 0.3862230\ttotal: 942ms\tremaining: 20s\n",
      "45:\tlearn: 0.3816615\ttotal: 962ms\tremaining: 20s\n",
      "46:\tlearn: 0.3783529\ttotal: 981ms\tremaining: 19.9s\n",
      "47:\tlearn: 0.3760609\ttotal: 998ms\tremaining: 19.8s\n",
      "48:\tlearn: 0.3721799\ttotal: 1.02s\tremaining: 19.7s\n",
      "49:\tlearn: 0.3696301\ttotal: 1.03s\tremaining: 19.6s\n",
      "50:\tlearn: 0.3660351\ttotal: 1.05s\tremaining: 19.6s\n",
      "51:\tlearn: 0.3639112\ttotal: 1.07s\tremaining: 19.5s\n",
      "52:\tlearn: 0.3622772\ttotal: 1.09s\tremaining: 19.5s\n",
      "53:\tlearn: 0.3589646\ttotal: 1.12s\tremaining: 19.6s\n",
      "54:\tlearn: 0.3545835\ttotal: 1.14s\tremaining: 19.6s\n",
      "55:\tlearn: 0.3524662\ttotal: 1.16s\tremaining: 19.5s\n",
      "56:\tlearn: 0.3497987\ttotal: 1.18s\tremaining: 19.6s\n",
      "57:\tlearn: 0.3473210\ttotal: 1.2s\tremaining: 19.6s\n",
      "58:\tlearn: 0.3448111\ttotal: 1.23s\tremaining: 19.5s\n",
      "59:\tlearn: 0.3416263\ttotal: 1.25s\tremaining: 19.6s\n",
      "60:\tlearn: 0.3393915\ttotal: 1.27s\tremaining: 19.5s\n",
      "61:\tlearn: 0.3362239\ttotal: 1.28s\tremaining: 19.4s\n",
      "62:\tlearn: 0.3337618\ttotal: 1.3s\tremaining: 19.4s\n",
      "63:\tlearn: 0.3308368\ttotal: 1.32s\tremaining: 19.3s\n",
      "64:\tlearn: 0.3288768\ttotal: 1.34s\tremaining: 19.3s\n",
      "65:\tlearn: 0.3272489\ttotal: 1.36s\tremaining: 19.3s\n",
      "66:\tlearn: 0.3255162\ttotal: 1.38s\tremaining: 19.3s\n",
      "67:\tlearn: 0.3243296\ttotal: 1.4s\tremaining: 19.2s\n",
      "68:\tlearn: 0.3229536\ttotal: 1.42s\tremaining: 19.2s\n",
      "69:\tlearn: 0.3215724\ttotal: 1.44s\tremaining: 19.1s\n",
      "70:\tlearn: 0.3191763\ttotal: 1.46s\tremaining: 19s\n",
      "71:\tlearn: 0.3181689\ttotal: 1.48s\tremaining: 19s\n",
      "72:\tlearn: 0.3153709\ttotal: 1.49s\tremaining: 18.9s\n",
      "73:\tlearn: 0.3145303\ttotal: 1.51s\tremaining: 18.9s\n",
      "74:\tlearn: 0.3125664\ttotal: 1.53s\tremaining: 18.9s\n",
      "75:\tlearn: 0.3098159\ttotal: 1.55s\tremaining: 18.9s\n",
      "76:\tlearn: 0.3071772\ttotal: 1.58s\tremaining: 18.9s\n",
      "77:\tlearn: 0.3057413\ttotal: 1.6s\tremaining: 18.9s\n",
      "78:\tlearn: 0.3031369\ttotal: 1.62s\tremaining: 18.9s\n",
      "79:\tlearn: 0.3006062\ttotal: 1.64s\tremaining: 18.8s\n",
      "80:\tlearn: 0.2979945\ttotal: 1.66s\tremaining: 18.9s\n",
      "81:\tlearn: 0.2956655\ttotal: 1.69s\tremaining: 18.9s\n",
      "82:\tlearn: 0.2941649\ttotal: 1.71s\tremaining: 18.9s\n",
      "83:\tlearn: 0.2924105\ttotal: 1.73s\tremaining: 18.8s\n",
      "84:\tlearn: 0.2905603\ttotal: 1.75s\tremaining: 18.9s\n",
      "85:\tlearn: 0.2891091\ttotal: 1.77s\tremaining: 18.8s\n",
      "86:\tlearn: 0.2865742\ttotal: 1.79s\tremaining: 18.8s\n",
      "87:\tlearn: 0.2847551\ttotal: 1.81s\tremaining: 18.8s\n",
      "88:\tlearn: 0.2825474\ttotal: 1.83s\tremaining: 18.8s\n",
      "89:\tlearn: 0.2808129\ttotal: 1.85s\tremaining: 18.7s\n",
      "90:\tlearn: 0.2791870\ttotal: 1.87s\tremaining: 18.7s\n",
      "91:\tlearn: 0.2775998\ttotal: 1.89s\tremaining: 18.6s\n",
      "92:\tlearn: 0.2757689\ttotal: 1.9s\tremaining: 18.6s\n",
      "93:\tlearn: 0.2747827\ttotal: 1.92s\tremaining: 18.5s\n",
      "94:\tlearn: 0.2731585\ttotal: 1.94s\tremaining: 18.4s\n",
      "95:\tlearn: 0.2716438\ttotal: 1.95s\tremaining: 18.4s\n",
      "96:\tlearn: 0.2705305\ttotal: 1.97s\tremaining: 18.4s\n",
      "97:\tlearn: 0.2689401\ttotal: 1.99s\tremaining: 18.4s\n",
      "98:\tlearn: 0.2679702\ttotal: 2.01s\tremaining: 18.3s\n",
      "99:\tlearn: 0.2667342\ttotal: 2.03s\tremaining: 18.3s\n",
      "100:\tlearn: 0.2656805\ttotal: 2.05s\tremaining: 18.2s\n",
      "101:\tlearn: 0.2646625\ttotal: 2.06s\tremaining: 18.2s\n",
      "102:\tlearn: 0.2629934\ttotal: 2.08s\tremaining: 18.1s\n",
      "103:\tlearn: 0.2606104\ttotal: 2.1s\tremaining: 18.1s\n",
      "104:\tlearn: 0.2596901\ttotal: 2.11s\tremaining: 18s\n",
      "105:\tlearn: 0.2588683\ttotal: 2.12s\tremaining: 17.9s\n",
      "106:\tlearn: 0.2575507\ttotal: 2.14s\tremaining: 17.9s\n",
      "107:\tlearn: 0.2553544\ttotal: 2.16s\tremaining: 17.8s\n",
      "108:\tlearn: 0.2534776\ttotal: 2.17s\tremaining: 17.8s\n",
      "109:\tlearn: 0.2519321\ttotal: 2.19s\tremaining: 17.7s\n",
      "110:\tlearn: 0.2504445\ttotal: 2.21s\tremaining: 17.7s\n",
      "111:\tlearn: 0.2494152\ttotal: 2.22s\tremaining: 17.6s\n",
      "112:\tlearn: 0.2485358\ttotal: 2.24s\tremaining: 17.6s\n",
      "113:\tlearn: 0.2476674\ttotal: 2.27s\tremaining: 17.6s\n",
      "114:\tlearn: 0.2471510\ttotal: 2.29s\tremaining: 17.6s\n",
      "115:\tlearn: 0.2447653\ttotal: 2.31s\tremaining: 17.6s\n",
      "116:\tlearn: 0.2436821\ttotal: 2.33s\tremaining: 17.6s\n",
      "117:\tlearn: 0.2430393\ttotal: 2.34s\tremaining: 17.5s\n",
      "118:\tlearn: 0.2409086\ttotal: 2.36s\tremaining: 17.5s\n",
      "119:\tlearn: 0.2392068\ttotal: 2.38s\tremaining: 17.4s\n",
      "120:\tlearn: 0.2373890\ttotal: 2.39s\tremaining: 17.4s\n",
      "121:\tlearn: 0.2361945\ttotal: 2.41s\tremaining: 17.4s\n",
      "122:\tlearn: 0.2347841\ttotal: 2.43s\tremaining: 17.3s\n",
      "123:\tlearn: 0.2340846\ttotal: 2.44s\tremaining: 17.3s\n",
      "124:\tlearn: 0.2329408\ttotal: 2.46s\tremaining: 17.2s\n",
      "125:\tlearn: 0.2316318\ttotal: 2.48s\tremaining: 17.2s\n",
      "126:\tlearn: 0.2298494\ttotal: 2.5s\tremaining: 17.2s\n",
      "127:\tlearn: 0.2292951\ttotal: 2.52s\tremaining: 17.2s\n",
      "128:\tlearn: 0.2277909\ttotal: 2.54s\tremaining: 17.2s\n",
      "129:\tlearn: 0.2268138\ttotal: 2.56s\tremaining: 17.2s\n",
      "130:\tlearn: 0.2248498\ttotal: 2.58s\tremaining: 17.1s\n",
      "131:\tlearn: 0.2235004\ttotal: 2.6s\tremaining: 17.1s\n",
      "132:\tlearn: 0.2221827\ttotal: 2.62s\tremaining: 17s\n",
      "133:\tlearn: 0.2202497\ttotal: 2.63s\tremaining: 17s\n",
      "134:\tlearn: 0.2187912\ttotal: 2.65s\tremaining: 17s\n",
      "135:\tlearn: 0.2174633\ttotal: 2.67s\tremaining: 16.9s\n",
      "136:\tlearn: 0.2171039\ttotal: 2.69s\tremaining: 16.9s\n",
      "137:\tlearn: 0.2156216\ttotal: 2.71s\tremaining: 16.9s\n",
      "138:\tlearn: 0.2144758\ttotal: 2.73s\tremaining: 16.9s\n",
      "139:\tlearn: 0.2135899\ttotal: 2.75s\tremaining: 16.9s\n",
      "140:\tlearn: 0.2128699\ttotal: 2.76s\tremaining: 16.8s\n",
      "141:\tlearn: 0.2121500\ttotal: 2.78s\tremaining: 16.8s\n",
      "142:\tlearn: 0.2115216\ttotal: 2.8s\tremaining: 16.8s\n",
      "143:\tlearn: 0.2098483\ttotal: 2.82s\tremaining: 16.7s\n",
      "144:\tlearn: 0.2080832\ttotal: 2.84s\tremaining: 16.7s\n",
      "145:\tlearn: 0.2075633\ttotal: 2.85s\tremaining: 16.7s\n",
      "146:\tlearn: 0.2055157\ttotal: 2.87s\tremaining: 16.7s\n",
      "147:\tlearn: 0.2040966\ttotal: 2.89s\tremaining: 16.6s\n",
      "148:\tlearn: 0.2027929\ttotal: 2.91s\tremaining: 16.6s\n",
      "149:\tlearn: 0.2019644\ttotal: 2.93s\tremaining: 16.6s\n",
      "150:\tlearn: 0.2008894\ttotal: 2.95s\tremaining: 16.6s\n",
      "151:\tlearn: 0.1996489\ttotal: 2.97s\tremaining: 16.6s\n",
      "152:\tlearn: 0.1984402\ttotal: 3s\tremaining: 16.6s\n",
      "153:\tlearn: 0.1978139\ttotal: 3.01s\tremaining: 16.6s\n",
      "154:\tlearn: 0.1972206\ttotal: 3.03s\tremaining: 16.5s\n",
      "155:\tlearn: 0.1963524\ttotal: 3.04s\tremaining: 16.5s\n",
      "156:\tlearn: 0.1950895\ttotal: 3.06s\tremaining: 16.5s\n",
      "157:\tlearn: 0.1937469\ttotal: 3.09s\tremaining: 16.5s\n",
      "158:\tlearn: 0.1929081\ttotal: 3.11s\tremaining: 16.5s\n",
      "159:\tlearn: 0.1914712\ttotal: 3.14s\tremaining: 16.5s\n",
      "160:\tlearn: 0.1904579\ttotal: 3.15s\tremaining: 16.4s\n",
      "161:\tlearn: 0.1896728\ttotal: 3.17s\tremaining: 16.4s\n",
      "162:\tlearn: 0.1889025\ttotal: 3.18s\tremaining: 16.3s\n",
      "163:\tlearn: 0.1876831\ttotal: 3.2s\tremaining: 16.3s\n",
      "164:\tlearn: 0.1867839\ttotal: 3.21s\tremaining: 16.3s\n",
      "165:\tlearn: 0.1855656\ttotal: 3.24s\tremaining: 16.3s\n",
      "166:\tlearn: 0.1846470\ttotal: 3.26s\tremaining: 16.3s\n",
      "167:\tlearn: 0.1839418\ttotal: 3.28s\tremaining: 16.2s\n",
      "168:\tlearn: 0.1833625\ttotal: 3.3s\tremaining: 16.2s\n"
     ]
    },
    {
     "name": "stdout",
     "output_type": "stream",
     "text": [
      "169:\tlearn: 0.1819804\ttotal: 3.32s\tremaining: 16.2s\n",
      "170:\tlearn: 0.1804155\ttotal: 3.34s\tremaining: 16.2s\n",
      "171:\tlearn: 0.1797021\ttotal: 3.35s\tremaining: 16.2s\n",
      "172:\tlearn: 0.1790394\ttotal: 3.37s\tremaining: 16.1s\n",
      "173:\tlearn: 0.1783932\ttotal: 3.39s\tremaining: 16.1s\n",
      "174:\tlearn: 0.1778991\ttotal: 3.41s\tremaining: 16.1s\n",
      "175:\tlearn: 0.1770924\ttotal: 3.42s\tremaining: 16s\n",
      "176:\tlearn: 0.1757476\ttotal: 3.44s\tremaining: 16s\n",
      "177:\tlearn: 0.1743587\ttotal: 3.46s\tremaining: 16s\n",
      "178:\tlearn: 0.1732763\ttotal: 3.48s\tremaining: 16s\n",
      "179:\tlearn: 0.1721731\ttotal: 3.51s\tremaining: 16s\n",
      "180:\tlearn: 0.1717273\ttotal: 3.53s\tremaining: 16s\n",
      "181:\tlearn: 0.1708375\ttotal: 3.55s\tremaining: 16s\n",
      "182:\tlearn: 0.1704950\ttotal: 3.57s\tremaining: 15.9s\n",
      "183:\tlearn: 0.1699732\ttotal: 3.59s\tremaining: 15.9s\n",
      "184:\tlearn: 0.1688380\ttotal: 3.6s\tremaining: 15.9s\n",
      "185:\tlearn: 0.1682894\ttotal: 3.62s\tremaining: 15.8s\n",
      "186:\tlearn: 0.1671338\ttotal: 3.64s\tremaining: 15.8s\n",
      "187:\tlearn: 0.1664594\ttotal: 3.66s\tremaining: 15.8s\n",
      "188:\tlearn: 0.1661319\ttotal: 3.68s\tremaining: 15.8s\n",
      "189:\tlearn: 0.1651561\ttotal: 3.71s\tremaining: 15.8s\n",
      "190:\tlearn: 0.1645434\ttotal: 3.72s\tremaining: 15.8s\n",
      "191:\tlearn: 0.1639230\ttotal: 3.74s\tremaining: 15.8s\n",
      "192:\tlearn: 0.1634514\ttotal: 3.77s\tremaining: 15.7s\n",
      "193:\tlearn: 0.1625567\ttotal: 3.78s\tremaining: 15.7s\n",
      "194:\tlearn: 0.1619296\ttotal: 3.8s\tremaining: 15.7s\n",
      "195:\tlearn: 0.1615905\ttotal: 3.82s\tremaining: 15.7s\n",
      "196:\tlearn: 0.1606673\ttotal: 3.84s\tremaining: 15.7s\n",
      "197:\tlearn: 0.1603991\ttotal: 3.86s\tremaining: 15.7s\n",
      "198:\tlearn: 0.1593976\ttotal: 3.88s\tremaining: 15.6s\n",
      "199:\tlearn: 0.1590090\ttotal: 3.9s\tremaining: 15.6s\n",
      "200:\tlearn: 0.1579978\ttotal: 3.92s\tremaining: 15.6s\n",
      "201:\tlearn: 0.1575322\ttotal: 3.93s\tremaining: 15.5s\n",
      "202:\tlearn: 0.1566150\ttotal: 3.95s\tremaining: 15.5s\n",
      "203:\tlearn: 0.1558452\ttotal: 3.96s\tremaining: 15.5s\n",
      "204:\tlearn: 0.1552784\ttotal: 3.98s\tremaining: 15.4s\n",
      "205:\tlearn: 0.1547504\ttotal: 4s\tremaining: 15.4s\n",
      "206:\tlearn: 0.1544066\ttotal: 4.01s\tremaining: 15.4s\n",
      "207:\tlearn: 0.1536071\ttotal: 4.03s\tremaining: 15.3s\n",
      "208:\tlearn: 0.1525536\ttotal: 4.05s\tremaining: 15.3s\n",
      "209:\tlearn: 0.1514065\ttotal: 4.07s\tremaining: 15.3s\n",
      "210:\tlearn: 0.1510141\ttotal: 4.09s\tremaining: 15.3s\n",
      "211:\tlearn: 0.1506756\ttotal: 4.12s\tremaining: 15.3s\n",
      "212:\tlearn: 0.1501437\ttotal: 4.13s\tremaining: 15.3s\n",
      "213:\tlearn: 0.1494132\ttotal: 4.15s\tremaining: 15.3s\n",
      "214:\tlearn: 0.1484500\ttotal: 4.17s\tremaining: 15.2s\n",
      "215:\tlearn: 0.1474746\ttotal: 4.19s\tremaining: 15.2s\n",
      "216:\tlearn: 0.1472543\ttotal: 4.2s\tremaining: 15.2s\n",
      "217:\tlearn: 0.1464922\ttotal: 4.22s\tremaining: 15.1s\n",
      "218:\tlearn: 0.1459460\ttotal: 4.23s\tremaining: 15.1s\n",
      "219:\tlearn: 0.1449667\ttotal: 4.25s\tremaining: 15.1s\n",
      "220:\tlearn: 0.1444359\ttotal: 4.26s\tremaining: 15s\n",
      "221:\tlearn: 0.1435492\ttotal: 4.28s\tremaining: 15s\n",
      "222:\tlearn: 0.1431983\ttotal: 4.29s\tremaining: 14.9s\n",
      "223:\tlearn: 0.1428504\ttotal: 4.3s\tremaining: 14.9s\n",
      "224:\tlearn: 0.1422514\ttotal: 4.32s\tremaining: 14.9s\n",
      "225:\tlearn: 0.1415060\ttotal: 4.34s\tremaining: 14.9s\n",
      "226:\tlearn: 0.1411506\ttotal: 4.36s\tremaining: 14.8s\n",
      "227:\tlearn: 0.1401954\ttotal: 4.38s\tremaining: 14.8s\n",
      "228:\tlearn: 0.1397444\ttotal: 4.4s\tremaining: 14.8s\n",
      "229:\tlearn: 0.1389507\ttotal: 4.41s\tremaining: 14.8s\n",
      "230:\tlearn: 0.1385035\ttotal: 4.43s\tremaining: 14.7s\n",
      "231:\tlearn: 0.1379681\ttotal: 4.45s\tremaining: 14.7s\n",
      "232:\tlearn: 0.1375731\ttotal: 4.47s\tremaining: 14.7s\n",
      "233:\tlearn: 0.1369336\ttotal: 4.48s\tremaining: 14.7s\n",
      "234:\tlearn: 0.1361118\ttotal: 4.5s\tremaining: 14.6s\n",
      "235:\tlearn: 0.1352572\ttotal: 4.52s\tremaining: 14.6s\n",
      "236:\tlearn: 0.1345861\ttotal: 4.54s\tremaining: 14.6s\n",
      "237:\tlearn: 0.1341117\ttotal: 4.55s\tremaining: 14.6s\n",
      "238:\tlearn: 0.1336319\ttotal: 4.57s\tremaining: 14.6s\n",
      "239:\tlearn: 0.1329003\ttotal: 4.59s\tremaining: 14.6s\n",
      "240:\tlearn: 0.1322122\ttotal: 4.61s\tremaining: 14.5s\n",
      "241:\tlearn: 0.1317797\ttotal: 4.63s\tremaining: 14.5s\n",
      "242:\tlearn: 0.1312698\ttotal: 4.64s\tremaining: 14.5s\n",
      "243:\tlearn: 0.1307312\ttotal: 4.66s\tremaining: 14.4s\n",
      "244:\tlearn: 0.1303366\ttotal: 4.67s\tremaining: 14.4s\n",
      "245:\tlearn: 0.1300137\ttotal: 4.69s\tremaining: 14.4s\n",
      "246:\tlearn: 0.1292279\ttotal: 4.71s\tremaining: 14.3s\n",
      "247:\tlearn: 0.1284965\ttotal: 4.73s\tremaining: 14.3s\n",
      "248:\tlearn: 0.1281316\ttotal: 4.75s\tremaining: 14.3s\n",
      "249:\tlearn: 0.1275571\ttotal: 4.78s\tremaining: 14.3s\n",
      "250:\tlearn: 0.1273788\ttotal: 4.8s\tremaining: 14.3s\n",
      "251:\tlearn: 0.1269653\ttotal: 4.82s\tremaining: 14.3s\n",
      "252:\tlearn: 0.1266266\ttotal: 4.84s\tremaining: 14.3s\n",
      "253:\tlearn: 0.1260860\ttotal: 4.85s\tremaining: 14.3s\n",
      "254:\tlearn: 0.1256582\ttotal: 4.87s\tremaining: 14.2s\n",
      "255:\tlearn: 0.1252230\ttotal: 4.88s\tremaining: 14.2s\n",
      "256:\tlearn: 0.1247472\ttotal: 4.9s\tremaining: 14.2s\n",
      "257:\tlearn: 0.1241943\ttotal: 4.91s\tremaining: 14.1s\n",
      "258:\tlearn: 0.1240029\ttotal: 4.93s\tremaining: 14.1s\n",
      "259:\tlearn: 0.1232718\ttotal: 4.95s\tremaining: 14.1s\n",
      "260:\tlearn: 0.1228791\ttotal: 4.96s\tremaining: 14s\n",
      "261:\tlearn: 0.1222094\ttotal: 4.98s\tremaining: 14s\n",
      "262:\tlearn: 0.1216316\ttotal: 5s\tremaining: 14s\n",
      "263:\tlearn: 0.1210760\ttotal: 5.02s\tremaining: 14s\n",
      "264:\tlearn: 0.1206411\ttotal: 5.04s\tremaining: 14s\n",
      "265:\tlearn: 0.1202648\ttotal: 5.06s\tremaining: 14s\n",
      "266:\tlearn: 0.1199886\ttotal: 5.08s\tremaining: 14s\n",
      "267:\tlearn: 0.1196137\ttotal: 5.1s\tremaining: 13.9s\n",
      "268:\tlearn: 0.1191670\ttotal: 5.12s\tremaining: 13.9s\n",
      "269:\tlearn: 0.1187358\ttotal: 5.13s\tremaining: 13.9s\n",
      "270:\tlearn: 0.1179564\ttotal: 5.15s\tremaining: 13.9s\n",
      "271:\tlearn: 0.1178571\ttotal: 5.17s\tremaining: 13.8s\n",
      "272:\tlearn: 0.1171634\ttotal: 5.18s\tremaining: 13.8s\n",
      "273:\tlearn: 0.1167080\ttotal: 5.2s\tremaining: 13.8s\n",
      "274:\tlearn: 0.1162565\ttotal: 5.21s\tremaining: 13.7s\n",
      "275:\tlearn: 0.1157901\ttotal: 5.23s\tremaining: 13.7s\n",
      "276:\tlearn: 0.1151007\ttotal: 5.25s\tremaining: 13.7s\n",
      "277:\tlearn: 0.1145187\ttotal: 5.27s\tremaining: 13.7s\n",
      "278:\tlearn: 0.1141940\ttotal: 5.3s\tremaining: 13.7s\n",
      "279:\tlearn: 0.1137312\ttotal: 5.32s\tremaining: 13.7s\n",
      "280:\tlearn: 0.1132985\ttotal: 5.34s\tremaining: 13.7s\n",
      "281:\tlearn: 0.1128481\ttotal: 5.36s\tremaining: 13.7s\n",
      "282:\tlearn: 0.1125402\ttotal: 5.38s\tremaining: 13.6s\n",
      "283:\tlearn: 0.1119780\ttotal: 5.39s\tremaining: 13.6s\n",
      "284:\tlearn: 0.1117174\ttotal: 5.41s\tremaining: 13.6s\n",
      "285:\tlearn: 0.1113249\ttotal: 5.42s\tremaining: 13.5s\n",
      "286:\tlearn: 0.1107587\ttotal: 5.44s\tremaining: 13.5s\n",
      "287:\tlearn: 0.1102909\ttotal: 5.45s\tremaining: 13.5s\n",
      "288:\tlearn: 0.1099531\ttotal: 5.47s\tremaining: 13.5s\n",
      "289:\tlearn: 0.1093946\ttotal: 5.49s\tremaining: 13.4s\n",
      "290:\tlearn: 0.1091614\ttotal: 5.5s\tremaining: 13.4s\n",
      "291:\tlearn: 0.1089979\ttotal: 5.52s\tremaining: 13.4s\n",
      "292:\tlearn: 0.1087612\ttotal: 5.54s\tremaining: 13.4s\n",
      "293:\tlearn: 0.1082673\ttotal: 5.55s\tremaining: 13.3s\n",
      "294:\tlearn: 0.1077718\ttotal: 5.57s\tremaining: 13.3s\n",
      "295:\tlearn: 0.1076440\ttotal: 5.59s\tremaining: 13.3s\n",
      "296:\tlearn: 0.1074069\ttotal: 5.6s\tremaining: 13.3s\n",
      "297:\tlearn: 0.1071499\ttotal: 5.62s\tremaining: 13.2s\n",
      "298:\tlearn: 0.1066773\ttotal: 5.64s\tremaining: 13.2s\n",
      "299:\tlearn: 0.1062133\ttotal: 5.67s\tremaining: 13.2s\n",
      "300:\tlearn: 0.1059252\ttotal: 5.69s\tremaining: 13.2s\n",
      "301:\tlearn: 0.1058123\ttotal: 5.7s\tremaining: 13.2s\n",
      "302:\tlearn: 0.1054742\ttotal: 5.72s\tremaining: 13.2s\n",
      "303:\tlearn: 0.1052797\ttotal: 5.74s\tremaining: 13.1s\n",
      "304:\tlearn: 0.1049050\ttotal: 5.76s\tremaining: 13.1s\n",
      "305:\tlearn: 0.1045403\ttotal: 5.77s\tremaining: 13.1s\n",
      "306:\tlearn: 0.1040908\ttotal: 5.79s\tremaining: 13.1s\n",
      "307:\tlearn: 0.1038942\ttotal: 5.8s\tremaining: 13s\n",
      "308:\tlearn: 0.1035161\ttotal: 5.82s\tremaining: 13s\n",
      "309:\tlearn: 0.1031002\ttotal: 5.84s\tremaining: 13s\n",
      "310:\tlearn: 0.1024601\ttotal: 5.86s\tremaining: 13s\n",
      "311:\tlearn: 0.1022332\ttotal: 5.88s\tremaining: 13s\n",
      "312:\tlearn: 0.1019610\ttotal: 5.9s\tremaining: 12.9s\n",
      "313:\tlearn: 0.1016023\ttotal: 5.92s\tremaining: 12.9s\n",
      "314:\tlearn: 0.1011273\ttotal: 5.94s\tremaining: 12.9s\n",
      "315:\tlearn: 0.1008989\ttotal: 5.95s\tremaining: 12.9s\n",
      "316:\tlearn: 0.1006000\ttotal: 5.97s\tremaining: 12.9s\n",
      "317:\tlearn: 0.1004527\ttotal: 5.99s\tremaining: 12.9s\n",
      "318:\tlearn: 0.1000293\ttotal: 6.02s\tremaining: 12.9s\n",
      "319:\tlearn: 0.0998521\ttotal: 6.05s\tremaining: 12.8s\n",
      "320:\tlearn: 0.0993431\ttotal: 6.06s\tremaining: 12.8s\n",
      "321:\tlearn: 0.0991825\ttotal: 6.08s\tremaining: 12.8s\n",
      "322:\tlearn: 0.0989142\ttotal: 6.09s\tremaining: 12.8s\n",
      "323:\tlearn: 0.0985017\ttotal: 6.12s\tremaining: 12.8s\n",
      "324:\tlearn: 0.0981715\ttotal: 6.14s\tremaining: 12.8s\n",
      "325:\tlearn: 0.0978917\ttotal: 6.16s\tremaining: 12.7s\n",
      "326:\tlearn: 0.0975786\ttotal: 6.19s\tremaining: 12.7s\n",
      "327:\tlearn: 0.0969423\ttotal: 6.21s\tremaining: 12.7s\n"
     ]
    },
    {
     "name": "stdout",
     "output_type": "stream",
     "text": [
      "328:\tlearn: 0.0964885\ttotal: 6.23s\tremaining: 12.7s\n",
      "329:\tlearn: 0.0963168\ttotal: 6.25s\tremaining: 12.7s\n",
      "330:\tlearn: 0.0962202\ttotal: 6.26s\tremaining: 12.7s\n",
      "331:\tlearn: 0.0960173\ttotal: 6.28s\tremaining: 12.6s\n",
      "332:\tlearn: 0.0957449\ttotal: 6.29s\tremaining: 12.6s\n",
      "333:\tlearn: 0.0954275\ttotal: 6.31s\tremaining: 12.6s\n",
      "334:\tlearn: 0.0950999\ttotal: 6.32s\tremaining: 12.6s\n",
      "335:\tlearn: 0.0946243\ttotal: 6.34s\tremaining: 12.5s\n",
      "336:\tlearn: 0.0941940\ttotal: 6.35s\tremaining: 12.5s\n",
      "337:\tlearn: 0.0937462\ttotal: 6.37s\tremaining: 12.5s\n",
      "338:\tlearn: 0.0935810\ttotal: 6.38s\tremaining: 12.4s\n",
      "339:\tlearn: 0.0934372\ttotal: 6.4s\tremaining: 12.4s\n",
      "340:\tlearn: 0.0929581\ttotal: 6.42s\tremaining: 12.4s\n",
      "341:\tlearn: 0.0926185\ttotal: 6.43s\tremaining: 12.4s\n",
      "342:\tlearn: 0.0923267\ttotal: 6.45s\tremaining: 12.4s\n",
      "343:\tlearn: 0.0918067\ttotal: 6.47s\tremaining: 12.3s\n",
      "344:\tlearn: 0.0915660\ttotal: 6.49s\tremaining: 12.3s\n",
      "345:\tlearn: 0.0911183\ttotal: 6.5s\tremaining: 12.3s\n",
      "346:\tlearn: 0.0909098\ttotal: 6.52s\tremaining: 12.3s\n",
      "347:\tlearn: 0.0904935\ttotal: 6.54s\tremaining: 12.3s\n",
      "348:\tlearn: 0.0902137\ttotal: 6.55s\tremaining: 12.2s\n",
      "349:\tlearn: 0.0898649\ttotal: 6.57s\tremaining: 12.2s\n",
      "350:\tlearn: 0.0896381\ttotal: 6.59s\tremaining: 12.2s\n",
      "351:\tlearn: 0.0893887\ttotal: 6.61s\tremaining: 12.2s\n",
      "352:\tlearn: 0.0892210\ttotal: 6.62s\tremaining: 12.1s\n",
      "353:\tlearn: 0.0888910\ttotal: 6.64s\tremaining: 12.1s\n",
      "354:\tlearn: 0.0885102\ttotal: 6.66s\tremaining: 12.1s\n",
      "355:\tlearn: 0.0881041\ttotal: 6.68s\tremaining: 12.1s\n",
      "356:\tlearn: 0.0877099\ttotal: 6.7s\tremaining: 12.1s\n",
      "357:\tlearn: 0.0872292\ttotal: 6.71s\tremaining: 12s\n",
      "358:\tlearn: 0.0868726\ttotal: 6.73s\tremaining: 12s\n",
      "359:\tlearn: 0.0864959\ttotal: 6.75s\tremaining: 12s\n",
      "360:\tlearn: 0.0862542\ttotal: 6.76s\tremaining: 12s\n",
      "361:\tlearn: 0.0859973\ttotal: 6.78s\tremaining: 11.9s\n",
      "362:\tlearn: 0.0856128\ttotal: 6.79s\tremaining: 11.9s\n",
      "363:\tlearn: 0.0854095\ttotal: 6.81s\tremaining: 11.9s\n",
      "364:\tlearn: 0.0850191\ttotal: 6.83s\tremaining: 11.9s\n",
      "365:\tlearn: 0.0846917\ttotal: 6.85s\tremaining: 11.9s\n",
      "366:\tlearn: 0.0843028\ttotal: 6.87s\tremaining: 11.9s\n",
      "367:\tlearn: 0.0840106\ttotal: 6.89s\tremaining: 11.8s\n",
      "368:\tlearn: 0.0836904\ttotal: 6.91s\tremaining: 11.8s\n",
      "369:\tlearn: 0.0833914\ttotal: 6.93s\tremaining: 11.8s\n",
      "370:\tlearn: 0.0830561\ttotal: 6.95s\tremaining: 11.8s\n",
      "371:\tlearn: 0.0828344\ttotal: 6.97s\tremaining: 11.8s\n",
      "372:\tlearn: 0.0826179\ttotal: 6.99s\tremaining: 11.8s\n",
      "373:\tlearn: 0.0823836\ttotal: 7.01s\tremaining: 11.7s\n",
      "374:\tlearn: 0.0822396\ttotal: 7.02s\tremaining: 11.7s\n",
      "375:\tlearn: 0.0819410\ttotal: 7.04s\tremaining: 11.7s\n",
      "376:\tlearn: 0.0816235\ttotal: 7.06s\tremaining: 11.7s\n",
      "377:\tlearn: 0.0815736\ttotal: 7.09s\tremaining: 11.7s\n",
      "378:\tlearn: 0.0812786\ttotal: 7.11s\tremaining: 11.6s\n",
      "379:\tlearn: 0.0810403\ttotal: 7.13s\tremaining: 11.6s\n",
      "380:\tlearn: 0.0808893\ttotal: 7.15s\tremaining: 11.6s\n",
      "381:\tlearn: 0.0805128\ttotal: 7.17s\tremaining: 11.6s\n",
      "382:\tlearn: 0.0802998\ttotal: 7.18s\tremaining: 11.6s\n",
      "383:\tlearn: 0.0799701\ttotal: 7.2s\tremaining: 11.5s\n",
      "384:\tlearn: 0.0795946\ttotal: 7.22s\tremaining: 11.5s\n",
      "385:\tlearn: 0.0793224\ttotal: 7.23s\tremaining: 11.5s\n",
      "386:\tlearn: 0.0791919\ttotal: 7.25s\tremaining: 11.5s\n",
      "387:\tlearn: 0.0788312\ttotal: 7.27s\tremaining: 11.5s\n",
      "388:\tlearn: 0.0786921\ttotal: 7.29s\tremaining: 11.4s\n",
      "389:\tlearn: 0.0782040\ttotal: 7.31s\tremaining: 11.4s\n",
      "390:\tlearn: 0.0778344\ttotal: 7.33s\tremaining: 11.4s\n",
      "391:\tlearn: 0.0776975\ttotal: 7.35s\tremaining: 11.4s\n",
      "392:\tlearn: 0.0774456\ttotal: 7.37s\tremaining: 11.4s\n",
      "393:\tlearn: 0.0773068\ttotal: 7.39s\tremaining: 11.4s\n",
      "394:\tlearn: 0.0769852\ttotal: 7.41s\tremaining: 11.3s\n",
      "395:\tlearn: 0.0767129\ttotal: 7.43s\tremaining: 11.3s\n",
      "396:\tlearn: 0.0765110\ttotal: 7.45s\tremaining: 11.3s\n",
      "397:\tlearn: 0.0762913\ttotal: 7.46s\tremaining: 11.3s\n",
      "398:\tlearn: 0.0760919\ttotal: 7.48s\tremaining: 11.3s\n",
      "399:\tlearn: 0.0758419\ttotal: 7.5s\tremaining: 11.3s\n",
      "400:\tlearn: 0.0757132\ttotal: 7.52s\tremaining: 11.2s\n",
      "401:\tlearn: 0.0756587\ttotal: 7.54s\tremaining: 11.2s\n",
      "402:\tlearn: 0.0754809\ttotal: 7.56s\tremaining: 11.2s\n",
      "403:\tlearn: 0.0753155\ttotal: 7.57s\tremaining: 11.2s\n",
      "404:\tlearn: 0.0751700\ttotal: 7.59s\tremaining: 11.2s\n",
      "405:\tlearn: 0.0750291\ttotal: 7.61s\tremaining: 11.1s\n",
      "406:\tlearn: 0.0747762\ttotal: 7.63s\tremaining: 11.1s\n",
      "407:\tlearn: 0.0745112\ttotal: 7.65s\tremaining: 11.1s\n",
      "408:\tlearn: 0.0742030\ttotal: 7.67s\tremaining: 11.1s\n",
      "409:\tlearn: 0.0739357\ttotal: 7.69s\tremaining: 11.1s\n",
      "410:\tlearn: 0.0737877\ttotal: 7.71s\tremaining: 11s\n",
      "411:\tlearn: 0.0735175\ttotal: 7.73s\tremaining: 11s\n",
      "412:\tlearn: 0.0733235\ttotal: 7.75s\tremaining: 11s\n",
      "413:\tlearn: 0.0732829\ttotal: 7.77s\tremaining: 11s\n",
      "414:\tlearn: 0.0729662\ttotal: 7.79s\tremaining: 11s\n",
      "415:\tlearn: 0.0728498\ttotal: 7.81s\tremaining: 11s\n",
      "416:\tlearn: 0.0725084\ttotal: 7.84s\tremaining: 11s\n",
      "417:\tlearn: 0.0724034\ttotal: 7.86s\tremaining: 10.9s\n",
      "418:\tlearn: 0.0722374\ttotal: 7.87s\tremaining: 10.9s\n",
      "419:\tlearn: 0.0720436\ttotal: 7.89s\tremaining: 10.9s\n",
      "420:\tlearn: 0.0719354\ttotal: 7.9s\tremaining: 10.9s\n",
      "421:\tlearn: 0.0717327\ttotal: 7.92s\tremaining: 10.9s\n",
      "422:\tlearn: 0.0715911\ttotal: 7.95s\tremaining: 10.8s\n",
      "423:\tlearn: 0.0713615\ttotal: 7.97s\tremaining: 10.8s\n",
      "424:\tlearn: 0.0710664\ttotal: 7.99s\tremaining: 10.8s\n",
      "425:\tlearn: 0.0708996\ttotal: 8.01s\tremaining: 10.8s\n",
      "426:\tlearn: 0.0707610\ttotal: 8.03s\tremaining: 10.8s\n",
      "427:\tlearn: 0.0706119\ttotal: 8.05s\tremaining: 10.8s\n",
      "428:\tlearn: 0.0704568\ttotal: 8.07s\tremaining: 10.7s\n",
      "429:\tlearn: 0.0703407\ttotal: 8.1s\tremaining: 10.7s\n",
      "430:\tlearn: 0.0700382\ttotal: 8.12s\tremaining: 10.7s\n",
      "431:\tlearn: 0.0698386\ttotal: 8.14s\tremaining: 10.7s\n",
      "432:\tlearn: 0.0696422\ttotal: 8.16s\tremaining: 10.7s\n",
      "433:\tlearn: 0.0694032\ttotal: 8.18s\tremaining: 10.7s\n",
      "434:\tlearn: 0.0692725\ttotal: 8.2s\tremaining: 10.7s\n",
      "435:\tlearn: 0.0690208\ttotal: 8.22s\tremaining: 10.6s\n",
      "436:\tlearn: 0.0689874\ttotal: 8.24s\tremaining: 10.6s\n",
      "437:\tlearn: 0.0688314\ttotal: 8.26s\tremaining: 10.6s\n",
      "438:\tlearn: 0.0685939\ttotal: 8.28s\tremaining: 10.6s\n",
      "439:\tlearn: 0.0685116\ttotal: 8.31s\tremaining: 10.6s\n",
      "440:\tlearn: 0.0684594\ttotal: 8.32s\tremaining: 10.6s\n",
      "441:\tlearn: 0.0682318\ttotal: 8.35s\tremaining: 10.5s\n",
      "442:\tlearn: 0.0679768\ttotal: 8.37s\tremaining: 10.5s\n",
      "443:\tlearn: 0.0678007\ttotal: 8.39s\tremaining: 10.5s\n",
      "444:\tlearn: 0.0675257\ttotal: 8.41s\tremaining: 10.5s\n",
      "445:\tlearn: 0.0673481\ttotal: 8.43s\tremaining: 10.5s\n",
      "446:\tlearn: 0.0671197\ttotal: 8.45s\tremaining: 10.5s\n",
      "447:\tlearn: 0.0669805\ttotal: 8.47s\tremaining: 10.4s\n",
      "448:\tlearn: 0.0668381\ttotal: 8.49s\tremaining: 10.4s\n",
      "449:\tlearn: 0.0666079\ttotal: 8.51s\tremaining: 10.4s\n",
      "450:\tlearn: 0.0664036\ttotal: 8.53s\tremaining: 10.4s\n",
      "451:\tlearn: 0.0661888\ttotal: 8.55s\tremaining: 10.4s\n",
      "452:\tlearn: 0.0660751\ttotal: 8.57s\tremaining: 10.3s\n",
      "453:\tlearn: 0.0659473\ttotal: 8.59s\tremaining: 10.3s\n",
      "454:\tlearn: 0.0658621\ttotal: 8.61s\tremaining: 10.3s\n",
      "455:\tlearn: 0.0656416\ttotal: 8.64s\tremaining: 10.3s\n",
      "456:\tlearn: 0.0653912\ttotal: 8.66s\tremaining: 10.3s\n",
      "457:\tlearn: 0.0653049\ttotal: 8.67s\tremaining: 10.3s\n",
      "458:\tlearn: 0.0650649\ttotal: 8.69s\tremaining: 10.2s\n",
      "459:\tlearn: 0.0649960\ttotal: 8.71s\tremaining: 10.2s\n",
      "460:\tlearn: 0.0647229\ttotal: 8.72s\tremaining: 10.2s\n",
      "461:\tlearn: 0.0645451\ttotal: 8.74s\tremaining: 10.2s\n",
      "462:\tlearn: 0.0642539\ttotal: 8.75s\tremaining: 10.2s\n",
      "463:\tlearn: 0.0641463\ttotal: 8.77s\tremaining: 10.1s\n",
      "464:\tlearn: 0.0640423\ttotal: 8.78s\tremaining: 10.1s\n",
      "465:\tlearn: 0.0639623\ttotal: 8.8s\tremaining: 10.1s\n",
      "466:\tlearn: 0.0637872\ttotal: 8.82s\tremaining: 10.1s\n",
      "467:\tlearn: 0.0636557\ttotal: 8.85s\tremaining: 10.1s\n",
      "468:\tlearn: 0.0634854\ttotal: 8.87s\tremaining: 10s\n",
      "469:\tlearn: 0.0634056\ttotal: 8.9s\tremaining: 10s\n",
      "470:\tlearn: 0.0632095\ttotal: 8.92s\tremaining: 10s\n",
      "471:\tlearn: 0.0630859\ttotal: 8.94s\tremaining: 10s\n",
      "472:\tlearn: 0.0628711\ttotal: 8.95s\tremaining: 9.98s\n",
      "473:\tlearn: 0.0626661\ttotal: 8.97s\tremaining: 9.96s\n",
      "474:\tlearn: 0.0625433\ttotal: 8.99s\tremaining: 9.94s\n",
      "475:\tlearn: 0.0624212\ttotal: 9.01s\tremaining: 9.92s\n",
      "476:\tlearn: 0.0622847\ttotal: 9.03s\tremaining: 9.9s\n",
      "477:\tlearn: 0.0621519\ttotal: 9.05s\tremaining: 9.88s\n",
      "478:\tlearn: 0.0619446\ttotal: 9.08s\tremaining: 9.87s\n",
      "479:\tlearn: 0.0618246\ttotal: 9.1s\tremaining: 9.86s\n",
      "480:\tlearn: 0.0617294\ttotal: 9.11s\tremaining: 9.83s\n",
      "481:\tlearn: 0.0615808\ttotal: 9.13s\tremaining: 9.81s\n",
      "482:\tlearn: 0.0614496\ttotal: 9.15s\tremaining: 9.79s\n",
      "483:\tlearn: 0.0612369\ttotal: 9.17s\tremaining: 9.78s\n",
      "484:\tlearn: 0.0610971\ttotal: 9.19s\tremaining: 9.76s\n",
      "485:\tlearn: 0.0609944\ttotal: 9.21s\tremaining: 9.74s\n",
      "486:\tlearn: 0.0608941\ttotal: 9.23s\tremaining: 9.72s\n",
      "487:\tlearn: 0.0607304\ttotal: 9.25s\tremaining: 9.7s\n",
      "488:\tlearn: 0.0605825\ttotal: 9.27s\tremaining: 9.68s\n",
      "489:\tlearn: 0.0604597\ttotal: 9.28s\tremaining: 9.66s\n",
      "490:\tlearn: 0.0602574\ttotal: 9.3s\tremaining: 9.64s\n",
      "491:\tlearn: 0.0600799\ttotal: 9.32s\tremaining: 9.63s\n",
      "492:\tlearn: 0.0599574\ttotal: 9.34s\tremaining: 9.61s\n"
     ]
    },
    {
     "name": "stdout",
     "output_type": "stream",
     "text": [
      "493:\tlearn: 0.0597616\ttotal: 9.37s\tremaining: 9.6s\n",
      "494:\tlearn: 0.0596750\ttotal: 9.38s\tremaining: 9.57s\n",
      "495:\tlearn: 0.0595243\ttotal: 9.4s\tremaining: 9.55s\n",
      "496:\tlearn: 0.0592968\ttotal: 9.42s\tremaining: 9.53s\n",
      "497:\tlearn: 0.0591104\ttotal: 9.44s\tremaining: 9.51s\n",
      "498:\tlearn: 0.0590100\ttotal: 9.45s\tremaining: 9.49s\n",
      "499:\tlearn: 0.0588047\ttotal: 9.47s\tremaining: 9.47s\n",
      "500:\tlearn: 0.0586935\ttotal: 9.49s\tremaining: 9.45s\n",
      "501:\tlearn: 0.0584430\ttotal: 9.51s\tremaining: 9.44s\n",
      "502:\tlearn: 0.0583062\ttotal: 9.54s\tremaining: 9.42s\n",
      "503:\tlearn: 0.0582687\ttotal: 9.56s\tremaining: 9.4s\n",
      "504:\tlearn: 0.0581091\ttotal: 9.57s\tremaining: 9.38s\n",
      "505:\tlearn: 0.0579256\ttotal: 9.59s\tremaining: 9.36s\n",
      "506:\tlearn: 0.0577152\ttotal: 9.61s\tremaining: 9.34s\n",
      "507:\tlearn: 0.0575906\ttotal: 9.62s\tremaining: 9.32s\n",
      "508:\tlearn: 0.0574065\ttotal: 9.64s\tremaining: 9.3s\n",
      "509:\tlearn: 0.0571852\ttotal: 9.65s\tremaining: 9.28s\n",
      "510:\tlearn: 0.0571058\ttotal: 9.67s\tremaining: 9.26s\n",
      "511:\tlearn: 0.0570173\ttotal: 9.69s\tremaining: 9.24s\n",
      "512:\tlearn: 0.0569718\ttotal: 9.71s\tremaining: 9.22s\n",
      "513:\tlearn: 0.0568998\ttotal: 9.73s\tremaining: 9.2s\n",
      "514:\tlearn: 0.0568350\ttotal: 9.75s\tremaining: 9.18s\n",
      "515:\tlearn: 0.0567923\ttotal: 9.77s\tremaining: 9.16s\n",
      "516:\tlearn: 0.0567101\ttotal: 9.79s\tremaining: 9.15s\n",
      "517:\tlearn: 0.0566061\ttotal: 9.81s\tremaining: 9.13s\n",
      "518:\tlearn: 0.0564330\ttotal: 9.84s\tremaining: 9.12s\n",
      "519:\tlearn: 0.0562376\ttotal: 9.86s\tremaining: 9.1s\n",
      "520:\tlearn: 0.0560338\ttotal: 9.88s\tremaining: 9.08s\n",
      "521:\tlearn: 0.0559287\ttotal: 9.89s\tremaining: 9.06s\n",
      "522:\tlearn: 0.0558763\ttotal: 9.91s\tremaining: 9.04s\n",
      "523:\tlearn: 0.0558337\ttotal: 9.94s\tremaining: 9.03s\n",
      "524:\tlearn: 0.0557190\ttotal: 9.96s\tremaining: 9.01s\n",
      "525:\tlearn: 0.0556607\ttotal: 9.98s\tremaining: 9s\n",
      "526:\tlearn: 0.0554420\ttotal: 10s\tremaining: 8.98s\n",
      "527:\tlearn: 0.0553113\ttotal: 10s\tremaining: 8.96s\n",
      "528:\tlearn: 0.0551717\ttotal: 10s\tremaining: 8.94s\n",
      "529:\tlearn: 0.0550712\ttotal: 10.1s\tremaining: 8.92s\n",
      "530:\tlearn: 0.0549005\ttotal: 10.1s\tremaining: 8.91s\n",
      "531:\tlearn: 0.0547784\ttotal: 10.1s\tremaining: 8.89s\n",
      "532:\tlearn: 0.0546664\ttotal: 10.1s\tremaining: 8.87s\n",
      "533:\tlearn: 0.0544461\ttotal: 10.1s\tremaining: 8.85s\n",
      "534:\tlearn: 0.0543484\ttotal: 10.2s\tremaining: 8.83s\n",
      "535:\tlearn: 0.0541589\ttotal: 10.2s\tremaining: 8.81s\n",
      "536:\tlearn: 0.0540014\ttotal: 10.2s\tremaining: 8.79s\n",
      "537:\tlearn: 0.0539062\ttotal: 10.2s\tremaining: 8.78s\n",
      "538:\tlearn: 0.0538213\ttotal: 10.2s\tremaining: 8.76s\n",
      "539:\tlearn: 0.0537203\ttotal: 10.3s\tremaining: 8.74s\n",
      "540:\tlearn: 0.0536359\ttotal: 10.3s\tremaining: 8.72s\n",
      "541:\tlearn: 0.0535323\ttotal: 10.3s\tremaining: 8.71s\n",
      "542:\tlearn: 0.0533705\ttotal: 10.3s\tremaining: 8.69s\n",
      "543:\tlearn: 0.0533014\ttotal: 10.3s\tremaining: 8.67s\n",
      "544:\tlearn: 0.0532098\ttotal: 10.4s\tremaining: 8.65s\n",
      "545:\tlearn: 0.0531724\ttotal: 10.4s\tremaining: 8.63s\n",
      "546:\tlearn: 0.0530346\ttotal: 10.4s\tremaining: 8.61s\n",
      "547:\tlearn: 0.0529320\ttotal: 10.4s\tremaining: 8.6s\n",
      "548:\tlearn: 0.0527314\ttotal: 10.4s\tremaining: 8.58s\n",
      "549:\tlearn: 0.0525818\ttotal: 10.5s\tremaining: 8.56s\n",
      "550:\tlearn: 0.0523704\ttotal: 10.5s\tremaining: 8.53s\n",
      "551:\tlearn: 0.0522919\ttotal: 10.5s\tremaining: 8.51s\n",
      "552:\tlearn: 0.0521340\ttotal: 10.5s\tremaining: 8.49s\n",
      "553:\tlearn: 0.0520691\ttotal: 10.5s\tremaining: 8.47s\n",
      "554:\tlearn: 0.0518812\ttotal: 10.5s\tremaining: 8.45s\n",
      "555:\tlearn: 0.0517863\ttotal: 10.6s\tremaining: 8.43s\n",
      "556:\tlearn: 0.0517039\ttotal: 10.6s\tremaining: 8.4s\n",
      "557:\tlearn: 0.0516468\ttotal: 10.6s\tremaining: 8.38s\n",
      "558:\tlearn: 0.0515644\ttotal: 10.6s\tremaining: 8.36s\n",
      "559:\tlearn: 0.0514704\ttotal: 10.6s\tremaining: 8.34s\n",
      "560:\tlearn: 0.0513072\ttotal: 10.6s\tremaining: 8.32s\n",
      "561:\tlearn: 0.0512134\ttotal: 10.7s\tremaining: 8.3s\n",
      "562:\tlearn: 0.0510552\ttotal: 10.7s\tremaining: 8.28s\n",
      "563:\tlearn: 0.0509232\ttotal: 10.7s\tremaining: 8.26s\n",
      "564:\tlearn: 0.0508533\ttotal: 10.7s\tremaining: 8.24s\n",
      "565:\tlearn: 0.0507897\ttotal: 10.7s\tremaining: 8.22s\n",
      "566:\tlearn: 0.0507155\ttotal: 10.7s\tremaining: 8.2s\n",
      "567:\tlearn: 0.0506394\ttotal: 10.8s\tremaining: 8.18s\n",
      "568:\tlearn: 0.0506020\ttotal: 10.8s\tremaining: 8.15s\n",
      "569:\tlearn: 0.0505518\ttotal: 10.8s\tremaining: 8.13s\n",
      "570:\tlearn: 0.0504094\ttotal: 10.8s\tremaining: 8.11s\n",
      "571:\tlearn: 0.0503470\ttotal: 10.8s\tremaining: 8.09s\n",
      "572:\tlearn: 0.0501724\ttotal: 10.8s\tremaining: 8.07s\n",
      "573:\tlearn: 0.0500158\ttotal: 10.8s\tremaining: 8.05s\n",
      "574:\tlearn: 0.0498281\ttotal: 10.9s\tremaining: 8.03s\n",
      "575:\tlearn: 0.0497898\ttotal: 10.9s\tremaining: 8.01s\n",
      "576:\tlearn: 0.0497217\ttotal: 10.9s\tremaining: 7.99s\n",
      "577:\tlearn: 0.0496617\ttotal: 10.9s\tremaining: 7.97s\n",
      "578:\tlearn: 0.0496200\ttotal: 10.9s\tremaining: 7.95s\n",
      "579:\tlearn: 0.0494190\ttotal: 10.9s\tremaining: 7.92s\n",
      "580:\tlearn: 0.0493210\ttotal: 11s\tremaining: 7.91s\n",
      "581:\tlearn: 0.0491944\ttotal: 11s\tremaining: 7.88s\n",
      "582:\tlearn: 0.0491278\ttotal: 11s\tremaining: 7.86s\n",
      "583:\tlearn: 0.0490686\ttotal: 11s\tremaining: 7.84s\n",
      "584:\tlearn: 0.0489603\ttotal: 11s\tremaining: 7.82s\n",
      "585:\tlearn: 0.0488299\ttotal: 11s\tremaining: 7.8s\n",
      "586:\tlearn: 0.0487632\ttotal: 11.1s\tremaining: 7.78s\n",
      "587:\tlearn: 0.0485953\ttotal: 11.1s\tremaining: 7.76s\n",
      "588:\tlearn: 0.0484955\ttotal: 11.1s\tremaining: 7.74s\n",
      "589:\tlearn: 0.0483409\ttotal: 11.1s\tremaining: 7.72s\n",
      "590:\tlearn: 0.0482165\ttotal: 11.1s\tremaining: 7.7s\n",
      "591:\tlearn: 0.0480456\ttotal: 11.2s\tremaining: 7.68s\n",
      "592:\tlearn: 0.0479298\ttotal: 11.2s\tremaining: 7.66s\n",
      "593:\tlearn: 0.0477991\ttotal: 11.2s\tremaining: 7.64s\n",
      "594:\tlearn: 0.0476882\ttotal: 11.2s\tremaining: 7.62s\n",
      "595:\tlearn: 0.0475921\ttotal: 11.2s\tremaining: 7.6s\n",
      "596:\tlearn: 0.0475167\ttotal: 11.2s\tremaining: 7.58s\n",
      "597:\tlearn: 0.0474116\ttotal: 11.2s\tremaining: 7.56s\n",
      "598:\tlearn: 0.0472984\ttotal: 11.3s\tremaining: 7.54s\n",
      "599:\tlearn: 0.0472813\ttotal: 11.3s\tremaining: 7.52s\n",
      "600:\tlearn: 0.0472227\ttotal: 11.3s\tremaining: 7.5s\n",
      "601:\tlearn: 0.0470986\ttotal: 11.3s\tremaining: 7.48s\n",
      "602:\tlearn: 0.0469908\ttotal: 11.3s\tremaining: 7.46s\n",
      "603:\tlearn: 0.0468899\ttotal: 11.3s\tremaining: 7.44s\n",
      "604:\tlearn: 0.0468187\ttotal: 11.4s\tremaining: 7.42s\n",
      "605:\tlearn: 0.0466659\ttotal: 11.4s\tremaining: 7.4s\n",
      "606:\tlearn: 0.0466204\ttotal: 11.4s\tremaining: 7.38s\n",
      "607:\tlearn: 0.0465749\ttotal: 11.4s\tremaining: 7.36s\n",
      "608:\tlearn: 0.0464269\ttotal: 11.4s\tremaining: 7.34s\n",
      "609:\tlearn: 0.0463513\ttotal: 11.4s\tremaining: 7.32s\n",
      "610:\tlearn: 0.0462303\ttotal: 11.5s\tremaining: 7.3s\n",
      "611:\tlearn: 0.0461474\ttotal: 11.5s\tremaining: 7.27s\n",
      "612:\tlearn: 0.0460481\ttotal: 11.5s\tremaining: 7.25s\n",
      "613:\tlearn: 0.0459970\ttotal: 11.5s\tremaining: 7.23s\n",
      "614:\tlearn: 0.0459125\ttotal: 11.5s\tremaining: 7.21s\n",
      "615:\tlearn: 0.0457833\ttotal: 11.5s\tremaining: 7.2s\n",
      "616:\tlearn: 0.0456475\ttotal: 11.6s\tremaining: 7.18s\n",
      "617:\tlearn: 0.0455281\ttotal: 11.6s\tremaining: 7.16s\n",
      "618:\tlearn: 0.0454487\ttotal: 11.6s\tremaining: 7.13s\n",
      "619:\tlearn: 0.0452830\ttotal: 11.6s\tremaining: 7.12s\n",
      "620:\tlearn: 0.0451952\ttotal: 11.6s\tremaining: 7.09s\n",
      "621:\tlearn: 0.0451103\ttotal: 11.6s\tremaining: 7.07s\n",
      "622:\tlearn: 0.0450461\ttotal: 11.7s\tremaining: 7.05s\n",
      "623:\tlearn: 0.0449699\ttotal: 11.7s\tremaining: 7.03s\n",
      "624:\tlearn: 0.0449215\ttotal: 11.7s\tremaining: 7.01s\n",
      "625:\tlearn: 0.0448488\ttotal: 11.7s\tremaining: 6.99s\n",
      "626:\tlearn: 0.0447243\ttotal: 11.7s\tremaining: 6.97s\n",
      "627:\tlearn: 0.0446230\ttotal: 11.7s\tremaining: 6.95s\n",
      "628:\tlearn: 0.0445431\ttotal: 11.8s\tremaining: 6.93s\n",
      "629:\tlearn: 0.0444388\ttotal: 11.8s\tremaining: 6.91s\n",
      "630:\tlearn: 0.0443690\ttotal: 11.8s\tremaining: 6.89s\n",
      "631:\tlearn: 0.0442962\ttotal: 11.8s\tremaining: 6.87s\n",
      "632:\tlearn: 0.0441606\ttotal: 11.8s\tremaining: 6.85s\n",
      "633:\tlearn: 0.0440791\ttotal: 11.8s\tremaining: 6.83s\n",
      "634:\tlearn: 0.0440113\ttotal: 11.8s\tremaining: 6.81s\n",
      "635:\tlearn: 0.0439513\ttotal: 11.9s\tremaining: 6.79s\n",
      "636:\tlearn: 0.0438643\ttotal: 11.9s\tremaining: 6.76s\n",
      "637:\tlearn: 0.0437938\ttotal: 11.9s\tremaining: 6.75s\n",
      "638:\tlearn: 0.0436900\ttotal: 11.9s\tremaining: 6.72s\n",
      "639:\tlearn: 0.0436276\ttotal: 11.9s\tremaining: 6.7s\n",
      "640:\tlearn: 0.0435574\ttotal: 11.9s\tremaining: 6.68s\n",
      "641:\tlearn: 0.0434672\ttotal: 11.9s\tremaining: 6.66s\n",
      "642:\tlearn: 0.0434044\ttotal: 12s\tremaining: 6.64s\n",
      "643:\tlearn: 0.0433330\ttotal: 12s\tremaining: 6.62s\n",
      "644:\tlearn: 0.0432650\ttotal: 12s\tremaining: 6.6s\n",
      "645:\tlearn: 0.0432205\ttotal: 12s\tremaining: 6.58s\n",
      "646:\tlearn: 0.0431599\ttotal: 12s\tremaining: 6.56s\n",
      "647:\tlearn: 0.0430787\ttotal: 12s\tremaining: 6.54s\n",
      "648:\tlearn: 0.0430427\ttotal: 12.1s\tremaining: 6.52s\n",
      "649:\tlearn: 0.0429283\ttotal: 12.1s\tremaining: 6.5s\n",
      "650:\tlearn: 0.0428439\ttotal: 12.1s\tremaining: 6.48s\n",
      "651:\tlearn: 0.0427754\ttotal: 12.1s\tremaining: 6.46s\n",
      "652:\tlearn: 0.0427278\ttotal: 12.1s\tremaining: 6.43s\n",
      "653:\tlearn: 0.0426298\ttotal: 12.1s\tremaining: 6.42s\n",
      "654:\tlearn: 0.0425615\ttotal: 12.1s\tremaining: 6.4s\n",
      "655:\tlearn: 0.0423993\ttotal: 12.2s\tremaining: 6.38s\n",
      "656:\tlearn: 0.0423313\ttotal: 12.2s\tremaining: 6.36s\n",
      "657:\tlearn: 0.0422436\ttotal: 12.2s\tremaining: 6.34s\n",
      "658:\tlearn: 0.0422015\ttotal: 12.2s\tremaining: 6.32s\n",
      "659:\tlearn: 0.0421134\ttotal: 12.2s\tremaining: 6.3s\n",
      "660:\tlearn: 0.0420300\ttotal: 12.2s\tremaining: 6.28s\n",
      "661:\tlearn: 0.0419462\ttotal: 12.3s\tremaining: 6.25s\n",
      "662:\tlearn: 0.0419118\ttotal: 12.3s\tremaining: 6.23s\n",
      "663:\tlearn: 0.0418221\ttotal: 12.3s\tremaining: 6.21s\n"
     ]
    },
    {
     "name": "stdout",
     "output_type": "stream",
     "text": [
      "664:\tlearn: 0.0416759\ttotal: 12.3s\tremaining: 6.2s\n",
      "665:\tlearn: 0.0415628\ttotal: 12.3s\tremaining: 6.17s\n",
      "666:\tlearn: 0.0414529\ttotal: 12.3s\tremaining: 6.16s\n",
      "667:\tlearn: 0.0413272\ttotal: 12.3s\tremaining: 6.13s\n",
      "668:\tlearn: 0.0412383\ttotal: 12.4s\tremaining: 6.12s\n",
      "669:\tlearn: 0.0411109\ttotal: 12.4s\tremaining: 6.1s\n",
      "670:\tlearn: 0.0409736\ttotal: 12.4s\tremaining: 6.08s\n",
      "671:\tlearn: 0.0408925\ttotal: 12.4s\tremaining: 6.06s\n",
      "672:\tlearn: 0.0407879\ttotal: 12.4s\tremaining: 6.04s\n",
      "673:\tlearn: 0.0407213\ttotal: 12.4s\tremaining: 6.02s\n",
      "674:\tlearn: 0.0405956\ttotal: 12.5s\tremaining: 6s\n",
      "675:\tlearn: 0.0405078\ttotal: 12.5s\tremaining: 5.98s\n",
      "676:\tlearn: 0.0404754\ttotal: 12.5s\tremaining: 5.96s\n",
      "677:\tlearn: 0.0403617\ttotal: 12.5s\tremaining: 5.94s\n",
      "678:\tlearn: 0.0402692\ttotal: 12.5s\tremaining: 5.92s\n",
      "679:\tlearn: 0.0401835\ttotal: 12.5s\tremaining: 5.9s\n",
      "680:\tlearn: 0.0401302\ttotal: 12.6s\tremaining: 5.88s\n",
      "681:\tlearn: 0.0400848\ttotal: 12.6s\tremaining: 5.87s\n",
      "682:\tlearn: 0.0400105\ttotal: 12.6s\tremaining: 5.84s\n",
      "683:\tlearn: 0.0399568\ttotal: 12.6s\tremaining: 5.83s\n",
      "684:\tlearn: 0.0399128\ttotal: 12.6s\tremaining: 5.8s\n",
      "685:\tlearn: 0.0398067\ttotal: 12.6s\tremaining: 5.79s\n",
      "686:\tlearn: 0.0397420\ttotal: 12.7s\tremaining: 5.77s\n",
      "687:\tlearn: 0.0396531\ttotal: 12.7s\tremaining: 5.75s\n",
      "688:\tlearn: 0.0395550\ttotal: 12.7s\tremaining: 5.73s\n",
      "689:\tlearn: 0.0394563\ttotal: 12.7s\tremaining: 5.71s\n",
      "690:\tlearn: 0.0393461\ttotal: 12.7s\tremaining: 5.69s\n",
      "691:\tlearn: 0.0392436\ttotal: 12.7s\tremaining: 5.67s\n",
      "692:\tlearn: 0.0391942\ttotal: 12.8s\tremaining: 5.65s\n",
      "693:\tlearn: 0.0391297\ttotal: 12.8s\tremaining: 5.63s\n",
      "694:\tlearn: 0.0390409\ttotal: 12.8s\tremaining: 5.61s\n",
      "695:\tlearn: 0.0389332\ttotal: 12.8s\tremaining: 5.59s\n",
      "696:\tlearn: 0.0388068\ttotal: 12.8s\tremaining: 5.57s\n",
      "697:\tlearn: 0.0386177\ttotal: 12.8s\tremaining: 5.55s\n",
      "698:\tlearn: 0.0385014\ttotal: 12.9s\tremaining: 5.54s\n",
      "699:\tlearn: 0.0384742\ttotal: 12.9s\tremaining: 5.51s\n",
      "700:\tlearn: 0.0384234\ttotal: 12.9s\tremaining: 5.5s\n",
      "701:\tlearn: 0.0383573\ttotal: 12.9s\tremaining: 5.47s\n",
      "702:\tlearn: 0.0382685\ttotal: 12.9s\tremaining: 5.46s\n",
      "703:\tlearn: 0.0381745\ttotal: 12.9s\tremaining: 5.44s\n",
      "704:\tlearn: 0.0380755\ttotal: 12.9s\tremaining: 5.42s\n",
      "705:\tlearn: 0.0380602\ttotal: 13s\tremaining: 5.4s\n",
      "706:\tlearn: 0.0379553\ttotal: 13s\tremaining: 5.38s\n",
      "707:\tlearn: 0.0378563\ttotal: 13s\tremaining: 5.36s\n",
      "708:\tlearn: 0.0378262\ttotal: 13s\tremaining: 5.34s\n",
      "709:\tlearn: 0.0377636\ttotal: 13s\tremaining: 5.32s\n",
      "710:\tlearn: 0.0377189\ttotal: 13s\tremaining: 5.3s\n",
      "711:\tlearn: 0.0376391\ttotal: 13.1s\tremaining: 5.28s\n",
      "712:\tlearn: 0.0375264\ttotal: 13.1s\tremaining: 5.26s\n",
      "713:\tlearn: 0.0375097\ttotal: 13.1s\tremaining: 5.24s\n",
      "714:\tlearn: 0.0374074\ttotal: 13.1s\tremaining: 5.22s\n",
      "715:\tlearn: 0.0373262\ttotal: 13.1s\tremaining: 5.2s\n",
      "716:\tlearn: 0.0372136\ttotal: 13.1s\tremaining: 5.18s\n",
      "717:\tlearn: 0.0371715\ttotal: 13.2s\tremaining: 5.16s\n",
      "718:\tlearn: 0.0371567\ttotal: 13.2s\tremaining: 5.14s\n",
      "719:\tlearn: 0.0370548\ttotal: 13.2s\tremaining: 5.13s\n",
      "720:\tlearn: 0.0369816\ttotal: 13.2s\tremaining: 5.11s\n",
      "721:\tlearn: 0.0369529\ttotal: 13.2s\tremaining: 5.09s\n",
      "722:\tlearn: 0.0369254\ttotal: 13.2s\tremaining: 5.07s\n",
      "723:\tlearn: 0.0368705\ttotal: 13.2s\tremaining: 5.05s\n",
      "724:\tlearn: 0.0368345\ttotal: 13.3s\tremaining: 5.03s\n",
      "725:\tlearn: 0.0367539\ttotal: 13.3s\tremaining: 5.01s\n",
      "726:\tlearn: 0.0366597\ttotal: 13.3s\tremaining: 5s\n",
      "727:\tlearn: 0.0366011\ttotal: 13.3s\tremaining: 4.98s\n",
      "728:\tlearn: 0.0365463\ttotal: 13.3s\tremaining: 4.96s\n",
      "729:\tlearn: 0.0364807\ttotal: 13.4s\tremaining: 4.94s\n",
      "730:\tlearn: 0.0364498\ttotal: 13.4s\tremaining: 4.92s\n",
      "731:\tlearn: 0.0363569\ttotal: 13.4s\tremaining: 4.91s\n",
      "732:\tlearn: 0.0362549\ttotal: 13.4s\tremaining: 4.89s\n",
      "733:\tlearn: 0.0361981\ttotal: 13.4s\tremaining: 4.87s\n",
      "734:\tlearn: 0.0361247\ttotal: 13.5s\tremaining: 4.86s\n",
      "735:\tlearn: 0.0360674\ttotal: 13.5s\tremaining: 4.84s\n",
      "736:\tlearn: 0.0360026\ttotal: 13.5s\tremaining: 4.82s\n",
      "737:\tlearn: 0.0359148\ttotal: 13.5s\tremaining: 4.8s\n",
      "738:\tlearn: 0.0358764\ttotal: 13.6s\tremaining: 4.79s\n",
      "739:\tlearn: 0.0357750\ttotal: 13.6s\tremaining: 4.77s\n",
      "740:\tlearn: 0.0357187\ttotal: 13.6s\tremaining: 4.75s\n",
      "741:\tlearn: 0.0356813\ttotal: 13.6s\tremaining: 4.73s\n",
      "742:\tlearn: 0.0356548\ttotal: 13.6s\tremaining: 4.71s\n",
      "743:\tlearn: 0.0356138\ttotal: 13.6s\tremaining: 4.69s\n",
      "744:\tlearn: 0.0355592\ttotal: 13.7s\tremaining: 4.67s\n",
      "745:\tlearn: 0.0355368\ttotal: 13.7s\tremaining: 4.65s\n",
      "746:\tlearn: 0.0354730\ttotal: 13.7s\tremaining: 4.63s\n",
      "747:\tlearn: 0.0354354\ttotal: 13.7s\tremaining: 4.62s\n",
      "748:\tlearn: 0.0353141\ttotal: 13.7s\tremaining: 4.6s\n",
      "749:\tlearn: 0.0352852\ttotal: 13.7s\tremaining: 4.58s\n",
      "750:\tlearn: 0.0352466\ttotal: 13.8s\tremaining: 4.56s\n",
      "751:\tlearn: 0.0352054\ttotal: 13.8s\tremaining: 4.54s\n",
      "752:\tlearn: 0.0351813\ttotal: 13.8s\tremaining: 4.52s\n",
      "753:\tlearn: 0.0351257\ttotal: 13.8s\tremaining: 4.5s\n",
      "754:\tlearn: 0.0350709\ttotal: 13.8s\tremaining: 4.49s\n",
      "755:\tlearn: 0.0350247\ttotal: 13.8s\tremaining: 4.47s\n",
      "756:\tlearn: 0.0349983\ttotal: 13.9s\tremaining: 4.45s\n",
      "757:\tlearn: 0.0349497\ttotal: 13.9s\tremaining: 4.43s\n",
      "758:\tlearn: 0.0349034\ttotal: 13.9s\tremaining: 4.41s\n",
      "759:\tlearn: 0.0348567\ttotal: 13.9s\tremaining: 4.4s\n",
      "760:\tlearn: 0.0347279\ttotal: 13.9s\tremaining: 4.38s\n",
      "761:\tlearn: 0.0347015\ttotal: 14s\tremaining: 4.36s\n",
      "762:\tlearn: 0.0346720\ttotal: 14s\tremaining: 4.34s\n",
      "763:\tlearn: 0.0345918\ttotal: 14s\tremaining: 4.33s\n",
      "764:\tlearn: 0.0345363\ttotal: 14s\tremaining: 4.31s\n",
      "765:\tlearn: 0.0345068\ttotal: 14s\tremaining: 4.29s\n",
      "766:\tlearn: 0.0344425\ttotal: 14.1s\tremaining: 4.27s\n",
      "767:\tlearn: 0.0343895\ttotal: 14.1s\tremaining: 4.25s\n",
      "768:\tlearn: 0.0343495\ttotal: 14.1s\tremaining: 4.24s\n",
      "769:\tlearn: 0.0342803\ttotal: 14.1s\tremaining: 4.22s\n",
      "770:\tlearn: 0.0342337\ttotal: 14.1s\tremaining: 4.2s\n",
      "771:\tlearn: 0.0341723\ttotal: 14.2s\tremaining: 4.18s\n",
      "772:\tlearn: 0.0341529\ttotal: 14.2s\tremaining: 4.16s\n",
      "773:\tlearn: 0.0341066\ttotal: 14.2s\tremaining: 4.14s\n",
      "774:\tlearn: 0.0340648\ttotal: 14.2s\tremaining: 4.13s\n",
      "775:\tlearn: 0.0339698\ttotal: 14.2s\tremaining: 4.11s\n",
      "776:\tlearn: 0.0338914\ttotal: 14.2s\tremaining: 4.09s\n",
      "777:\tlearn: 0.0337869\ttotal: 14.3s\tremaining: 4.07s\n",
      "778:\tlearn: 0.0337494\ttotal: 14.3s\tremaining: 4.05s\n",
      "779:\tlearn: 0.0336863\ttotal: 14.3s\tremaining: 4.03s\n",
      "780:\tlearn: 0.0336148\ttotal: 14.3s\tremaining: 4.01s\n",
      "781:\tlearn: 0.0335613\ttotal: 14.3s\tremaining: 4s\n",
      "782:\tlearn: 0.0335391\ttotal: 14.4s\tremaining: 3.98s\n",
      "783:\tlearn: 0.0334404\ttotal: 14.4s\tremaining: 3.96s\n",
      "784:\tlearn: 0.0334102\ttotal: 14.4s\tremaining: 3.94s\n",
      "785:\tlearn: 0.0333551\ttotal: 14.4s\tremaining: 3.93s\n",
      "786:\tlearn: 0.0333086\ttotal: 14.4s\tremaining: 3.91s\n",
      "787:\tlearn: 0.0332737\ttotal: 14.5s\tremaining: 3.89s\n",
      "788:\tlearn: 0.0332244\ttotal: 14.5s\tremaining: 3.87s\n",
      "789:\tlearn: 0.0331922\ttotal: 14.5s\tremaining: 3.85s\n",
      "790:\tlearn: 0.0331656\ttotal: 14.5s\tremaining: 3.83s\n",
      "791:\tlearn: 0.0331411\ttotal: 14.5s\tremaining: 3.81s\n",
      "792:\tlearn: 0.0331032\ttotal: 14.5s\tremaining: 3.8s\n",
      "793:\tlearn: 0.0330706\ttotal: 14.6s\tremaining: 3.78s\n",
      "794:\tlearn: 0.0330223\ttotal: 14.6s\tremaining: 3.76s\n",
      "795:\tlearn: 0.0329606\ttotal: 14.6s\tremaining: 3.74s\n",
      "796:\tlearn: 0.0329375\ttotal: 14.6s\tremaining: 3.72s\n",
      "797:\tlearn: 0.0328878\ttotal: 14.6s\tremaining: 3.71s\n",
      "798:\tlearn: 0.0328409\ttotal: 14.7s\tremaining: 3.69s\n",
      "799:\tlearn: 0.0327470\ttotal: 14.7s\tremaining: 3.67s\n",
      "800:\tlearn: 0.0327050\ttotal: 14.7s\tremaining: 3.65s\n",
      "801:\tlearn: 0.0326276\ttotal: 14.7s\tremaining: 3.63s\n",
      "802:\tlearn: 0.0325896\ttotal: 14.7s\tremaining: 3.61s\n",
      "803:\tlearn: 0.0325563\ttotal: 14.7s\tremaining: 3.59s\n",
      "804:\tlearn: 0.0325016\ttotal: 14.8s\tremaining: 3.58s\n",
      "805:\tlearn: 0.0324309\ttotal: 14.8s\tremaining: 3.56s\n",
      "806:\tlearn: 0.0323554\ttotal: 14.8s\tremaining: 3.54s\n",
      "807:\tlearn: 0.0323138\ttotal: 14.8s\tremaining: 3.52s\n",
      "808:\tlearn: 0.0322526\ttotal: 14.8s\tremaining: 3.5s\n",
      "809:\tlearn: 0.0321895\ttotal: 14.8s\tremaining: 3.48s\n",
      "810:\tlearn: 0.0320946\ttotal: 14.9s\tremaining: 3.46s\n",
      "811:\tlearn: 0.0320592\ttotal: 14.9s\tremaining: 3.45s\n",
      "812:\tlearn: 0.0320434\ttotal: 14.9s\tremaining: 3.43s\n",
      "813:\tlearn: 0.0319818\ttotal: 14.9s\tremaining: 3.41s\n",
      "814:\tlearn: 0.0319379\ttotal: 14.9s\tremaining: 3.39s\n",
      "815:\tlearn: 0.0318475\ttotal: 15s\tremaining: 3.37s\n",
      "816:\tlearn: 0.0317827\ttotal: 15s\tremaining: 3.35s\n",
      "817:\tlearn: 0.0316879\ttotal: 15s\tremaining: 3.34s\n",
      "818:\tlearn: 0.0316623\ttotal: 15s\tremaining: 3.32s\n",
      "819:\tlearn: 0.0316008\ttotal: 15s\tremaining: 3.3s\n",
      "820:\tlearn: 0.0315306\ttotal: 15.1s\tremaining: 3.28s\n",
      "821:\tlearn: 0.0315017\ttotal: 15.1s\tremaining: 3.27s\n",
      "822:\tlearn: 0.0314800\ttotal: 15.1s\tremaining: 3.25s\n",
      "823:\tlearn: 0.0314521\ttotal: 15.1s\tremaining: 3.23s\n",
      "824:\tlearn: 0.0314129\ttotal: 15.1s\tremaining: 3.21s\n",
      "825:\tlearn: 0.0313404\ttotal: 15.2s\tremaining: 3.19s\n",
      "826:\tlearn: 0.0312967\ttotal: 15.2s\tremaining: 3.17s\n",
      "827:\tlearn: 0.0312859\ttotal: 15.2s\tremaining: 3.16s\n",
      "828:\tlearn: 0.0312253\ttotal: 15.2s\tremaining: 3.14s\n"
     ]
    },
    {
     "name": "stdout",
     "output_type": "stream",
     "text": [
      "829:\tlearn: 0.0311493\ttotal: 15.2s\tremaining: 3.12s\n",
      "830:\tlearn: 0.0311093\ttotal: 15.3s\tremaining: 3.1s\n",
      "831:\tlearn: 0.0310569\ttotal: 15.3s\tremaining: 3.08s\n",
      "832:\tlearn: 0.0309922\ttotal: 15.3s\tremaining: 3.07s\n",
      "833:\tlearn: 0.0309453\ttotal: 15.3s\tremaining: 3.05s\n",
      "834:\tlearn: 0.0308932\ttotal: 15.3s\tremaining: 3.03s\n",
      "835:\tlearn: 0.0308447\ttotal: 15.4s\tremaining: 3.01s\n",
      "836:\tlearn: 0.0308302\ttotal: 15.4s\tremaining: 3s\n",
      "837:\tlearn: 0.0308116\ttotal: 15.4s\tremaining: 2.98s\n",
      "838:\tlearn: 0.0307797\ttotal: 15.4s\tremaining: 2.96s\n",
      "839:\tlearn: 0.0307265\ttotal: 15.4s\tremaining: 2.94s\n",
      "840:\tlearn: 0.0307017\ttotal: 15.5s\tremaining: 2.92s\n",
      "841:\tlearn: 0.0306384\ttotal: 15.5s\tremaining: 2.9s\n",
      "842:\tlearn: 0.0305941\ttotal: 15.5s\tremaining: 2.89s\n",
      "843:\tlearn: 0.0305575\ttotal: 15.5s\tremaining: 2.87s\n",
      "844:\tlearn: 0.0305052\ttotal: 15.5s\tremaining: 2.85s\n",
      "845:\tlearn: 0.0304704\ttotal: 15.6s\tremaining: 2.83s\n",
      "846:\tlearn: 0.0304194\ttotal: 15.6s\tremaining: 2.81s\n",
      "847:\tlearn: 0.0303691\ttotal: 15.6s\tremaining: 2.8s\n",
      "848:\tlearn: 0.0303573\ttotal: 15.6s\tremaining: 2.78s\n",
      "849:\tlearn: 0.0302841\ttotal: 15.6s\tremaining: 2.76s\n",
      "850:\tlearn: 0.0302623\ttotal: 15.7s\tremaining: 2.74s\n",
      "851:\tlearn: 0.0302383\ttotal: 15.7s\tremaining: 2.73s\n",
      "852:\tlearn: 0.0301842\ttotal: 15.7s\tremaining: 2.71s\n",
      "853:\tlearn: 0.0301644\ttotal: 15.7s\tremaining: 2.69s\n",
      "854:\tlearn: 0.0301417\ttotal: 15.7s\tremaining: 2.67s\n",
      "855:\tlearn: 0.0300777\ttotal: 15.8s\tremaining: 2.65s\n",
      "856:\tlearn: 0.0300303\ttotal: 15.8s\tremaining: 2.63s\n",
      "857:\tlearn: 0.0300033\ttotal: 15.8s\tremaining: 2.61s\n",
      "858:\tlearn: 0.0299570\ttotal: 15.8s\tremaining: 2.6s\n",
      "859:\tlearn: 0.0298957\ttotal: 15.8s\tremaining: 2.58s\n",
      "860:\tlearn: 0.0298725\ttotal: 15.9s\tremaining: 2.56s\n",
      "861:\tlearn: 0.0298138\ttotal: 15.9s\tremaining: 2.54s\n",
      "862:\tlearn: 0.0297579\ttotal: 15.9s\tremaining: 2.52s\n",
      "863:\tlearn: 0.0297349\ttotal: 15.9s\tremaining: 2.51s\n",
      "864:\tlearn: 0.0297040\ttotal: 15.9s\tremaining: 2.49s\n",
      "865:\tlearn: 0.0296635\ttotal: 16s\tremaining: 2.47s\n",
      "866:\tlearn: 0.0296095\ttotal: 16s\tremaining: 2.45s\n",
      "867:\tlearn: 0.0295829\ttotal: 16s\tremaining: 2.43s\n",
      "868:\tlearn: 0.0295598\ttotal: 16s\tremaining: 2.42s\n",
      "869:\tlearn: 0.0294996\ttotal: 16s\tremaining: 2.4s\n",
      "870:\tlearn: 0.0294160\ttotal: 16.1s\tremaining: 2.38s\n",
      "871:\tlearn: 0.0293921\ttotal: 16.1s\tremaining: 2.36s\n",
      "872:\tlearn: 0.0293844\ttotal: 16.1s\tremaining: 2.34s\n",
      "873:\tlearn: 0.0293306\ttotal: 16.1s\tremaining: 2.32s\n",
      "874:\tlearn: 0.0292470\ttotal: 16.1s\tremaining: 2.31s\n",
      "875:\tlearn: 0.0291731\ttotal: 16.2s\tremaining: 2.29s\n",
      "876:\tlearn: 0.0291058\ttotal: 16.2s\tremaining: 2.27s\n",
      "877:\tlearn: 0.0290838\ttotal: 16.2s\tremaining: 2.25s\n",
      "878:\tlearn: 0.0290040\ttotal: 16.2s\tremaining: 2.23s\n",
      "879:\tlearn: 0.0289460\ttotal: 16.3s\tremaining: 2.22s\n",
      "880:\tlearn: 0.0289278\ttotal: 16.3s\tremaining: 2.2s\n",
      "881:\tlearn: 0.0288715\ttotal: 16.3s\tremaining: 2.18s\n",
      "882:\tlearn: 0.0288472\ttotal: 16.3s\tremaining: 2.16s\n",
      "883:\tlearn: 0.0287856\ttotal: 16.3s\tremaining: 2.14s\n",
      "884:\tlearn: 0.0287171\ttotal: 16.4s\tremaining: 2.12s\n",
      "885:\tlearn: 0.0286697\ttotal: 16.4s\tremaining: 2.11s\n",
      "886:\tlearn: 0.0286150\ttotal: 16.4s\tremaining: 2.09s\n",
      "887:\tlearn: 0.0285931\ttotal: 16.4s\tremaining: 2.07s\n",
      "888:\tlearn: 0.0285371\ttotal: 16.4s\tremaining: 2.05s\n",
      "889:\tlearn: 0.0284850\ttotal: 16.4s\tremaining: 2.03s\n",
      "890:\tlearn: 0.0284448\ttotal: 16.5s\tremaining: 2.02s\n",
      "891:\tlearn: 0.0284352\ttotal: 16.5s\tremaining: 2s\n",
      "892:\tlearn: 0.0283631\ttotal: 16.5s\tremaining: 1.98s\n",
      "893:\tlearn: 0.0283384\ttotal: 16.5s\tremaining: 1.96s\n",
      "894:\tlearn: 0.0283175\ttotal: 16.6s\tremaining: 1.94s\n",
      "895:\tlearn: 0.0282930\ttotal: 16.6s\tremaining: 1.92s\n",
      "896:\tlearn: 0.0282577\ttotal: 16.6s\tremaining: 1.91s\n",
      "897:\tlearn: 0.0282046\ttotal: 16.6s\tremaining: 1.89s\n",
      "898:\tlearn: 0.0281832\ttotal: 16.6s\tremaining: 1.87s\n",
      "899:\tlearn: 0.0281115\ttotal: 16.6s\tremaining: 1.85s\n",
      "900:\tlearn: 0.0280877\ttotal: 16.7s\tremaining: 1.83s\n",
      "901:\tlearn: 0.0280602\ttotal: 16.7s\tremaining: 1.81s\n",
      "902:\tlearn: 0.0280039\ttotal: 16.7s\tremaining: 1.79s\n",
      "903:\tlearn: 0.0279867\ttotal: 16.7s\tremaining: 1.77s\n",
      "904:\tlearn: 0.0279497\ttotal: 16.7s\tremaining: 1.76s\n",
      "905:\tlearn: 0.0279108\ttotal: 16.7s\tremaining: 1.74s\n",
      "906:\tlearn: 0.0278825\ttotal: 16.8s\tremaining: 1.72s\n",
      "907:\tlearn: 0.0278568\ttotal: 16.8s\tremaining: 1.7s\n",
      "908:\tlearn: 0.0278271\ttotal: 16.8s\tremaining: 1.68s\n",
      "909:\tlearn: 0.0277946\ttotal: 16.8s\tremaining: 1.66s\n",
      "910:\tlearn: 0.0277799\ttotal: 16.8s\tremaining: 1.64s\n",
      "911:\tlearn: 0.0277397\ttotal: 16.9s\tremaining: 1.63s\n",
      "912:\tlearn: 0.0277059\ttotal: 16.9s\tremaining: 1.61s\n",
      "913:\tlearn: 0.0276674\ttotal: 17s\tremaining: 1.59s\n",
      "914:\tlearn: 0.0276156\ttotal: 17s\tremaining: 1.58s\n",
      "915:\tlearn: 0.0275688\ttotal: 17s\tremaining: 1.56s\n",
      "916:\tlearn: 0.0275427\ttotal: 17s\tremaining: 1.54s\n",
      "917:\tlearn: 0.0274877\ttotal: 17s\tremaining: 1.52s\n",
      "918:\tlearn: 0.0274609\ttotal: 17.1s\tremaining: 1.5s\n",
      "919:\tlearn: 0.0274362\ttotal: 17.1s\tremaining: 1.49s\n",
      "920:\tlearn: 0.0273924\ttotal: 17.1s\tremaining: 1.47s\n",
      "921:\tlearn: 0.0273378\ttotal: 17.1s\tremaining: 1.45s\n",
      "922:\tlearn: 0.0273057\ttotal: 17.1s\tremaining: 1.43s\n",
      "923:\tlearn: 0.0272686\ttotal: 17.2s\tremaining: 1.41s\n",
      "924:\tlearn: 0.0272531\ttotal: 17.2s\tremaining: 1.39s\n",
      "925:\tlearn: 0.0272085\ttotal: 17.2s\tremaining: 1.38s\n",
      "926:\tlearn: 0.0271736\ttotal: 17.2s\tremaining: 1.36s\n",
      "927:\tlearn: 0.0271287\ttotal: 17.3s\tremaining: 1.34s\n",
      "928:\tlearn: 0.0270714\ttotal: 17.3s\tremaining: 1.32s\n",
      "929:\tlearn: 0.0270448\ttotal: 17.3s\tremaining: 1.3s\n",
      "930:\tlearn: 0.0270079\ttotal: 17.3s\tremaining: 1.28s\n",
      "931:\tlearn: 0.0269976\ttotal: 17.3s\tremaining: 1.26s\n",
      "932:\tlearn: 0.0269634\ttotal: 17.3s\tremaining: 1.25s\n",
      "933:\tlearn: 0.0269306\ttotal: 17.4s\tremaining: 1.23s\n",
      "934:\tlearn: 0.0268478\ttotal: 17.4s\tremaining: 1.21s\n",
      "935:\tlearn: 0.0267961\ttotal: 17.4s\tremaining: 1.19s\n",
      "936:\tlearn: 0.0267528\ttotal: 17.4s\tremaining: 1.17s\n",
      "937:\tlearn: 0.0266972\ttotal: 17.4s\tremaining: 1.15s\n",
      "938:\tlearn: 0.0266553\ttotal: 17.5s\tremaining: 1.13s\n",
      "939:\tlearn: 0.0266444\ttotal: 17.5s\tremaining: 1.11s\n",
      "940:\tlearn: 0.0266019\ttotal: 17.5s\tremaining: 1.1s\n",
      "941:\tlearn: 0.0265556\ttotal: 17.5s\tremaining: 1.08s\n",
      "942:\tlearn: 0.0264903\ttotal: 17.5s\tremaining: 1.06s\n",
      "943:\tlearn: 0.0264749\ttotal: 17.5s\tremaining: 1.04s\n",
      "944:\tlearn: 0.0264594\ttotal: 17.6s\tremaining: 1.02s\n",
      "945:\tlearn: 0.0264281\ttotal: 17.6s\tremaining: 1s\n",
      "946:\tlearn: 0.0263977\ttotal: 17.6s\tremaining: 984ms\n",
      "947:\tlearn: 0.0263680\ttotal: 17.6s\tremaining: 966ms\n",
      "948:\tlearn: 0.0263108\ttotal: 17.6s\tremaining: 947ms\n",
      "949:\tlearn: 0.0262525\ttotal: 17.6s\tremaining: 928ms\n",
      "950:\tlearn: 0.0262139\ttotal: 17.7s\tremaining: 910ms\n",
      "951:\tlearn: 0.0261762\ttotal: 17.7s\tremaining: 891ms\n",
      "952:\tlearn: 0.0261316\ttotal: 17.7s\tremaining: 872ms\n",
      "953:\tlearn: 0.0261178\ttotal: 17.7s\tremaining: 854ms\n",
      "954:\tlearn: 0.0260906\ttotal: 17.7s\tremaining: 835ms\n",
      "955:\tlearn: 0.0260721\ttotal: 17.7s\tremaining: 817ms\n",
      "956:\tlearn: 0.0260175\ttotal: 17.8s\tremaining: 798ms\n",
      "957:\tlearn: 0.0260000\ttotal: 17.8s\tremaining: 780ms\n",
      "958:\tlearn: 0.0259661\ttotal: 17.8s\tremaining: 762ms\n",
      "959:\tlearn: 0.0259227\ttotal: 17.8s\tremaining: 743ms\n",
      "960:\tlearn: 0.0258895\ttotal: 17.8s\tremaining: 724ms\n",
      "961:\tlearn: 0.0258083\ttotal: 17.9s\tremaining: 706ms\n",
      "962:\tlearn: 0.0257970\ttotal: 17.9s\tremaining: 687ms\n",
      "963:\tlearn: 0.0257729\ttotal: 17.9s\tremaining: 668ms\n",
      "964:\tlearn: 0.0257531\ttotal: 17.9s\tremaining: 650ms\n",
      "965:\tlearn: 0.0257313\ttotal: 17.9s\tremaining: 631ms\n",
      "966:\tlearn: 0.0257053\ttotal: 17.9s\tremaining: 612ms\n",
      "967:\tlearn: 0.0256754\ttotal: 18s\tremaining: 593ms\n",
      "968:\tlearn: 0.0256284\ttotal: 18s\tremaining: 575ms\n",
      "969:\tlearn: 0.0256118\ttotal: 18s\tremaining: 556ms\n",
      "970:\tlearn: 0.0255881\ttotal: 18s\tremaining: 538ms\n",
      "971:\tlearn: 0.0255730\ttotal: 18s\tremaining: 519ms\n",
      "972:\tlearn: 0.0255518\ttotal: 18s\tremaining: 501ms\n",
      "973:\tlearn: 0.0255199\ttotal: 18.1s\tremaining: 482ms\n",
      "974:\tlearn: 0.0254929\ttotal: 18.1s\tremaining: 464ms\n",
      "975:\tlearn: 0.0254567\ttotal: 18.1s\tremaining: 445ms\n",
      "976:\tlearn: 0.0254015\ttotal: 18.1s\tremaining: 426ms\n",
      "977:\tlearn: 0.0253650\ttotal: 18.1s\tremaining: 408ms\n",
      "978:\tlearn: 0.0253287\ttotal: 18.1s\tremaining: 389ms\n",
      "979:\tlearn: 0.0252976\ttotal: 18.2s\tremaining: 371ms\n",
      "980:\tlearn: 0.0252814\ttotal: 18.2s\tremaining: 352ms\n",
      "981:\tlearn: 0.0252394\ttotal: 18.2s\tremaining: 334ms\n",
      "982:\tlearn: 0.0252117\ttotal: 18.2s\tremaining: 315ms\n",
      "983:\tlearn: 0.0251644\ttotal: 18.2s\tremaining: 296ms\n",
      "984:\tlearn: 0.0251371\ttotal: 18.3s\tremaining: 278ms\n",
      "985:\tlearn: 0.0251181\ttotal: 18.3s\tremaining: 259ms\n",
      "986:\tlearn: 0.0250938\ttotal: 18.3s\tremaining: 241ms\n",
      "987:\tlearn: 0.0250747\ttotal: 18.3s\tremaining: 222ms\n",
      "988:\tlearn: 0.0250420\ttotal: 18.3s\tremaining: 204ms\n",
      "989:\tlearn: 0.0250153\ttotal: 18.4s\tremaining: 186ms\n",
      "990:\tlearn: 0.0249893\ttotal: 18.4s\tremaining: 167ms\n",
      "991:\tlearn: 0.0249568\ttotal: 18.4s\tremaining: 148ms\n"
     ]
    },
    {
     "name": "stdout",
     "output_type": "stream",
     "text": [
      "992:\tlearn: 0.0249111\ttotal: 18.4s\tremaining: 130ms\n",
      "993:\tlearn: 0.0248895\ttotal: 18.4s\tremaining: 111ms\n",
      "994:\tlearn: 0.0248445\ttotal: 18.5s\tremaining: 92.8ms\n",
      "995:\tlearn: 0.0248124\ttotal: 18.5s\tremaining: 74.2ms\n",
      "996:\tlearn: 0.0247916\ttotal: 18.5s\tremaining: 55.7ms\n",
      "997:\tlearn: 0.0247835\ttotal: 18.5s\tremaining: 37.1ms\n",
      "998:\tlearn: 0.0247660\ttotal: 18.5s\tremaining: 18.5ms\n",
      "999:\tlearn: 0.0247362\ttotal: 18.6s\tremaining: 0us\n"
     ]
    },
    {
     "data": {
      "text/plain": [
       "<catboost.core.CatBoostClassifier at 0x7fdaa17be340>"
      ]
     },
     "execution_count": 197,
     "metadata": {},
     "output_type": "execute_result"
    }
   ],
   "source": [
    "cbst = CatBoostClassifier()\n",
    "cbst.fit(pd.DataFrame(X_train), y_train)\n"
   ]
  },
  {
   "cell_type": "code",
   "execution_count": 198,
   "metadata": {},
   "outputs": [
    {
     "data": {
      "text/plain": [
       "(Counter({1.0: 27624, -1.0: 30965, 0.0: 102}), 0.9983983915762212)"
      ]
     },
     "execution_count": 198,
     "metadata": {},
     "output_type": "execute_result"
    }
   ],
   "source": [
    "Counter(cbst.predict(np.array(X_train)).ravel()), f1_score(y_train, cbst.predict(np.array(X_train)), average='micro')"
   ]
  },
  {
   "cell_type": "code",
   "execution_count": 199,
   "metadata": {},
   "outputs": [
    {
     "data": {
      "text/plain": [
       "(Counter({1.0: 7293, -1.0: 12270}), 0.6801615294177784)"
      ]
     },
     "execution_count": 199,
     "metadata": {},
     "output_type": "execute_result"
    }
   ],
   "source": [
    "Counter(cbst.predict(X_test).ravel()), f1_score(y_test, cbst.predict(X_test), average='micro')"
   ]
  },
  {
   "cell_type": "code",
   "execution_count": 200,
   "metadata": {
    "scrolled": false
   },
   "outputs": [
    {
     "name": "stdout",
     "output_type": "stream",
     "text": [
      "Feature ranking:\n",
      "1. feature TOP60 (12.034475)\n",
      "2. feature VWAP60 (10.982887)\n",
      "3. feature STD1000 (8.523850)\n",
      "4. feature RSI300 (7.684537)\n",
      "5. feature STD100 (7.402677)\n",
      "6. feature MIN60 (7.379553)\n",
      "7. feature RSI50 (7.330646)\n",
      "8. feature STD50 (5.780224)\n",
      "9. feature RSI100 (5.165776)\n",
      "10. feature RSI14 (3.825921)\n",
      "11. feature LastDealTime (3.648316)\n",
      "12. feature STD10 (3.127374)\n",
      "13. feature SMA100 (2.597528)\n",
      "14. feature Last Trade Volume (2.243574)\n",
      "15. feature VWAP30 (1.838714)\n",
      "16. feature MIN30 (1.361083)\n",
      "17. feature SMA50 (1.261381)\n",
      "18. feature SMA30 (1.140159)\n",
      "19. feature TOP30 (1.113758)\n",
      "20. feature EMA100 (0.654535)\n",
      "21. feature BidVolume1 (0.640917)\n",
      "22. feature VWAP1 (0.508751)\n",
      "23. feature EMA10 (0.490979)\n",
      "24. feature AskVolume1 (0.485899)\n",
      "25. feature MIN1 (0.424960)\n",
      "26. feature LiquidityBid (0.405970)\n",
      "27. feature EMA30 (0.311491)\n",
      "28. feature SMA10 (0.303673)\n",
      "29. feature SMA5 (0.249647)\n",
      "30. feature BidPrice1 (0.218028)\n",
      "31. feature BidLiquidityRatio (0.216729)\n",
      "32. feature EMA5 (0.197196)\n",
      "33. feature TOP1 (0.164765)\n",
      "34. feature AskPrice1 (0.158672)\n",
      "35. feature Last Trade Price (0.067214)\n",
      "36. feature LiquidityAsk (0.053647)\n",
      "37. feature isNewTrade (0.004495)\n",
      "38. feature Date (0.000000)\n",
      "39. feature Side (0.000000)\n"
     ]
    },
    {
     "data": {
      "image/png": "[encoded data removed]",
      "text/plain": [
       "<Figure size 432x288 with 1 Axes>"
      ]
     },
     "metadata": {
      "needs_background": "light"
     },
     "output_type": "display_data"
    }
   ],
   "source": [
    "get_importance(cbst, cbst.get_feature_importance())"
   ]
  },
  {
   "cell_type": "code",
   "execution_count": null,
   "metadata": {},
   "outputs": [],
   "source": []
  },
  {
   "cell_type": "code",
   "execution_count": 201,
   "metadata": {},
   "outputs": [
    {
     "data": {
      "text/plain": [
       "(58691, 39)"
      ]
     },
     "execution_count": 201,
     "metadata": {},
     "output_type": "execute_result"
    }
   ],
   "source": [
    "X_train.shape"
   ]
  },
  {
   "cell_type": "code",
   "execution_count": null,
   "metadata": {},
   "outputs": [],
   "source": []
  },
  {
   "cell_type": "markdown",
   "metadata": {},
   "source": [
    "## Тут Light auto ml\n"
   ]
  },
  {
   "cell_type": "code",
   "execution_count": 202,
   "metadata": {},
   "outputs": [
    {
     "name": "stdout",
     "output_type": "stream",
     "text": [
      "TRAIN: [    0     1     2 ... 19562 19563 19564] TEST: [19565 19566 19567 ... 39125 39126 39127]\n",
      "TRAIN: [    0     1     2 ... 39125 39126 39127] TEST: [39128 39129 39130 ... 58688 58689 58690]\n",
      "TRAIN: [    0     1     2 ... 58688 58689 58690] TEST: [58691 58692 58693 ... 78251 78252 78253]\n"
     ]
    }
   ],
   "source": [
    "for train_index, test_index in tscv.split(df):\n",
    "    print(\"TRAIN:\", train_index, \"TEST:\", test_index)\n",
    "    X_train, X_test = df.iloc[train_index], df.iloc[test_index]\n",
    "    y_train, y_test = y[train_index], y[test_index]"
   ]
  },
  {
   "cell_type": "code",
   "execution_count": 203,
   "metadata": {},
   "outputs": [],
   "source": [
    "target = \"IsUp60\"\n",
    "\n",
    "data_auto = snapschot.drop([\"IsUp30\", \"IsUp1\", \"Difference1\", \"Difference30\", \"Difference60\",\n",
    "                \"FutureVWAP1\", \"FutureVWAP30\", \"FutureVWAP60\"], axis=1)\n",
    "\n",
    "train_feat = []\n",
    "for i in range(deep):\n",
    "    train_feat += ['BidPrice'+ str(i + 1), 'BidVolume'+ str(i + 1), 'AskPrice'+ str(i + 1), 'AskVolume' + str(i + 1)]\n",
    "train_feat = ['Last Trade Price', 'Last Trade Volume', 'Side', 'isNewTrade',\n",
    "       'LastDealTime', 'Date', 'SMA5', 'SMA10', 'SMA30', 'SMA50',\n",
    "       'SMA100', 'EMA5', 'EMA10', 'EMA30', 'EMA100', 'STD10', 'STD50',\n",
    "       'STD100', 'STD1000', 'RSI14', 'RSI50', 'RSI100', 'RSI300', 'VWAP1',\n",
    "       'VWAP30', 'VWAP60', 'TOP1', 'TOP30', 'TOP60', 'MIN1', 'MIN30', 'MIN60',\n",
    "       'LiquidityBid', 'LiquidityAsk', 'BidLiquidityRatio']\n",
    "\n",
    "train = {'data': data_auto[train_feat].values,\n",
    "        'target': data_auto[target].values}\n"
   ]
  },
  {
   "cell_type": "code",
   "execution_count": 204,
   "metadata": {},
   "outputs": [],
   "source": [
    "data = X_train\n",
    "train_deat = X_train.columns\n",
    "train = {'data': data[train_feat].values,\n",
    "        'target':  y_train + 1}\n",
    "test = X_test[train_feat]"
   ]
  },
  {
   "cell_type": "code",
   "execution_count": 205,
   "metadata": {},
   "outputs": [
    {
     "data": {
      "text/plain": [
       "array([2.78890000e+03, 1.90000000e+01, 1.00000000e+00, 0.00000000e+00,\n",
       "       1.00001988e+08, 2.01503100e+07, 2.78822000e+03, 2.78786000e+03,\n",
       "       2.78685000e+03, 2.78464400e+03, 2.78304118e+03, 2.78832275e+03,\n",
       "       2.78808711e+03, 2.78732896e+03, 2.78653380e+03, 1.24515059e+00,\n",
       "       3.66852341e+00, 4.17820801e+00, 4.17820801e+00, 5.26946108e+01,\n",
       "       5.56832695e+01, 5.58030481e+01, 5.58030481e+01, 2.78493089e+03,\n",
       "       2.78196886e+03, 2.78196886e+03, 2.79400000e+03, 2.79990000e+03,\n",
       "       2.79990000e+03, 2.78720000e+03, 2.78560000e+03, 2.78210000e+03,\n",
       "       2.46000000e+02, 2.01000000e+02, 5.50335570e-01])"
      ]
     },
     "execution_count": 205,
     "metadata": {},
     "output_type": "execute_result"
    }
   ],
   "source": [
    "data[train_feat].values[0]"
   ]
  },
  {
   "cell_type": "code",
   "execution_count": 206,
   "metadata": {
    "scrolled": true
   },
   "outputs": [
    {
     "name": "stderr",
     "output_type": "stream",
     "text": [
      "sklearn doesn't support in general case f1 and will not be used.\n",
      "cb doesn't support in general case f1 and will not be used.\n"
     ]
    },
    {
     "name": "stdout",
     "output_type": "stream",
     "text": [
      "Start automl preset with listed constraints:\n",
      "- time: 1800 seconds\n",
      "- cpus: 4 cores\n",
      "- memory: 8 gb\n",
      "\n",
      "Train data shape: (58691, 36)\n",
      "Feats was rejected during automatic roles guess: []\n",
      "\n",
      "\n",
      "Layer 1 ...\n",
      "Train process start. Time left 1790.06329703331 secs\n",
      "Start fitting Lvl_0_Pipe_0_Mod_0_LinearL2 ...\n",
      "Linear model: C = 1e-05 score = 0.8800824601488823\n",
      "Linear model: C = 5e-05 score = 0.9068018647095161\n",
      "Linear model: C = 0.0001 score = 0.9154249466412026\n",
      "Linear model: C = 0.0005 score = 0.9386292137883158\n",
      "Linear model: C = 0.001 score = 0.9466210222109\n",
      "Linear model: C = 0.005 score = 0.9566302684498768\n",
      "Linear model: C = 0.01 score = 0.9561124020688779\n",
      "Linear model: C = 0.05 score = 0.9421848392132466\n",
      "Linear model: C = 1e-05 score = 0.9795151914771142\n",
      "Linear model: C = 5e-05 score = 0.9843132870191167\n",
      "Linear model: C = 0.0001 score = 0.9999085629917985\n",
      "Linear model: C = 0.0005 score = 0.9999224310793489\n",
      "Linear model: C = 0.001 score = 0.9999319938133694\n",
      "Linear model: C = 0.005 score = 0.999945777880552\n",
      "Linear model: C = 0.01 score = 0.9999489561971887\n",
      "Linear model: C = 0.05 score = 0.9999402241549932\n",
      "Linear model: C = 0.1 score = 0.9999402241549932\n",
      "Linear model: C = 1e-05 score = 0.9998605735886835\n",
      "Linear model: C = 5e-05 score = 0.9998619356980217\n",
      "Linear model: C = 0.0001 score = 0.9998632583007246\n",
      "Linear model: C = 0.0005 score = 0.9998691518247392\n",
      "Linear model: C = 0.001 score = 0.9998744281991375\n",
      "Linear model: C = 0.005 score = 0.9998837418215972\n",
      "Linear model: C = 0.01 score = 0.9998851481433388\n",
      "Linear model: C = 0.05 score = 0.9998919445727253\n",
      "Linear model: C = 0.1 score = 0.9998919445727253\n",
      "Linear model: C = 0.5 score = 0.9998919445727253\n"
     ]
    },
    {
     "name": "stderr",
     "output_type": "stream",
     "text": [
      "Model Lvl_0_Pipe_0_Mod_0_LinearL2 failed during ml_algo.fit_predict call.\n",
      "\n",
      "Number of classes in y_true not equal to the number of columns in 'y_score'\n"
     ]
    },
    {
     "ename": "AssertionError",
     "evalue": "Pipeline finished with 0 models for some reason.\nProbably one or more models failed",
     "output_type": "error",
     "traceback": [
      "\u001b[0;31m---------------------------------------------------------------------------\u001b[0m",
      "\u001b[0;31mAssertionError\u001b[0m                            Traceback (most recent call last)",
      "\u001b[0;32m<ipython-input-206-e03d4081fe4c>\u001b[0m in \u001b[0;36m<module>\u001b[0;34m\u001b[0m\n\u001b[1;32m      4\u001b[0m \u001b[0;34m\u001b[0m\u001b[0m\n\u001b[1;32m      5\u001b[0m \u001b[0mautoml\u001b[0m \u001b[0;34m=\u001b[0m \u001b[0mTabularAutoML\u001b[0m\u001b[0;34m(\u001b[0m\u001b[0mtask\u001b[0m\u001b[0;34m=\u001b[0m\u001b[0mtask\u001b[0m\u001b[0;34m,\u001b[0m \u001b[0mtimeout\u001b[0m\u001b[0;34m=\u001b[0m\u001b[0;36m60\u001b[0m \u001b[0;34m*\u001b[0m \u001b[0;36m30\u001b[0m\u001b[0;34m,\u001b[0m \u001b[0mmemory_limit\u001b[0m\u001b[0;34m=\u001b[0m\u001b[0;36m8\u001b[0m\u001b[0;34m)\u001b[0m\u001b[0;34m\u001b[0m\u001b[0;34m\u001b[0m\u001b[0m\n\u001b[0;32m----> 6\u001b[0;31m \u001b[0moof_pred\u001b[0m \u001b[0;34m=\u001b[0m \u001b[0mautoml\u001b[0m\u001b[0;34m.\u001b[0m\u001b[0mfit_predict\u001b[0m\u001b[0;34m(\u001b[0m\u001b[0mtrain\u001b[0m\u001b[0;34m,\u001b[0m \u001b[0mtrain_features\u001b[0m\u001b[0;34m=\u001b[0m\u001b[0mtrain_feat\u001b[0m\u001b[0;34m,\u001b[0m \u001b[0mroles\u001b[0m\u001b[0;34m=\u001b[0m\u001b[0;34m{\u001b[0m\u001b[0;34m'target'\u001b[0m\u001b[0;34m:\u001b[0m \u001b[0mtarget\u001b[0m\u001b[0;34m}\u001b[0m\u001b[0;34m,\u001b[0m \u001b[0mcv_iter\u001b[0m\u001b[0;34m=\u001b[0m\u001b[0mcv_iter\u001b[0m\u001b[0;34m)\u001b[0m\u001b[0;34m\u001b[0m\u001b[0;34m\u001b[0m\u001b[0m\n\u001b[0m\u001b[1;32m      7\u001b[0m \u001b[0;31m# prediction can be made on file by\u001b[0m\u001b[0;34m\u001b[0m\u001b[0;34m\u001b[0m\u001b[0;34m\u001b[0m\u001b[0m\n\u001b[1;32m      8\u001b[0m \u001b[0;31m#test = data[train_feat]\u001b[0m\u001b[0;34m\u001b[0m\u001b[0;34m\u001b[0m\u001b[0;34m\u001b[0m\u001b[0m\n",
      "\u001b[0;32m~/.local/lib/python3.8/site-packages/log_calls/log_calls.py\u001b[0m in \u001b[0;36m_deco_base_f_wrapper_\u001b[0;34m(*args, **kwargs)\u001b[0m\n\u001b[1;32m   2027\u001b[0m                 \u001b[0mt0_wall\u001b[0m \u001b[0;34m=\u001b[0m \u001b[0mwall_time_fn\u001b[0m\u001b[0;34m(\u001b[0m\u001b[0;34m)\u001b[0m\u001b[0;34m\u001b[0m\u001b[0;34m\u001b[0m\u001b[0m\n\u001b[1;32m   2028\u001b[0m                 \u001b[0mt0_process\u001b[0m \u001b[0;34m=\u001b[0m \u001b[0mprocess_time_fn\u001b[0m\u001b[0;34m(\u001b[0m\u001b[0;34m)\u001b[0m\u001b[0;34m\u001b[0m\u001b[0;34m\u001b[0m\u001b[0m\n\u001b[0;32m-> 2029\u001b[0;31m                 \u001b[0mretval\u001b[0m \u001b[0;34m=\u001b[0m \u001b[0mf\u001b[0m\u001b[0;34m(\u001b[0m\u001b[0;34m*\u001b[0m\u001b[0margs\u001b[0m\u001b[0;34m,\u001b[0m \u001b[0;34m**\u001b[0m\u001b[0mkwargs\u001b[0m\u001b[0;34m)\u001b[0m\u001b[0;34m\u001b[0m\u001b[0;34m\u001b[0m\u001b[0m\n\u001b[0m\u001b[1;32m   2030\u001b[0m                 \u001b[0mt_end_wall\u001b[0m \u001b[0;34m=\u001b[0m \u001b[0mwall_time_fn\u001b[0m\u001b[0;34m(\u001b[0m\u001b[0;34m)\u001b[0m\u001b[0;34m\u001b[0m\u001b[0;34m\u001b[0m\u001b[0m\n\u001b[1;32m   2031\u001b[0m                 \u001b[0mt_end_process\u001b[0m \u001b[0;34m=\u001b[0m \u001b[0mprocess_time_fn\u001b[0m\u001b[0;34m(\u001b[0m\u001b[0;34m)\u001b[0m\u001b[0;34m\u001b[0m\u001b[0;34m\u001b[0m\u001b[0m\n",
      "\u001b[0;32m~/.local/lib/python3.8/site-packages/lightautoml/automl/presets/tabular_presets.py\u001b[0m in \u001b[0;36mfit_predict\u001b[0;34m(self, train_data, roles, train_features, cv_iter, valid_data, valid_features)\u001b[0m\n\u001b[1;32m    407\u001b[0m             \u001b[0mdata\u001b[0m\u001b[0;34m,\u001b[0m \u001b[0m_\u001b[0m \u001b[0;34m=\u001b[0m \u001b[0mread_data\u001b[0m\u001b[0;34m(\u001b[0m\u001b[0mvalid_data\u001b[0m\u001b[0;34m,\u001b[0m \u001b[0mvalid_features\u001b[0m\u001b[0;34m,\u001b[0m \u001b[0mself\u001b[0m\u001b[0;34m.\u001b[0m\u001b[0mcpu_limit\u001b[0m\u001b[0;34m,\u001b[0m \u001b[0mself\u001b[0m\u001b[0;34m.\u001b[0m\u001b[0mread_csv_params\u001b[0m\u001b[0;34m)\u001b[0m\u001b[0;34m\u001b[0m\u001b[0;34m\u001b[0m\u001b[0m\n\u001b[1;32m    408\u001b[0m \u001b[0;34m\u001b[0m\u001b[0m\n\u001b[0;32m--> 409\u001b[0;31m         \u001b[0moof_pred\u001b[0m \u001b[0;34m=\u001b[0m \u001b[0msuper\u001b[0m\u001b[0;34m(\u001b[0m\u001b[0;34m)\u001b[0m\u001b[0;34m.\u001b[0m\u001b[0mfit_predict\u001b[0m\u001b[0;34m(\u001b[0m\u001b[0mtrain\u001b[0m\u001b[0;34m,\u001b[0m \u001b[0mroles\u001b[0m\u001b[0;34m=\u001b[0m\u001b[0mroles\u001b[0m\u001b[0;34m,\u001b[0m \u001b[0mcv_iter\u001b[0m\u001b[0;34m=\u001b[0m\u001b[0mcv_iter\u001b[0m\u001b[0;34m,\u001b[0m \u001b[0mvalid_data\u001b[0m\u001b[0;34m=\u001b[0m\u001b[0mvalid_data\u001b[0m\u001b[0;34m)\u001b[0m\u001b[0;34m\u001b[0m\u001b[0;34m\u001b[0m\u001b[0m\n\u001b[0m\u001b[1;32m    410\u001b[0m \u001b[0;34m\u001b[0m\u001b[0m\n\u001b[1;32m    411\u001b[0m         \u001b[0;32mreturn\u001b[0m \u001b[0mcast\u001b[0m\u001b[0;34m(\u001b[0m\u001b[0mNumpyDataset\u001b[0m\u001b[0;34m,\u001b[0m \u001b[0moof_pred\u001b[0m\u001b[0;34m)\u001b[0m\u001b[0;34m\u001b[0m\u001b[0;34m\u001b[0m\u001b[0m\n",
      "\u001b[0;32m~/.local/lib/python3.8/site-packages/log_calls/log_calls.py\u001b[0m in \u001b[0;36m_deco_base_f_wrapper_\u001b[0;34m(*args, **kwargs)\u001b[0m\n\u001b[1;32m   2027\u001b[0m                 \u001b[0mt0_wall\u001b[0m \u001b[0;34m=\u001b[0m \u001b[0mwall_time_fn\u001b[0m\u001b[0;34m(\u001b[0m\u001b[0;34m)\u001b[0m\u001b[0;34m\u001b[0m\u001b[0;34m\u001b[0m\u001b[0m\n\u001b[1;32m   2028\u001b[0m                 \u001b[0mt0_process\u001b[0m \u001b[0;34m=\u001b[0m \u001b[0mprocess_time_fn\u001b[0m\u001b[0;34m(\u001b[0m\u001b[0;34m)\u001b[0m\u001b[0;34m\u001b[0m\u001b[0;34m\u001b[0m\u001b[0m\n\u001b[0;32m-> 2029\u001b[0;31m                 \u001b[0mretval\u001b[0m \u001b[0;34m=\u001b[0m \u001b[0mf\u001b[0m\u001b[0;34m(\u001b[0m\u001b[0;34m*\u001b[0m\u001b[0margs\u001b[0m\u001b[0;34m,\u001b[0m \u001b[0;34m**\u001b[0m\u001b[0mkwargs\u001b[0m\u001b[0;34m)\u001b[0m\u001b[0;34m\u001b[0m\u001b[0;34m\u001b[0m\u001b[0m\n\u001b[0m\u001b[1;32m   2030\u001b[0m                 \u001b[0mt_end_wall\u001b[0m \u001b[0;34m=\u001b[0m \u001b[0mwall_time_fn\u001b[0m\u001b[0;34m(\u001b[0m\u001b[0;34m)\u001b[0m\u001b[0;34m\u001b[0m\u001b[0;34m\u001b[0m\u001b[0m\n\u001b[1;32m   2031\u001b[0m                 \u001b[0mt_end_process\u001b[0m \u001b[0;34m=\u001b[0m \u001b[0mprocess_time_fn\u001b[0m\u001b[0;34m(\u001b[0m\u001b[0;34m)\u001b[0m\u001b[0;34m\u001b[0m\u001b[0;34m\u001b[0m\u001b[0m\n",
      "\u001b[0;32m~/.local/lib/python3.8/site-packages/lightautoml/automl/presets/base.py\u001b[0m in \u001b[0;36mfit_predict\u001b[0;34m(self, train_data, roles, train_features, cv_iter, valid_data, valid_features)\u001b[0m\n\u001b[1;32m    174\u001b[0m         \u001b[0mlogger\u001b[0m\u001b[0;34m.\u001b[0m\u001b[0minfo\u001b[0m\u001b[0;34m(\u001b[0m\u001b[0;34m'- memory: {} gb\\n'\u001b[0m\u001b[0;34m.\u001b[0m\u001b[0mformat\u001b[0m\u001b[0;34m(\u001b[0m\u001b[0mself\u001b[0m\u001b[0;34m.\u001b[0m\u001b[0mmemory_limit\u001b[0m\u001b[0;34m)\u001b[0m\u001b[0;34m)\u001b[0m\u001b[0;34m\u001b[0m\u001b[0;34m\u001b[0m\u001b[0m\n\u001b[1;32m    175\u001b[0m         \u001b[0mself\u001b[0m\u001b[0;34m.\u001b[0m\u001b[0mtimer\u001b[0m\u001b[0;34m.\u001b[0m\u001b[0mstart\u001b[0m\u001b[0;34m(\u001b[0m\u001b[0;34m)\u001b[0m\u001b[0;34m\u001b[0m\u001b[0;34m\u001b[0m\u001b[0m\n\u001b[0;32m--> 176\u001b[0;31m         \u001b[0mresult\u001b[0m \u001b[0;34m=\u001b[0m \u001b[0msuper\u001b[0m\u001b[0;34m(\u001b[0m\u001b[0;34m)\u001b[0m\u001b[0;34m.\u001b[0m\u001b[0mfit_predict\u001b[0m\u001b[0;34m(\u001b[0m\u001b[0mtrain_data\u001b[0m\u001b[0;34m,\u001b[0m \u001b[0mroles\u001b[0m\u001b[0;34m,\u001b[0m \u001b[0mtrain_features\u001b[0m\u001b[0;34m,\u001b[0m \u001b[0mcv_iter\u001b[0m\u001b[0;34m,\u001b[0m \u001b[0mvalid_data\u001b[0m\u001b[0;34m,\u001b[0m \u001b[0mvalid_features\u001b[0m\u001b[0;34m)\u001b[0m\u001b[0;34m\u001b[0m\u001b[0;34m\u001b[0m\u001b[0m\n\u001b[0m\u001b[1;32m    177\u001b[0m         \u001b[0mlogger\u001b[0m\u001b[0;34m.\u001b[0m\u001b[0minfo\u001b[0m\u001b[0;34m(\u001b[0m\u001b[0;34m'\\nAutoml preset training completed in {:.2f} seconds.'\u001b[0m\u001b[0;34m.\u001b[0m\u001b[0mformat\u001b[0m\u001b[0;34m(\u001b[0m\u001b[0mself\u001b[0m\u001b[0;34m.\u001b[0m\u001b[0mtimer\u001b[0m\u001b[0;34m.\u001b[0m\u001b[0mtime_spent\u001b[0m\u001b[0;34m)\u001b[0m\u001b[0;34m)\u001b[0m\u001b[0;34m\u001b[0m\u001b[0;34m\u001b[0m\u001b[0m\n\u001b[1;32m    178\u001b[0m \u001b[0;34m\u001b[0m\u001b[0m\n",
      "\u001b[0;32m~/.local/lib/python3.8/site-packages/log_calls/log_calls.py\u001b[0m in \u001b[0;36m_deco_base_f_wrapper_\u001b[0;34m(*args, **kwargs)\u001b[0m\n\u001b[1;32m   2027\u001b[0m                 \u001b[0mt0_wall\u001b[0m \u001b[0;34m=\u001b[0m \u001b[0mwall_time_fn\u001b[0m\u001b[0;34m(\u001b[0m\u001b[0;34m)\u001b[0m\u001b[0;34m\u001b[0m\u001b[0;34m\u001b[0m\u001b[0m\n\u001b[1;32m   2028\u001b[0m                 \u001b[0mt0_process\u001b[0m \u001b[0;34m=\u001b[0m \u001b[0mprocess_time_fn\u001b[0m\u001b[0;34m(\u001b[0m\u001b[0;34m)\u001b[0m\u001b[0;34m\u001b[0m\u001b[0;34m\u001b[0m\u001b[0m\n\u001b[0;32m-> 2029\u001b[0;31m                 \u001b[0mretval\u001b[0m \u001b[0;34m=\u001b[0m \u001b[0mf\u001b[0m\u001b[0;34m(\u001b[0m\u001b[0;34m*\u001b[0m\u001b[0margs\u001b[0m\u001b[0;34m,\u001b[0m \u001b[0;34m**\u001b[0m\u001b[0mkwargs\u001b[0m\u001b[0;34m)\u001b[0m\u001b[0;34m\u001b[0m\u001b[0;34m\u001b[0m\u001b[0m\n\u001b[0m\u001b[1;32m   2030\u001b[0m                 \u001b[0mt_end_wall\u001b[0m \u001b[0;34m=\u001b[0m \u001b[0mwall_time_fn\u001b[0m\u001b[0;34m(\u001b[0m\u001b[0;34m)\u001b[0m\u001b[0;34m\u001b[0m\u001b[0;34m\u001b[0m\u001b[0m\n\u001b[1;32m   2031\u001b[0m                 \u001b[0mt_end_process\u001b[0m \u001b[0;34m=\u001b[0m \u001b[0mprocess_time_fn\u001b[0m\u001b[0;34m(\u001b[0m\u001b[0;34m)\u001b[0m\u001b[0;34m\u001b[0m\u001b[0;34m\u001b[0m\u001b[0m\n",
      "\u001b[0;32m~/.local/lib/python3.8/site-packages/lightautoml/automl/base.py\u001b[0m in \u001b[0;36mfit_predict\u001b[0;34m(self, train_data, roles, train_features, cv_iter, valid_data, valid_features)\u001b[0m\n\u001b[1;32m    184\u001b[0m             \u001b[0;32mfor\u001b[0m \u001b[0mk\u001b[0m\u001b[0;34m,\u001b[0m \u001b[0mml_pipe\u001b[0m \u001b[0;32min\u001b[0m \u001b[0menumerate\u001b[0m\u001b[0;34m(\u001b[0m\u001b[0mlevel\u001b[0m\u001b[0;34m)\u001b[0m\u001b[0;34m:\u001b[0m\u001b[0;34m\u001b[0m\u001b[0;34m\u001b[0m\u001b[0m\n\u001b[1;32m    185\u001b[0m \u001b[0;34m\u001b[0m\u001b[0m\n\u001b[0;32m--> 186\u001b[0;31m                 \u001b[0mpipe_pred\u001b[0m \u001b[0;34m=\u001b[0m \u001b[0mml_pipe\u001b[0m\u001b[0;34m.\u001b[0m\u001b[0mfit_predict\u001b[0m\u001b[0;34m(\u001b[0m\u001b[0mtrain_valid\u001b[0m\u001b[0;34m)\u001b[0m\u001b[0;34m\u001b[0m\u001b[0;34m\u001b[0m\u001b[0m\n\u001b[0m\u001b[1;32m    187\u001b[0m                 \u001b[0mlevel_predictions\u001b[0m\u001b[0;34m.\u001b[0m\u001b[0mappend\u001b[0m\u001b[0;34m(\u001b[0m\u001b[0mpipe_pred\u001b[0m\u001b[0;34m)\u001b[0m\u001b[0;34m\u001b[0m\u001b[0;34m\u001b[0m\u001b[0m\n\u001b[1;32m    188\u001b[0m                 \u001b[0mpipes\u001b[0m\u001b[0;34m.\u001b[0m\u001b[0mappend\u001b[0m\u001b[0;34m(\u001b[0m\u001b[0mml_pipe\u001b[0m\u001b[0;34m)\u001b[0m\u001b[0;34m\u001b[0m\u001b[0;34m\u001b[0m\u001b[0m\n",
      "\u001b[0;32m~/.local/lib/python3.8/site-packages/log_calls/log_calls.py\u001b[0m in \u001b[0;36m_deco_base_f_wrapper_\u001b[0;34m(*args, **kwargs)\u001b[0m\n\u001b[1;32m   2027\u001b[0m                 \u001b[0mt0_wall\u001b[0m \u001b[0;34m=\u001b[0m \u001b[0mwall_time_fn\u001b[0m\u001b[0;34m(\u001b[0m\u001b[0;34m)\u001b[0m\u001b[0;34m\u001b[0m\u001b[0;34m\u001b[0m\u001b[0m\n\u001b[1;32m   2028\u001b[0m                 \u001b[0mt0_process\u001b[0m \u001b[0;34m=\u001b[0m \u001b[0mprocess_time_fn\u001b[0m\u001b[0;34m(\u001b[0m\u001b[0;34m)\u001b[0m\u001b[0;34m\u001b[0m\u001b[0;34m\u001b[0m\u001b[0m\n\u001b[0;32m-> 2029\u001b[0;31m                 \u001b[0mretval\u001b[0m \u001b[0;34m=\u001b[0m \u001b[0mf\u001b[0m\u001b[0;34m(\u001b[0m\u001b[0;34m*\u001b[0m\u001b[0margs\u001b[0m\u001b[0;34m,\u001b[0m \u001b[0;34m**\u001b[0m\u001b[0mkwargs\u001b[0m\u001b[0;34m)\u001b[0m\u001b[0;34m\u001b[0m\u001b[0;34m\u001b[0m\u001b[0m\n\u001b[0m\u001b[1;32m   2030\u001b[0m                 \u001b[0mt_end_wall\u001b[0m \u001b[0;34m=\u001b[0m \u001b[0mwall_time_fn\u001b[0m\u001b[0;34m(\u001b[0m\u001b[0;34m)\u001b[0m\u001b[0;34m\u001b[0m\u001b[0;34m\u001b[0m\u001b[0m\n\u001b[1;32m   2031\u001b[0m                 \u001b[0mt_end_process\u001b[0m \u001b[0;34m=\u001b[0m \u001b[0mprocess_time_fn\u001b[0m\u001b[0;34m(\u001b[0m\u001b[0;34m)\u001b[0m\u001b[0;34m\u001b[0m\u001b[0;34m\u001b[0m\u001b[0m\n",
      "\u001b[0;32m~/.local/lib/python3.8/site-packages/lightautoml/pipelines/ml/base.py\u001b[0m in \u001b[0;36mfit_predict\u001b[0;34m(self, train_valid)\u001b[0m\n\u001b[1;32m    129\u001b[0m                 \u001b[0mpredictions\u001b[0m\u001b[0;34m.\u001b[0m\u001b[0mappend\u001b[0m\u001b[0;34m(\u001b[0m\u001b[0mpreds\u001b[0m\u001b[0;34m)\u001b[0m\u001b[0;34m\u001b[0m\u001b[0;34m\u001b[0m\u001b[0m\n\u001b[1;32m    130\u001b[0m \u001b[0;34m\u001b[0m\u001b[0m\n\u001b[0;32m--> 131\u001b[0;31m         \u001b[0;32massert\u001b[0m \u001b[0mlen\u001b[0m\u001b[0;34m(\u001b[0m\u001b[0mpredictions\u001b[0m\u001b[0;34m)\u001b[0m \u001b[0;34m>\u001b[0m \u001b[0;36m0\u001b[0m\u001b[0;34m,\u001b[0m \u001b[0;34m'Pipeline finished with 0 models for some reason.\\nProbably one or more models failed'\u001b[0m\u001b[0;34m\u001b[0m\u001b[0;34m\u001b[0m\u001b[0m\n\u001b[0m\u001b[1;32m    132\u001b[0m \u001b[0;34m\u001b[0m\u001b[0m\n\u001b[1;32m    133\u001b[0m         \u001b[0mpredictions\u001b[0m \u001b[0;34m=\u001b[0m \u001b[0mconcatenate\u001b[0m\u001b[0;34m(\u001b[0m\u001b[0mpredictions\u001b[0m\u001b[0;34m)\u001b[0m\u001b[0;34m\u001b[0m\u001b[0;34m\u001b[0m\u001b[0m\n",
      "\u001b[0;31mAssertionError\u001b[0m: Pipeline finished with 0 models for some reason.\nProbably one or more models failed"
     ]
    }
   ],
   "source": [
    "cv_iter = TimeSeriesIterator(np.array(snapschot.Time)[train_index].astype('datetime64[ns]'), n_splits=5, sorted_kfold=False)\n",
    "\n",
    "task = Task('multiclass', loss=\"f1\", metric=\"auc\")\n",
    "\n",
    "automl = TabularAutoML(task=task, timeout=60 * 30, memory_limit=8)\n",
    "oof_pred = automl.fit_predict(train, train_features=train_feat, roles={'target': target}, cv_iter=cv_iter)\n",
    "# prediction can be made on file by\n",
    "#test = data[train_feat]\n",
    "test.to_csv('temp_test_data.csv', index=False)\n",
    "test_pred = automl.predict('temp_test_data.csv', batch_size=20000, n_jobs=8)\n",
    "\n",
    "print('Check scores...')\n",
    "oof_prediction = oof_pred.data[:, 0]\n",
    "not_empty = np.logical_not(np.isnan(oof_prediction))\n",
    "\n"
   ]
  },
  {
   "cell_type": "code",
   "execution_count": null,
   "metadata": {},
   "outputs": [],
   "source": [
    "data[train_feat].to_csv('temp_train_data.csv', index=False)\n",
    "train_pred = automl.predict('temp_train_data.csv', batch_size=20000, n_jobs=6)\n",
    "\n",
    "print('Check scores...')\n"
   ]
  },
  {
   "cell_type": "code",
   "execution_count": null,
   "metadata": {},
   "outputs": [],
   "source": [
    "oof_pred "
   ]
  },
  {
   "cell_type": "code",
   "execution_count": null,
   "metadata": {},
   "outputs": [],
   "source": [
    "print('OOF score: {}'.format(f1_score(y_train + 1, np.argmax(train_pred.data, axis=1), average='micro')))\n",
    "print('TEST score: {}'.format(f1_score(y_test + 1, np.argmax(test_pred.data, axis=1), average='micro')))"
   ]
  },
  {
   "cell_type": "code",
   "execution_count": null,
   "metadata": {},
   "outputs": [],
   "source": [
    "(Counter(np.argmax(train_pred.data, axis=1) -  y_train - 1), \n",
    "Counter(np.argmax(test_pred.data, axis=1) -  y_test - 1))"
   ]
  },
  {
   "cell_type": "code",
   "execution_count": null,
   "metadata": {},
   "outputs": [],
   "source": [
    "Counter(np.argmax(train_pred.data, axis=1)), Counter(y_train)"
   ]
  },
  {
   "cell_type": "code",
   "execution_count": null,
   "metadata": {},
   "outputs": [],
   "source": [
    "Counter(np.argmax(test_pred.data, axis=1)), Counter(y_test)"
   ]
  },
  {
   "cell_type": "markdown",
   "metadata": {},
   "source": [
    "# AutoML вторая попытка"
   ]
  },
  {
   "cell_type": "code",
   "execution_count": 207,
   "metadata": {},
   "outputs": [],
   "source": [
    "import numpy as np\n",
    "import pandas as pd\n",
    "from sklearn.metrics import roc_auc_score, log_loss\n",
    "from sklearn.model_selection import train_test_split\n",
    "import torch\n",
    "\n",
    "# Imports from our package\n",
    "from lightautoml.automl.base import AutoML\n",
    "from lightautoml.automl.blend import WeightedBlender\n",
    "from lightautoml.ml_algo.boost_lgbm import BoostLGBM\n",
    "from lightautoml.ml_algo.linear_sklearn import LinearLBFGS\n",
    "from lightautoml.ml_algo.tuning.optuna import OptunaTuner\n",
    "from lightautoml.pipelines.features.lgb_pipeline import LGBSimpleFeatures, LGBAdvancedPipeline\n",
    "from lightautoml.pipelines.features.linear_pipeline import LinearFeatures\n",
    "from lightautoml.pipelines.ml.base import MLPipeline\n",
    "from lightautoml.pipelines.selection.importance_based import ModelBasedImportanceEstimator, ImportanceCutoffSelector\n",
    "from lightautoml.reader.base import PandasToPandasReader\n",
    "from lightautoml.tasks import Task\n",
    "from lightautoml.utils.profiler import Profiler\n",
    "from lightautoml.utils.timer import PipelineTimer"
   ]
  },
  {
   "cell_type": "code",
   "execution_count": 208,
   "metadata": {},
   "outputs": [],
   "source": [
    "p = Profiler()\n",
    "p.change_deco_settings({'enabled': True})\n",
    "timer = PipelineTimer(2000, mode=2)\n",
    "timer_gbm = timer.get_task_timer('gbm') # Get task timer from pipeline timer\n",
    "feat_sel_0 = LGBSimpleFeatures()\n",
    "mod_sel_0 = BoostLGBM(timer=timer_gbm)\n",
    "imp_sel_0 = ModelBasedImportanceEstimator()\n",
    "selector_0 = ImportanceCutoffSelector(feat_sel_0, mod_sel_0, imp_sel_0, cutoff=0, )\n",
    "\n",
    "feats_gbm_0 = LGBAdvancedPipeline(top_intersections=4,\n",
    "                                  output_categories=True,\n",
    "                                  feats_imp=imp_sel_0)\n",
    "timer_gbm_0 = timer.get_task_timer('gbm')\n",
    "timer_gbm_1 = timer.get_task_timer('gbm')\n",
    "\n",
    "gbm_0 = BoostLGBM(timer=timer_gbm_0)\n",
    "gbm_1 = BoostLGBM(timer=timer_gbm_1)\n",
    "\n",
    "tuner_0 = OptunaTuner(n_trials=20, timeout=30, fit_on_holdout=True)\n",
    "gbm_lvl0 = MLPipeline([\n",
    "        (gbm_0, tuner_0),\n",
    "        gbm_1\n",
    "    ],\n",
    "    pre_selection=selector_0,\n",
    "    features_pipeline=feats_gbm_0,\n",
    "    post_selection=None\n",
    ")\n",
    "\n",
    "feats_reg_0 = LinearFeatures(output_categories=True,\n",
    "                             sparse_ohe='auto')\n",
    "\n",
    "timer_reg = timer.get_task_timer('reg')\n",
    "reg_0 = LinearLBFGS(timer=timer_reg)\n",
    "\n",
    "reg_lvl0 = MLPipeline([\n",
    "        reg_0\n",
    "    ],\n",
    "    pre_selection=None,\n",
    "    features_pipeline=feats_reg_0,\n",
    "    post_selection=None\n",
    ")"
   ]
  },
  {
   "cell_type": "code",
   "execution_count": 209,
   "metadata": {},
   "outputs": [],
   "source": [
    "N_FOLDS = 5 # folds cnt for AutoML\n",
    "RANDOM_STATE = 42 # fixed random state for various reasons\n",
    "TEST_SIZE = 0.2 # Test size for metric check\n",
    "TIMEOUT = 20000 # Time in seconds for automl run\n",
    "TARGET_NAME = \"IsUp60\" # Target column name\n",
    "N_THREADS = 8 # Nubmer ot threads\n",
    "np.random.seed(RANDOM_STATE)\n",
    "torch.set_num_threads(N_THREADS)"
   ]
  },
  {
   "cell_type": "code",
   "execution_count": 210,
   "metadata": {},
   "outputs": [],
   "source": [
    "task = Task('multiclass', metric = 'crossentropy', )\n",
    "reader = PandasToPandasReader(task = task, samples = None, max_nan_rate = 1, max_constant_rate = 1,\n",
    "                              advanced_roles = True, drop_score_co = -1, n_jobs = 4)\n",
    "blender = WeightedBlender()\n",
    "automl = AutoML(reader=reader, levels=[\n",
    "    [gbm_lvl0, reg_lvl0]\n",
    "], timer=timer, blender=blender, skip_conn=False, verbose=1)"
   ]
  },
  {
   "cell_type": "code",
   "execution_count": 211,
   "metadata": {},
   "outputs": [
    {
     "data": {
      "text/html": [
       "<div>\n",
       "<style scoped>\n",
       "    .dataframe tbody tr th:only-of-type {\n",
       "        vertical-align: middle;\n",
       "    }\n",
       "\n",
       "    .dataframe tbody tr th {\n",
       "        vertical-align: top;\n",
       "    }\n",
       "\n",
       "    .dataframe thead th {\n",
       "        text-align: right;\n",
       "    }\n",
       "</style>\n",
       "<table border=\"1\" class=\"dataframe\">\n",
       "  <thead>\n",
       "    <tr style=\"text-align: right;\">\n",
       "      <th></th>\n",
       "      <th>BidPrice1</th>\n",
       "      <th>BidVolume1</th>\n",
       "      <th>AskPrice1</th>\n",
       "      <th>AskVolume1</th>\n",
       "      <th>Last Trade Price</th>\n",
       "      <th>Last Trade Volume</th>\n",
       "      <th>Side</th>\n",
       "      <th>isNewTrade</th>\n",
       "      <th>LastDealTime</th>\n",
       "      <th>Date</th>\n",
       "      <th>...</th>\n",
       "      <th>TOP1</th>\n",
       "      <th>TOP30</th>\n",
       "      <th>TOP60</th>\n",
       "      <th>MIN1</th>\n",
       "      <th>MIN30</th>\n",
       "      <th>MIN60</th>\n",
       "      <th>LiquidityBid</th>\n",
       "      <th>LiquidityAsk</th>\n",
       "      <th>BidLiquidityRatio</th>\n",
       "      <th>IsUp60</th>\n",
       "    </tr>\n",
       "  </thead>\n",
       "  <tbody>\n",
       "    <tr>\n",
       "      <th>0</th>\n",
       "      <td>2787.2</td>\n",
       "      <td>246.0</td>\n",
       "      <td>2789.0</td>\n",
       "      <td>201.0</td>\n",
       "      <td>2788.9</td>\n",
       "      <td>19.0</td>\n",
       "      <td>1.0</td>\n",
       "      <td>0.0</td>\n",
       "      <td>100001988.0</td>\n",
       "      <td>20150310.0</td>\n",
       "      <td>...</td>\n",
       "      <td>2794.0</td>\n",
       "      <td>2799.9</td>\n",
       "      <td>2799.9</td>\n",
       "      <td>2787.2</td>\n",
       "      <td>2785.6</td>\n",
       "      <td>2782.1</td>\n",
       "      <td>246.0</td>\n",
       "      <td>201.0</td>\n",
       "      <td>0.550336</td>\n",
       "      <td>1.0</td>\n",
       "    </tr>\n",
       "  </tbody>\n",
       "</table>\n",
       "<p>1 rows × 41 columns</p>\n",
       "</div>"
      ],
      "text/plain": [
       "   BidPrice1  BidVolume1  AskPrice1  AskVolume1  Last Trade Price  \\\n",
       "0     2787.2       246.0     2789.0       201.0            2788.9   \n",
       "\n",
       "   Last Trade Volume  Side  isNewTrade  LastDealTime        Date  ...    TOP1  \\\n",
       "0               19.0   1.0         0.0   100001988.0  20150310.0  ...  2794.0   \n",
       "\n",
       "    TOP30   TOP60    MIN1   MIN30   MIN60  LiquidityBid  LiquidityAsk  \\\n",
       "0  2799.9  2799.9  2787.2  2785.6  2782.1         246.0         201.0   \n",
       "\n",
       "   BidLiquidityRatio  IsUp60  \n",
       "0           0.550336     1.0  \n",
       "\n",
       "[1 rows x 41 columns]"
      ]
     },
     "execution_count": 211,
     "metadata": {},
     "output_type": "execute_result"
    }
   ],
   "source": [
    "data_auto.reset_index(drop=True, inplace=True)\n",
    "data_auto.head(1)"
   ]
  },
  {
   "cell_type": "code",
   "execution_count": 212,
   "metadata": {},
   "outputs": [],
   "source": [
    "train_data, test_data = train_test_split(data_auto,\n",
    "                                         test_size=TEST_SIZE,\n",
    "                                         stratify=data_auto[TARGET_NAME],\n",
    "                                         random_state=RANDOM_STATE)"
   ]
  },
  {
   "cell_type": "code",
   "execution_count": 213,
   "metadata": {
    "scrolled": true
   },
   "outputs": [
    {
     "name": "stdout",
     "output_type": "stream",
     "text": [
      "oof_pred:\n",
      "array([[9.9999416e-01, 5.4799048e-06, 3.5754309e-07],\n",
      "       [5.6801719e-06, 9.9999392e-01, 3.9456748e-07],\n",
      "       [9.9965936e-01, 1.8891254e-04, 1.5172421e-04],\n",
      "       ...,\n",
      "       [1.4248422e-03, 9.9850160e-01, 7.3600837e-05],\n",
      "       [9.0294321e-05, 9.9990690e-01, 2.8336322e-06],\n",
      "       [9.9996495e-01, 3.4460303e-05, 5.2037291e-07]], dtype=float32)\n",
      "Shape = (62603, 3)\n",
      "CPU times: user 8min 36s, sys: 4.7 s, total: 8min 40s\n",
      "Wall time: 2min 32s\n"
     ]
    }
   ],
   "source": [
    "%%time\n",
    "oof_pred = automl.fit_predict(train_data, roles={'target': TARGET_NAME})\n",
    "print('oof_pred:\\n{}\\nShape = {}'.format(oof_pred, oof_pred.shape))"
   ]
  },
  {
   "cell_type": "code",
   "execution_count": 214,
   "metadata": {},
   "outputs": [],
   "source": [
    "test_pred = automl.predict(test_data)"
   ]
  },
  {
   "cell_type": "code",
   "execution_count": 215,
   "metadata": {},
   "outputs": [
    {
     "name": "stdout",
     "output_type": "stream",
     "text": [
      "Prediction for test data:\n",
      "array([[1.3285122e-05, 9.9998635e-01, 3.7133077e-07],\n",
      "       [9.9998373e-01, 1.5992404e-05, 3.6164053e-07],\n",
      "       [3.6053865e-05, 9.9996209e-01, 1.8783663e-06],\n",
      "       ...,\n",
      "       [1.5517006e-02, 9.8428547e-01, 1.9754635e-04],\n",
      "       [1.8596090e-03, 9.9807990e-01, 6.0535684e-05],\n",
      "       [2.3496428e-05, 9.9997276e-01, 3.8601206e-06]], dtype=float32)\n",
      "Shape = (15651, 3)\n",
      "Check scores...\n",
      "OOF score: 11.06461020045926\n",
      "TEST score: 11.284950234955652\n",
      "OOF f1 score: 0.5050876156094756\n",
      "TEST f1 score: 0.505399016037314\n"
     ]
    }
   ],
   "source": [
    "\n",
    "print('Prediction for test data:\\n{}\\nShape = {}'\n",
    "              .format(test_pred, test_pred.shape))\n",
    "\n",
    "print('Check scores...')\n",
    "print('OOF score: {}'.format(log_loss(train_data[TARGET_NAME].values, oof_pred.data)))\n",
    "print('TEST score: {}'.format(log_loss(test_data[TARGET_NAME].values, test_pred.data)))\n",
    "print('OOF f1 score: {}'.format(f1_score(train_data[TARGET_NAME].values, -(np.argmax(oof_pred.data, axis=1) - 1), average='micro')))\n",
    "print('TEST f1 score: {}'.format(f1_score(test_data[TARGET_NAME].values, -(np.argmax(test_pred.data, axis=1) - 1), average='micro')))"
   ]
  },
  {
   "cell_type": "code",
   "execution_count": 216,
   "metadata": {},
   "outputs": [
    {
     "data": {
      "text/plain": [
       "(Counter({-1: 31743, 0: 30771, 1: 89}),\n",
       " Counter({1.0: 31766, -1.0: 30749, 0.0: 88}))"
      ]
     },
     "execution_count": 216,
     "metadata": {},
     "output_type": "execute_result"
    }
   ],
   "source": [
    "Counter(np.argmax(oof_pred.data, axis=1) - 1), Counter(train_data[TARGET_NAME].values)"
   ]
  },
  {
   "cell_type": "code",
   "execution_count": 217,
   "metadata": {},
   "outputs": [
    {
     "name": "stdout",
     "output_type": "stream",
     "text": [
      "Check aucs train...\n",
      "Class 0 train auc score: 0.42551514909149074\n",
      "Class 1 train auc score: 0.0012655372779569198\n"
     ]
    },
    {
     "ename": "ValueError",
     "evalue": "Only one class present in y_true. ROC AUC score is not defined in that case.",
     "output_type": "error",
     "traceback": [
      "\u001b[0;31m---------------------------------------------------------------------------\u001b[0m",
      "\u001b[0;31mValueError\u001b[0m                                Traceback (most recent call last)",
      "\u001b[0;32m<ipython-input-217-70f4bce99e48>\u001b[0m in \u001b[0;36m<module>\u001b[0;34m\u001b[0m\n\u001b[1;32m      2\u001b[0m     \u001b[0mprint\u001b[0m\u001b[0;34m(\u001b[0m\u001b[0;34m'Check aucs {0}...'\u001b[0m\u001b[0;34m.\u001b[0m\u001b[0mformat\u001b[0m\u001b[0;34m(\u001b[0m\u001b[0mname\u001b[0m\u001b[0;34m)\u001b[0m\u001b[0;34m)\u001b[0m\u001b[0;34m\u001b[0m\u001b[0;34m\u001b[0m\u001b[0m\n\u001b[1;32m      3\u001b[0m     \u001b[0;32mfor\u001b[0m \u001b[0mcl\u001b[0m \u001b[0;32min\u001b[0m \u001b[0mrange\u001b[0m\u001b[0;34m(\u001b[0m\u001b[0;36m3\u001b[0m\u001b[0;34m)\u001b[0m\u001b[0;34m:\u001b[0m\u001b[0;34m\u001b[0m\u001b[0;34m\u001b[0m\u001b[0m\n\u001b[0;32m----> 4\u001b[0;31m         \u001b[0msc\u001b[0m \u001b[0;34m=\u001b[0m \u001b[0mroc_auc_score\u001b[0m\u001b[0;34m(\u001b[0m\u001b[0;34m(\u001b[0m\u001b[0mdf\u001b[0m\u001b[0;34m[\u001b[0m\u001b[0mTARGET_NAME\u001b[0m\u001b[0;34m]\u001b[0m\u001b[0;34m.\u001b[0m\u001b[0mvalues\u001b[0m \u001b[0;34m==\u001b[0m \u001b[0mcl\u001b[0m\u001b[0;34m)\u001b[0m\u001b[0;34m.\u001b[0m\u001b[0mastype\u001b[0m\u001b[0;34m(\u001b[0m\u001b[0mnp\u001b[0m\u001b[0;34m.\u001b[0m\u001b[0mfloat32\u001b[0m\u001b[0;34m)\u001b[0m\u001b[0;34m,\u001b[0m \u001b[0mdat\u001b[0m\u001b[0;34m.\u001b[0m\u001b[0mdata\u001b[0m\u001b[0;34m[\u001b[0m\u001b[0;34m:\u001b[0m\u001b[0;34m,\u001b[0m \u001b[0mcl\u001b[0m\u001b[0;34m]\u001b[0m\u001b[0;34m)\u001b[0m\u001b[0;34m\u001b[0m\u001b[0;34m\u001b[0m\u001b[0m\n\u001b[0m\u001b[1;32m      5\u001b[0m         \u001b[0mprint\u001b[0m\u001b[0;34m(\u001b[0m\u001b[0;34m'Class {0} {1} auc score: {2}'\u001b[0m\u001b[0;34m.\u001b[0m\u001b[0mformat\u001b[0m\u001b[0;34m(\u001b[0m\u001b[0mcl\u001b[0m\u001b[0;34m,\u001b[0m \u001b[0mname\u001b[0m\u001b[0;34m,\u001b[0m \u001b[0msc\u001b[0m\u001b[0;34m)\u001b[0m\u001b[0;34m)\u001b[0m\u001b[0;34m\u001b[0m\u001b[0;34m\u001b[0m\u001b[0m\n",
      "\u001b[0;32m/Library/anaconda3/lib/python3.8/site-packages/sklearn/utils/validation.py\u001b[0m in \u001b[0;36minner_f\u001b[0;34m(*args, **kwargs)\u001b[0m\n\u001b[1;32m     71\u001b[0m                           FutureWarning)\n\u001b[1;32m     72\u001b[0m         \u001b[0mkwargs\u001b[0m\u001b[0;34m.\u001b[0m\u001b[0mupdate\u001b[0m\u001b[0;34m(\u001b[0m\u001b[0;34m{\u001b[0m\u001b[0mk\u001b[0m\u001b[0;34m:\u001b[0m \u001b[0marg\u001b[0m \u001b[0;32mfor\u001b[0m \u001b[0mk\u001b[0m\u001b[0;34m,\u001b[0m \u001b[0marg\u001b[0m \u001b[0;32min\u001b[0m \u001b[0mzip\u001b[0m\u001b[0;34m(\u001b[0m\u001b[0msig\u001b[0m\u001b[0;34m.\u001b[0m\u001b[0mparameters\u001b[0m\u001b[0;34m,\u001b[0m \u001b[0margs\u001b[0m\u001b[0;34m)\u001b[0m\u001b[0;34m}\u001b[0m\u001b[0;34m)\u001b[0m\u001b[0;34m\u001b[0m\u001b[0;34m\u001b[0m\u001b[0m\n\u001b[0;32m---> 73\u001b[0;31m         \u001b[0;32mreturn\u001b[0m \u001b[0mf\u001b[0m\u001b[0;34m(\u001b[0m\u001b[0;34m**\u001b[0m\u001b[0mkwargs\u001b[0m\u001b[0;34m)\u001b[0m\u001b[0;34m\u001b[0m\u001b[0;34m\u001b[0m\u001b[0m\n\u001b[0m\u001b[1;32m     74\u001b[0m     \u001b[0;32mreturn\u001b[0m \u001b[0minner_f\u001b[0m\u001b[0;34m\u001b[0m\u001b[0;34m\u001b[0m\u001b[0m\n\u001b[1;32m     75\u001b[0m \u001b[0;34m\u001b[0m\u001b[0m\n",
      "\u001b[0;32m/Library/anaconda3/lib/python3.8/site-packages/sklearn/metrics/_ranking.py\u001b[0m in \u001b[0;36mroc_auc_score\u001b[0;34m(y_true, y_score, average, sample_weight, max_fpr, multi_class, labels)\u001b[0m\n\u001b[1;32m    388\u001b[0m         \u001b[0mlabels\u001b[0m \u001b[0;34m=\u001b[0m \u001b[0mnp\u001b[0m\u001b[0;34m.\u001b[0m\u001b[0munique\u001b[0m\u001b[0;34m(\u001b[0m\u001b[0my_true\u001b[0m\u001b[0;34m)\u001b[0m\u001b[0;34m\u001b[0m\u001b[0;34m\u001b[0m\u001b[0m\n\u001b[1;32m    389\u001b[0m         \u001b[0my_true\u001b[0m \u001b[0;34m=\u001b[0m \u001b[0mlabel_binarize\u001b[0m\u001b[0;34m(\u001b[0m\u001b[0my_true\u001b[0m\u001b[0;34m,\u001b[0m \u001b[0mclasses\u001b[0m\u001b[0;34m=\u001b[0m\u001b[0mlabels\u001b[0m\u001b[0;34m)\u001b[0m\u001b[0;34m[\u001b[0m\u001b[0;34m:\u001b[0m\u001b[0;34m,\u001b[0m \u001b[0;36m0\u001b[0m\u001b[0;34m]\u001b[0m\u001b[0;34m\u001b[0m\u001b[0;34m\u001b[0m\u001b[0m\n\u001b[0;32m--> 390\u001b[0;31m         return _average_binary_score(partial(_binary_roc_auc_score,\n\u001b[0m\u001b[1;32m    391\u001b[0m                                              max_fpr=max_fpr),\n\u001b[1;32m    392\u001b[0m                                      \u001b[0my_true\u001b[0m\u001b[0;34m,\u001b[0m \u001b[0my_score\u001b[0m\u001b[0;34m,\u001b[0m \u001b[0maverage\u001b[0m\u001b[0;34m,\u001b[0m\u001b[0;34m\u001b[0m\u001b[0;34m\u001b[0m\u001b[0m\n",
      "\u001b[0;32m/Library/anaconda3/lib/python3.8/site-packages/sklearn/metrics/_base.py\u001b[0m in \u001b[0;36m_average_binary_score\u001b[0;34m(binary_metric, y_true, y_score, average, sample_weight)\u001b[0m\n\u001b[1;32m     75\u001b[0m \u001b[0;34m\u001b[0m\u001b[0m\n\u001b[1;32m     76\u001b[0m     \u001b[0;32mif\u001b[0m \u001b[0my_type\u001b[0m \u001b[0;34m==\u001b[0m \u001b[0;34m\"binary\"\u001b[0m\u001b[0;34m:\u001b[0m\u001b[0;34m\u001b[0m\u001b[0;34m\u001b[0m\u001b[0m\n\u001b[0;32m---> 77\u001b[0;31m         \u001b[0;32mreturn\u001b[0m \u001b[0mbinary_metric\u001b[0m\u001b[0;34m(\u001b[0m\u001b[0my_true\u001b[0m\u001b[0;34m,\u001b[0m \u001b[0my_score\u001b[0m\u001b[0;34m,\u001b[0m \u001b[0msample_weight\u001b[0m\u001b[0;34m=\u001b[0m\u001b[0msample_weight\u001b[0m\u001b[0;34m)\u001b[0m\u001b[0;34m\u001b[0m\u001b[0;34m\u001b[0m\u001b[0m\n\u001b[0m\u001b[1;32m     78\u001b[0m \u001b[0;34m\u001b[0m\u001b[0m\n\u001b[1;32m     79\u001b[0m     \u001b[0mcheck_consistent_length\u001b[0m\u001b[0;34m(\u001b[0m\u001b[0my_true\u001b[0m\u001b[0;34m,\u001b[0m \u001b[0my_score\u001b[0m\u001b[0;34m,\u001b[0m \u001b[0msample_weight\u001b[0m\u001b[0;34m)\u001b[0m\u001b[0;34m\u001b[0m\u001b[0;34m\u001b[0m\u001b[0m\n",
      "\u001b[0;32m/Library/anaconda3/lib/python3.8/site-packages/sklearn/metrics/_ranking.py\u001b[0m in \u001b[0;36m_binary_roc_auc_score\u001b[0;34m(y_true, y_score, sample_weight, max_fpr)\u001b[0m\n\u001b[1;32m    221\u001b[0m     \u001b[0;34m\"\"\"Binary roc auc score\"\"\"\u001b[0m\u001b[0;34m\u001b[0m\u001b[0;34m\u001b[0m\u001b[0m\n\u001b[1;32m    222\u001b[0m     \u001b[0;32mif\u001b[0m \u001b[0mlen\u001b[0m\u001b[0;34m(\u001b[0m\u001b[0mnp\u001b[0m\u001b[0;34m.\u001b[0m\u001b[0munique\u001b[0m\u001b[0;34m(\u001b[0m\u001b[0my_true\u001b[0m\u001b[0;34m)\u001b[0m\u001b[0;34m)\u001b[0m \u001b[0;34m!=\u001b[0m \u001b[0;36m2\u001b[0m\u001b[0;34m:\u001b[0m\u001b[0;34m\u001b[0m\u001b[0;34m\u001b[0m\u001b[0m\n\u001b[0;32m--> 223\u001b[0;31m         raise ValueError(\"Only one class present in y_true. ROC AUC score \"\n\u001b[0m\u001b[1;32m    224\u001b[0m                          \"is not defined in that case.\")\n\u001b[1;32m    225\u001b[0m \u001b[0;34m\u001b[0m\u001b[0m\n",
      "\u001b[0;31mValueError\u001b[0m: Only one class present in y_true. ROC AUC score is not defined in that case."
     ]
    }
   ],
   "source": [
    "for dat, df, name in zip([oof_pred, test_pred], [train_data, test_data], ['train', 'test']):\n",
    "    print('Check aucs {0}...'.format(name))\n",
    "    for cl in range(3):\n",
    "        sc = roc_auc_score((df[TARGET_NAME].values == cl).astype(np.float32), dat.data[:, cl])\n",
    "        print('Class {0} {1} auc score: {2}'.format(cl, name, sc))"
   ]
  },
  {
   "cell_type": "code",
   "execution_count": null,
   "metadata": {},
   "outputs": [],
   "source": [
    "p.profile('my_report_profile.html')"
   ]
  },
  {
   "cell_type": "code",
   "execution_count": null,
   "metadata": {},
   "outputs": [],
   "source": []
  },
  {
   "cell_type": "code",
   "execution_count": 375,
   "metadata": {},
   "outputs": [],
   "source": [
    "class ZeroPredict:\n",
    "    def __init__(self):\n",
    "        self.name = \"Zero Predictor\"\n",
    "    \n",
    "    def predict(self, data):\n",
    "        return 0"
   ]
  },
  {
   "cell_type": "markdown",
   "metadata": {},
   "source": [
    "# Бектест фреймворк"
   ]
  },
  {
   "cell_type": "code",
   "execution_count": 220,
   "metadata": {},
   "outputs": [],
   "source": [
    "price_step = {'GAZP': .01,'SBER': .01,'AFKS': .001,'LKOH': .5, 'SNGS': .05, 'HYDR': .0001, 'TATN': .1, 'SNGSP': .005,\n",
    "             'ROSN': .05,'RTKM': .01,'URKA': .01,'GMKN': 2, 'MTSS': .05, 'FEES': .00002, 'NLMK': .02, 'MGNT': .5,\n",
    "             'CHMF': .2, 'VTBR': .000005, 'SBERP': .01, 'ALRS': .01, 'MAGN': .005, 'MOEX': .01, 'NVTK': .2,\n",
    "             'TATNP': .1, 'IRAO': .2, 'AKRN': 2, 'PIKK': .1, 'POLY': .1, 'LSRG': .2, 'MTLR': .01}\n",
    "\n",
    "def get_params(ml_model):\n",
    "    params = dict()\n",
    "    params[\"ml_model\"] = ml_model\n",
    "    params[\"cash\"] = 50000000\n",
    "    params[\"price_step\"] = price_step\n",
    "    #params[\"share\"] = share\n",
    "    return params"
   ]
  },
  {
   "cell_type": "code",
   "execution_count": 367,
   "metadata": {},
   "outputs": [],
   "source": [
    "\"\"\"\n",
    "Basic MM\n",
    "\"\"\"\n",
    "\n",
    "\n",
    "class Basic_MM_with_ML:\n",
    "    def __init__(self, ml_model=0, spread=0.005, barriers=None, sma_len=30,\n",
    "                 basic_volume=30, price_step=.1, cash=1000000):\n",
    "        self.name = \"Basic MM with ML\"\n",
    "        self.cash = cash\n",
    "        self.first_cash = cash\n",
    "        self.equity = []\n",
    "        self.time = []\n",
    "        self.num_of_shares = 0\n",
    "        self.spread = spread\n",
    "        self.price_step = price_step\n",
    "        # self.barriers = barriers\n",
    "        self.sma_len = sma_len\n",
    "        self.ml_model = ml_model\n",
    "        self.basic_volume = basic_volume\n",
    "        self.baseline_price = None\n",
    "        self.ask_price_1 = 0\n",
    "        self.ask_volume_1 = 0\n",
    "        self.bid_price_1 = 0\n",
    "        self.bid_volume_1 = 0\n",
    "        self.bid_order_num = 0\n",
    "        self.ask_order_num = 0\n",
    "        self.bid_lst = []\n",
    "        self.ask_lst = []\n",
    "        self.raw_data = []\n",
    "        self.predictions = []\n",
    "        self.volume_lst = []\n",
    "        self.bid_last_price = None\n",
    "        self.ask_last_price = None\n",
    "        self.last_trade_num = None\n",
    "        self.trigger_time = None\n",
    "        self.latency_moex = 3\n",
    "        self.algo_params = \"\\n\\nAlgo name - \" + self.name + \"\\nSpread - \" + str(spread * 100) + \"%,\\n\" + \\\n",
    "                           \"SMA tick length - \" + str(sma_len) + \",\\n\" + \"Order volume - \" + str(basic_volume) + \\\n",
    "                           \",\\nSpeed of orders - \" + str(self.latency_moex) + \"ms.\"\n",
    "        self.share_name = \"LKOH\"\n",
    "\n",
    "    def trading(self, dom, time=100000000, first_sma=0, is_plot=False, is_PL=False):\n",
    "        if not self.baseline_price:\n",
    "            if first_sma == 0:\n",
    "                print(\"no first price\")\n",
    "                first_sma = dom.bid.peekitem(-1)\n",
    "            self.share_name = dom.share_name\n",
    "            self.create_pre_trade_value(first_sma)\n",
    "            return self.generate_orders()\n",
    "        else:\n",
    "            if len(dom.trade_log) < 3:\n",
    "                if not self.share_name:\n",
    "                    self.share_name = dom.share_name\n",
    "                    self.algo_params = \"Share name - \" + dom.share_name + self.algo_params\n",
    "                self.equity.append(self.cash + self.num_of_shares * self.baseline_price)\n",
    "            else:\n",
    "                self.equity.append(self.cash + self.num_of_shares * dom.trade_log[-1][0])\n",
    "            self.time.append(time // 100000)\n",
    "            self.volume_lst.append(self.num_of_shares * self.baseline_price)\n",
    "            if len(dom.trade_log) > 0:\n",
    "                if self.last_trade_num == dom.trade_log[-1][-2]:\n",
    "                    pass\n",
    "                elif self.trigger_time == None:\n",
    "                    self.trigger_time = int(dom.trade_log[-1][-3]) + self.latency_moex\n",
    "                elif int(self.trigger_time) + 100 > time:\n",
    "                    # print(\"dsf\")\n",
    "                    pass\n",
    "                else:\n",
    "                    # print(time)\n",
    "                    self.trigger_time = None\n",
    "                    self.last_trade_num = dom.trade_log[-1][-2]\n",
    "                    \n",
    "                    record_fake = dict()\n",
    "                    record_fake[\"TIME\"] = time\n",
    "                    record_fake[\"DATE\"] = date\n",
    "                    raw_for_predict = delete_time([construct_raw(dom, deep, self.raw_data, record_fake)])\n",
    "                    self.raw_data.append(raw_for_predict[0])\n",
    "                    self.predictions.append(self.ml_model.predict(raw_for_predict))\n",
    "                    \n",
    "                    self.calc_bid_ask(dom.trade_log)\n",
    "                    self.bid_lst.append(self.bid_price_1)\n",
    "                    self.ask_lst.append(self.ask_price_1)\n",
    "                    return self.generate_orders(time)\n",
    "            self.bid_lst.append(self.bid_price_1)\n",
    "            self.ask_lst.append(self.ask_price_1)\n",
    "        return []\n",
    "\n",
    "    def create_pre_trade_value(self, first_sma):\n",
    "        self.baseline_price = first_sma\n",
    "        self.ask_price_1 = myround(first_sma * (1 + self.spread / 2), base=self.price_step[self.share_name])\n",
    "        self.bid_price_1 = myround(first_sma * (1 - self.spread / 2), base=self.price_step[self.share_name])\n",
    "        self.ask_volume_1 = self.basic_volume\n",
    "        self.bid_volume_1 = self.basic_volume\n",
    "\n",
    "    def calc_bid_ask(self, trade_log):\n",
    "        if len(trade_log) < 3:\n",
    "            pass\n",
    "        else:\n",
    "            self.baseline_price = np.array(trade_log[-self.sma_len:])[:, 0].astype(float).mean()\n",
    "            self.ask_volume_1 = self.basic_volume\n",
    "            self.bid_volume_1 = self.basic_volume\n",
    "            predict = self.get_predict()\n",
    "            if predict == 0:\n",
    "                self.ask_price_1 = myround(self.baseline_price * (1 + self.spread / 2),\n",
    "                                           base=self.price_step[self.share_name])\n",
    "                self.bid_price_1 = myround(self.baseline_price * (1 - self.spread / 2),\n",
    "                                           base=self.price_step[self.share_name])\n",
    "            elif predict == 1:\n",
    "                self.ask_price_1 = myround(self.baseline_price * (1 + 3 * self.spread / 4),\n",
    "                                           base=self.price_step[self.share_name])\n",
    "                self.bid_price_1 = myround(self.baseline_price * (1 - self.spread / 4),\n",
    "                                           base=self.price_step[self.share_name])\n",
    "            else:\n",
    "                self.ask_price_1 = myround(self.baseline_price * (1 + self.spread / 4),\n",
    "                                           base=self.price_step[self.share_name])\n",
    "                self.bid_price_1 = myround(self.baseline_price * (1 - 3 * self.spread / 4),\n",
    "                                           base=self.price_step[self.share_name])\n",
    "                \n",
    "            \n",
    "    def get_predict(self):\n",
    "        return self.predictions[-1]\n",
    "\n",
    "    def generate_orders(self, time=100000000):\n",
    "        bid_cancel, ask_cancel, bid_place, ask_place = dict(), dict(), dict(), dict()\n",
    "        bid_cancel[\"BUYSELL\"] = \"B\"\n",
    "        bid_place[\"BUYSELL\"] = \"B\"\n",
    "        ask_cancel[\"BUYSELL\"] = \"S\"\n",
    "        ask_place[\"BUYSELL\"] = \"S\"\n",
    "        bid_cancel[\"ACTION\"] = 0\n",
    "        bid_place[\"ACTION\"] = 1\n",
    "        ask_cancel[\"ACTION\"] = 0\n",
    "        ask_place[\"ACTION\"] = 1\n",
    "\n",
    "        if self.bid_last_price:\n",
    "            bid_cancel[\"PRICE\"] = self.bid_last_price\n",
    "            bid_cancel[\"ORDERNO\"] = \"myorder\" + str(self.bid_order_num)\n",
    "            ask_cancel[\"PRICE\"] = self.ask_last_price\n",
    "            ask_cancel[\"ORDERNO\"] = \"myorder\" + str(self.ask_order_num)\n",
    "            self.bid_order_num += 1\n",
    "            self.ask_order_num += 1\n",
    "\n",
    "        bid_place[\"PRICE\"] = self.bid_price_1\n",
    "        ask_place[\"PRICE\"] = self.ask_price_1\n",
    "        bid_place[\"TIME\"] = time\n",
    "        ask_place[\"TIME\"] = time\n",
    "        bid_place[\"VOLUME\"] = self.bid_volume_1\n",
    "        ask_place[\"VOLUME\"] = self.ask_volume_1\n",
    "        bid_place[\"ORDERNO\"] = \"myorder\" + str(self.bid_order_num)\n",
    "        ask_place[\"ORDERNO\"] = \"myorder\" + str(self.ask_order_num)\n",
    "        bid_place[\"NO\"] = \"mm\"\n",
    "        ask_place[\"NO\"] = \"mm\"\n",
    "        self.bid_last_price = self.bid_price_1\n",
    "        self.ask_last_price = self.ask_price_1\n",
    "\n",
    "        if int(self.cash) < int(self.bid_price_1 * self.bid_volume_1):\n",
    "            # print(\"No cash\")\n",
    "            return [ask_cancel, ask_place]\n",
    "        elif int(self.cash) > int(self.ask_price_1 * self.ask_volume_1) + 2 * int(self.first_cash):\n",
    "            # print(\"Too much shorts\")\n",
    "            return [bid_cancel, bid_place]\n",
    "        elif self.bid_order_num != 0:\n",
    "            return [bid_cancel, ask_cancel, bid_place, ask_place]\n",
    "        else:\n",
    "            return [bid_place, ask_place]\n",
    "\n",
    "    def change_cash_share(self, new_trades):\n",
    "        if not new_trades or len(new_trades) == 0 or new_trades[0] == None:\n",
    "            return self.cash, self.num_of_shares\n",
    "        trade_log = np.array(new_trades)\n",
    "\n",
    "        active_exec = trade_log[np.where(trade_log[:, 6] == \"mm\")]\n",
    "        passive_exec = trade_log[np.where(trade_log[:, 3] == \"mm_past\")]\n",
    "\n",
    "        if active_exec.shape[0] + passive_exec.shape[0] == 0:\n",
    "            return self.cash, self.num_of_shares\n",
    "        if active_exec.shape[0] > 0:\n",
    "            self.num_of_shares += np.sum(\n",
    "                active_exec[np.where(active_exec[:, 7] == \"B\")][:, 1].astype(np.float)) - np.sum(\n",
    "                active_exec[np.where(active_exec[:, 7] == \"S\")][:, 1].astype(np.float))\n",
    "            self.cash += np.sum(active_exec[np.where(active_exec[:, 7] == \"S\")][:, 4].astype(np.float)) - np.sum(\n",
    "                active_exec[np.where(active_exec[:, 7] == \"B\")][:, 4].astype(np.float))\n",
    "        if passive_exec.shape[0] > 0:\n",
    "            self.cash += np.sum(passive_exec[np.where(passive_exec[:, 7] == \"B\")][:, 4].astype(np.float)) - np.sum(\n",
    "                passive_exec[np.where(passive_exec[:, 7] == \"S\")][:, 4].astype(np.float))\n",
    "            self.num_of_shares += np.sum(\n",
    "                passive_exec[np.where(passive_exec[:, 7] == \"S\")][:, 1].astype(np.float)) - np.sum(\n",
    "                passive_exec[np.where(passive_exec[:, 7] == \"B\")][:, 1].astype(np.float))\n",
    "\n",
    "        return self.cash, self.num_of_shares\n",
    "\n"
   ]
  },
  {
   "cell_type": "code",
   "execution_count": null,
   "metadata": {},
   "outputs": [],
   "source": []
  },
  {
   "cell_type": "code",
   "execution_count": 364,
   "metadata": {},
   "outputs": [],
   "source": [
    "date = \"20150309\"\n"
   ]
  },
  {
   "cell_type": "code",
   "execution_count": null,
   "metadata": {},
   "outputs": [],
   "source": []
  },
  {
   "cell_type": "code",
   "execution_count": null,
   "metadata": {},
   "outputs": [
    {
     "name": "stdout",
     "output_type": "stream",
     "text": [
      "Get Order log at date20150310\n"
     ]
    },
    {
     "name": "stderr",
     "output_type": "stream",
     "text": [
      " 35%|███▌      | 350392/989860 [03:44<09:43, 1095.89it/s]"
     ]
    }
   ],
   "source": [
    "params=get_params(ZeroPredict())\n",
    "model = Basic_MM_with_ML(**params)\n",
    "backtest_year(date, Matching_Engine(), model, enddate=\"20150310\", share=share,\n",
    "                                show_stat=True)\n",
    "Counter(model.predictions)"
   ]
  },
  {
   "cell_type": "code",
   "execution_count": null,
   "metadata": {},
   "outputs": [],
   "source": []
  },
  {
   "cell_type": "code",
   "execution_count": 368,
   "metadata": {
    "scrolled": false
   },
   "outputs": [
    {
     "name": "stdout",
     "output_type": "stream",
     "text": [
      "Get Order log at date20150310\n"
     ]
    },
    {
     "name": "stderr",
     "output_type": "stream",
     "text": [
      "100%|██████████| 989860/989860 [12:35<00:00, 1310.70it/s] \n"
     ]
    },
    {
     "name": "stdout",
     "output_type": "stream",
     "text": [
      "Num of historic reject -  61 , algo reject -  73\n",
      "Share - LKOH 2021-04-24 20:07:37.543304\n",
      "--- 782.322607755661 overall seconds ---\n",
      "Stats for date - 20150310\n",
      "Algo Params: \n",
      "\n",
      "\n",
      "Algo name - Basic MM with ML\n",
      "Spread - 0.5%,\n",
      "SMA tick length - 30,\n",
      "Order volume - 30,\n",
      "Speed of orders - 3ms.\n",
      "\n",
      "Num of trades -  139\n",
      "Algo turnover -  6838862.6\n",
      "P&L Gross -  -47286.3\n",
      "P&L Net(with commision) - -47833.4\n",
      "Num of bought -  1897\n",
      "Weighted average bought price -  2748.5\n",
      "Num of sold -  596\n",
      "Weighted average sold price -  2726.5\n",
      "Open Price -  2780.0\n",
      "Close price -  2722.3\n",
      "Initial cash -  50000000\n",
      "Total Return - -0.09%\n",
      "End Cash -  46411001.0\n",
      "End Equity -  49952714.0\n",
      "Max day Drawdown - -0.16%\n"
     ]
    },
    {
     "data": {
      "image/png": "[encoded data removed]",
      "text/plain": [
       "<Figure size 1440x864 with 4 Axes>"
      ]
     },
     "metadata": {},
     "output_type": "display_data"
    },
    {
     "data": {
      "text/plain": [
       "[{'Date': '20150310',\n",
       "  'Num_of_trades': 139,\n",
       "  'Algo_turnover': 6838862.6,\n",
       "  'P&L': -47286.3,\n",
       "  'Num_of_bought': 1897,\n",
       "  'WA_bought_price': 2748.5,\n",
       "  'Num_of_sold': 596,\n",
       "  'WA_sold_price': 2726.5,\n",
       "  'Open_Price': 2780.0,\n",
       "  'Close_price': 2722.3,\n",
       "  'Initial_cash': 50000000,\n",
       "  'Mean_position': 2282526.5069854883,\n",
       "  'End_Cash': 46411001.4,\n",
       "  'End_Equity': 49952713.699999996,\n",
       "  'Max_day_drawdown': -0.16,\n",
       "  'Total_Return': -0.0945726}]"
      ]
     },
     "execution_count": 368,
     "metadata": {},
     "output_type": "execute_result"
    }
   ],
   "source": [
    "params=get_params(rf)\n",
    "model = Basic_MM_with_ML(**params)\n",
    "backtest_year(date, Matching_Engine(), model, enddate=\"20150310\", share=share,\n",
    "                                show_stat=True)"
   ]
  },
  {
   "cell_type": "code",
   "execution_count": 366,
   "metadata": {},
   "outputs": [
    {
     "data": {
      "text/plain": [
       "Counter()"
      ]
     },
     "execution_count": 366,
     "metadata": {},
     "output_type": "execute_result"
    }
   ],
   "source": [
    "Counter(model.predictions)"
   ]
  },
  {
   "cell_type": "code",
   "execution_count": null,
   "metadata": {},
   "outputs": [],
   "source": [
    "params = get_params(cbst)\n",
    "model = Basic_MM_with_ML(**params)\n",
    "backtest_year(date, Matching_Engine(), model, enddate=\"20150310\", share=share,\n",
    "                                show_stat=True)"
   ]
  },
  {
   "cell_type": "code",
   "execution_count": null,
   "metadata": {},
   "outputs": [],
   "source": [
    "Counter(model.predictions)"
   ]
  },
  {
   "cell_type": "code",
   "execution_count": null,
   "metadata": {},
   "outputs": [],
   "source": [
    "params=get_params(lr)\n",
    "model = Basic_MM_with_ML(**params)\n",
    "backtest_year(date, Matching_Engine(), model, enddate=\"20150310\", share=share,\n",
    "                                show_stat=True)"
   ]
  },
  {
   "cell_type": "code",
   "execution_count": null,
   "metadata": {},
   "outputs": [],
   "source": [
    "Counter(model.predictions)"
   ]
  },
  {
   "cell_type": "code",
   "execution_count": null,
   "metadata": {},
   "outputs": [],
   "source": []
  },
  {
   "cell_type": "code",
   "execution_count": null,
   "metadata": {},
   "outputs": [],
   "source": []
  },
  {
   "cell_type": "code",
   "execution_count": null,
   "metadata": {},
   "outputs": [],
   "source": []
  },
  {
   "cell_type": "code",
   "execution_count": null,
   "metadata": {},
   "outputs": [],
   "source": []
  },
  {
   "cell_type": "code",
   "execution_count": null,
   "metadata": {},
   "outputs": [],
   "source": []
  },
  {
   "cell_type": "code",
   "execution_count": null,
   "metadata": {},
   "outputs": [],
   "source": []
  },
  {
   "cell_type": "code",
   "execution_count": null,
   "metadata": {},
   "outputs": [],
   "source": []
  },
  {
   "cell_type": "code",
   "execution_count": 345,
   "metadata": {},
   "outputs": [
    {
     "name": "stderr",
     "output_type": "stream",
     "text": [
      " 61%|██████    | 801324/1311311 [00:07<00:04, 108727.63it/s]\n"
     ]
    }
   ],
   "source": [
    "from tqdm import tqdm \n",
    "\n",
    "date = \"20150310\"\n",
    "dom = Matching_Engine()\n",
    "errors = 0\n",
    "\n",
    "isebergs = pd.read_csv(\"/Users/a185583357/Desktop/MOEX/OrderLog\" + date + \"/isebergs\" + date + \".csv\", index_col=0).to_dict()[\"vol\"]\n",
    "#TODO внедрить задержки для ММ\n",
    "latency = 3 # ms\n",
    "algo = Basic_MM_with_ML(**params)\n",
    "algo_errors = 0\n",
    "algo_orders = None\n",
    "\n",
    "for i in tqdm(range(len(records))):\n",
    "    record = records[i].copy()\n",
    "    if algo_orders and int(record[\"TIME\"]) > algo_orders[-1][\"TIME\"] + latency:\n",
    "        out_algo = []\n",
    "        for order in algo_orders:\n",
    "            order[\"DATE\"] = date\n",
    "            try:\n",
    "                order[\"SECCODE\"] = share\n",
    "                out = dom.check_order(order)\n",
    "                if out:\n",
    "                    out_algo.extend(out)\n",
    "            except KeyboardInterrupt:\n",
    "                break\n",
    "            except:\n",
    "                if order[\"ACTION\"] == 1:\n",
    "                    print(\"MAYBE Some problem, cant add order\")\n",
    "                    dom.check_order(order)\n",
    "                    \n",
    "                algo_errors += 1\n",
    "        algo_orders = None\n",
    "        if len(out_algo) > 0:\n",
    "            algo.change_cash_share(out_algo)\n",
    "   \n",
    "    if record[\"ACTION\"] == 1 and record[\"ORDERNO\"] in isebergs:\n",
    "        record[\"VOLUME\"] = isebergs[record[\"ORDERNO\"]]\n",
    "    try:\n",
    "        out = dom.check_order(record)\n",
    "        algo.change_cash_share(out)\n",
    "    except KeyboardInterrupt:\n",
    "        break\n",
    "    except:\n",
    "        if record[\"ACTION\"] == 1:\n",
    "            print(\"MAYBE Some problem, cant add record\")\n",
    "            #dom.check_order(record)\n",
    "            raise Exception\n",
    "        errors += 1\n",
    "    if not algo_orders:\n",
    "        algo_orders = algo.trading(dom, time=record[\"TIME\"], first_sma=max(records[1001][\"PRICE\"], records[1000][\"PRICE\"]))"
   ]
  },
  {
   "cell_type": "code",
   "execution_count": 343,
   "metadata": {},
   "outputs": [
    {
     "data": {
      "text/plain": [
       "[array([[2.71000000e+03, 4.50000000e+01, 2.72750000e+03, 3.50000000e+02,\n",
       "         2.71000000e+03, 5.00000000e+00, 1.00000000e+00, 0.00000000e+00,\n",
       "         1.00001441e+08, 2.01503100e+07, 0.00000000e+00, 0.00000000e+00,\n",
       "         0.00000000e+00, 0.00000000e+00, 0.00000000e+00, 0.00000000e+00,\n",
       "         0.00000000e+00, 0.00000000e+00, 0.00000000e+00, 0.00000000e+00,\n",
       "         0.00000000e+00, 0.00000000e+00, 0.00000000e+00, 0.00000000e+00,\n",
       "         0.00000000e+00, 0.00000000e+00, 0.00000000e+00, 0.00000000e+00,\n",
       "         0.00000000e+00, 0.00000000e+00, 0.00000000e+00, 0.00000000e+00,\n",
       "         0.00000000e+00, 0.00000000e+00, 0.00000000e+00, 0.00000000e+00,\n",
       "         0.00000000e+00, 0.00000000e+00, 0.00000000e+00]])]"
      ]
     },
     "execution_count": 343,
     "metadata": {},
     "output_type": "execute_result"
    }
   ],
   "source": [
    "algo.raw_data"
   ]
  },
  {
   "cell_type": "code",
   "execution_count": null,
   "metadata": {},
   "outputs": [],
   "source": [
    "algo."
   ]
  }
 ],
 "metadata": {
  "kernelspec": {
   "display_name": "Python 3",
   "language": "python",
   "name": "python3"
  },
  "language_info": {
   "codemirror_mode": {
    "name": "ipython",
    "version": 3
   },
   "file_extension": ".py",
   "mimetype": "text/x-python",
   "name": "python",
   "nbconvert_exporter": "python",
   "pygments_lexer": "ipython3",
   "version": "3.8.5"
  }
 },
 "nbformat": 4,
 "nbformat_minor": 4
}
